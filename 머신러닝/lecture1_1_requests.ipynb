{
 "cells": [
  {
   "cell_type": "markdown",
   "metadata": {},
   "source": [
    "# Requests\n",
    "\n",
    "Python에서 HTTP 요청을 보내는 패키지\n"
   ]
  },
  {
   "cell_type": "code",
   "execution_count": 2,
   "metadata": {},
   "outputs": [],
   "source": [
    "import requests"
   ]
  },
  {
   "cell_type": "markdown",
   "metadata": {},
   "source": [
    "## HTTP Method 종류\n",
    "1. GET\n",
    "\n",
    "    GET 요청 방식은 URI(URL)가 가진 정보를 검색하기 위해 서버 측에 요청하는 형태이다  \n",
    "    &rarr; 데이터를 받아온다.\n",
    "    \n",
    "1. POST\n",
    "\n",
    "    POST 요청 방식은 요청 URI(URL)에 폼 입력을 처리.  \n",
    "    헤더 정보에 포함되지 않고 데이터 부분에 요청 정보가 들어가게 된다.  \n",
    "    &rarr; 데이터를 입력(전달)한다. (+ 입력에 따른 결과 데이터를 받아온다.)\n",
    "    \n",
    "1. HEAD\n",
    "\n",
    "    HEAD 요청 방식은 GET과 유사한 방식이나 웹 서버에서 헤더 정보 이외에는 어떤 데이터도 보내지 않는다.  \n",
    "    웹 서버의 다운 여부 점검(Health Check)이나 웹 서버 정보(버전 등)등을 얻기 위해 사용될 수 있다.  \n",
    "    &rarr; 헤더 데이터만 받아온다\n",
    "\n",
    "1. PUT\n",
    "\n",
    "    요청된 자원을 수정(UPDATE)한다.  \n",
    "    &rarr; 데이터를 수정한다.\n",
    "\n",
    "1. DELETE\n",
    "\n",
    "    격지 웹 서버에 파일을 삭제하기 위해 사용되며 PUT과는 반대 개념의 메소드이다.  \n",
    "    &rarr; 데이터를 삭제한다.\n",
    "\n",
    "\n",
    "\n",
    "Reference.  \n",
    "- https://gyrfalcon.tistory.com/entry/HTTP-응답-코드-종류-HTTP-메소드-종류  \n",
    "- https://javaplant.tistory.com/18"
   ]
  },
  {
   "cell_type": "markdown",
   "metadata": {},
   "source": [
    "## HTTP Status Code"
   ]
  },
  {
   "cell_type": "markdown",
   "metadata": {},
   "source": [
    "![title](HTTP_status_code.png)"
   ]
  },
  {
   "cell_type": "markdown",
   "metadata": {},
   "source": [
    "Reference.  \n",
    "- https://javaplant.tistory.com/18"
   ]
  },
  {
   "cell_type": "markdown",
   "metadata": {},
   "source": [
    "### GET without parameter\n",
    "\n",
    "Chrome Extension 예시   https://chrome.google.com/webstore/detail/jsonview/chklaanhfefbnpoihckbnefhakgolnmc"
   ]
  },
  {
   "cell_type": "code",
   "execution_count": 3,
   "metadata": {},
   "outputs": [
    {
     "data": {
      "text/plain": [
       "<Response [200]>"
      ]
     },
     "execution_count": 3,
     "metadata": {},
     "output_type": "execute_result"
    }
   ],
   "source": [
    "url = 'http://ddragon.leagueoflegends.com/cdn/11.2.1/data/en_US/champion.json'\n",
    "resp = requests.get(url)\n",
    "resp"
   ]
  },
  {
   "cell_type": "code",
   "execution_count": 5,
   "metadata": {},
   "outputs": [
    {
     "data": {
      "text/plain": [
       "'http://ddragon.leagueoflegends.com/cdn/11.2.1/data/en_US/champion.json'"
      ]
     },
     "execution_count": 5,
     "metadata": {},
     "output_type": "execute_result"
    }
   ],
   "source": [
    "url"
   ]
  },
  {
   "cell_type": "code",
   "execution_count": 6,
   "metadata": {},
   "outputs": [
    {
     "data": {
      "text/plain": [
       "200"
      ]
     },
     "execution_count": 6,
     "metadata": {},
     "output_type": "execute_result"
    }
   ],
   "source": [
    "resp.status_code"
   ]
  },
  {
   "cell_type": "code",
   "execution_count": 7,
   "metadata": {},
   "outputs": [
    {
     "data": {
      "text/plain": [
       "dict_keys(['type', 'format', 'version', 'data'])"
      ]
     },
     "execution_count": 7,
     "metadata": {},
     "output_type": "execute_result"
    }
   ],
   "source": [
    "json_resp = resp.json()  # json response일 경우 dict로 변환\n",
    "json_resp.keys()"
   ]
  },
  {
   "cell_type": "code",
   "execution_count": 24,
   "metadata": {},
   "outputs": [
    {
     "data": {
      "text/plain": [
       "'266'"
      ]
     },
     "execution_count": 24,
     "metadata": {},
     "output_type": "execute_result"
    }
   ],
   "source": [
    "json_resp['data']['Aatrox']['key']"
   ]
  },
  {
   "cell_type": "markdown",
   "metadata": {},
   "source": [
    "### GET with parameter"
   ]
  },
  {
   "cell_type": "code",
   "execution_count": 32,
   "metadata": {},
   "outputs": [
    {
     "data": {
      "text/plain": [
       "<Response [401]>"
      ]
     },
     "execution_count": 32,
     "metadata": {},
     "output_type": "execute_result"
    }
   ],
   "source": [
    "url = 'https://kr.api.riotgames.com/lol/summoner/v4/summoners/by-name/hide%20on%20bush'\n",
    "resp = requests.get(url)\n",
    "resp"
   ]
  },
  {
   "cell_type": "code",
   "execution_count": 26,
   "metadata": {},
   "outputs": [
    {
     "data": {
      "text/plain": [
       "{'Content-Type': 'application/json;charset=utf-8', 'Date': 'Tue, 02 Mar 2021 11:44:30 GMT', 'X-Riot-Edge-Trace-Id': 'a66e2d97-d9c5-4293-badb-ae7357a083a4', 'Content-Length': '55', 'Connection': 'keep-alive'}"
      ]
     },
     "execution_count": 26,
     "metadata": {},
     "output_type": "execute_result"
    }
   ],
   "source": [
    "resp.headers"
   ]
  },
  {
   "cell_type": "code",
   "execution_count": 27,
   "metadata": {},
   "outputs": [
    {
     "data": {
      "text/plain": [
       "'Unauthorized'"
      ]
     },
     "execution_count": 27,
     "metadata": {},
     "output_type": "execute_result"
    }
   ],
   "source": [
    "resp.reason"
   ]
  },
  {
   "cell_type": "code",
   "execution_count": 28,
   "metadata": {},
   "outputs": [
    {
     "data": {
      "text/plain": [
       "'{\"status\":{\"message\":\"Unauthorized\",\"status_code\":401}}'"
      ]
     },
     "execution_count": 28,
     "metadata": {},
     "output_type": "execute_result"
    }
   ],
   "source": [
    "resp.text"
   ]
  },
  {
   "cell_type": "markdown",
   "metadata": {},
   "source": [
    "#### Query Param"
   ]
  },
  {
   "cell_type": "code",
   "execution_count": 33,
   "metadata": {},
   "outputs": [
    {
     "data": {
      "text/plain": [
       "<Response [200]>"
      ]
     },
     "execution_count": 33,
     "metadata": {},
     "output_type": "execute_result"
    }
   ],
   "source": [
    "url = 'https://kr.api.riotgames.com/lol/summoner/v4/summoners/by-name/hide%20on%20bush?api_key=RGAPI-a5b45052-a3b7-4ab0-99f7-bf77d333cde3'\n",
    "resp = requests.get(url)\n",
    "resp"
   ]
  },
  {
   "cell_type": "code",
   "execution_count": 34,
   "metadata": {},
   "outputs": [
    {
     "data": {
      "text/plain": [
       "<Response [200]>"
      ]
     },
     "execution_count": 34,
     "metadata": {},
     "output_type": "execute_result"
    }
   ],
   "source": [
    "url = 'https://kr.api.riotgames.com/lol/summoner/v4/summoners/by-name/hide%20on%20bush'\n",
    "API_KEY = 'RGAPI-a5b45052-a3b7-4ab0-99f7-bf77d333cde3'\n",
    "param = {'api_key': API_KEY}\n",
    "resp = requests.get(url, param)\n",
    "resp"
   ]
  },
  {
   "cell_type": "code",
   "execution_count": 36,
   "metadata": {},
   "outputs": [
    {
     "data": {
      "text/plain": [
       "{'id': '91DwKRacpxMpEfNYP6bw6ERNgFPR8xwpbwmB8zaxvZCspA',\n",
       " 'accountId': 'G-HVjjizb7l2hw3S2I-L6w5xmAlvJTd4vdmPeHmJKCgs',\n",
       " 'puuid': 'WQhOVwWIVDg7YjAnXKAlcvG1iECOb7WFeOXz_3wyCOUTgkYYV0xbQANzEHFlODS6jTDnWIxVUm_jEg',\n",
       " 'name': 'Hide on bush',\n",
       " 'profileIconId': 6,\n",
       " 'revisionDate': 1614334316000,\n",
       " 'summonerLevel': 423}"
      ]
     },
     "execution_count": 36,
     "metadata": {},
     "output_type": "execute_result"
    }
   ],
   "source": [
    "resp.json()"
   ]
  },
  {
   "cell_type": "code",
   "execution_count": 38,
   "metadata": {},
   "outputs": [],
   "source": [
    "import json"
   ]
  },
  {
   "cell_type": "code",
   "execution_count": 39,
   "metadata": {},
   "outputs": [],
   "source": [
    "with open('summoner_info.json','w') as f:\n",
    "    json.dump(resp.json(),f)"
   ]
  },
  {
   "cell_type": "code",
   "execution_count": 37,
   "metadata": {},
   "outputs": [],
   "source": [
    "import json\n",
    "with open('save_to_file.json', 'w') as f:\n",
    "    json.dump(resp.json(), f)"
   ]
  },
  {
   "cell_type": "markdown",
   "metadata": {},
   "source": [
    "# QUIZ"
   ]
  },
  {
   "cell_type": "markdown",
   "metadata": {},
   "source": [
    "https://developer.riotgames.com/docs/lol  \n",
    "위 문서 내에서 제공하는 언어가 어떤 언어가 있는지 데이터를 받아와 보세요"
   ]
  },
  {
   "cell_type": "code",
   "execution_count": 55,
   "metadata": {},
   "outputs": [],
   "source": [
    "url = 'https://ddragon.leagueoflegends.com/cdn/languages.json'\n"
   ]
  },
  {
   "cell_type": "code",
   "execution_count": 56,
   "metadata": {},
   "outputs": [
    {
     "data": {
      "text/plain": [
       "<Response [200]>"
      ]
     },
     "execution_count": 56,
     "metadata": {},
     "output_type": "execute_result"
    }
   ],
   "source": [
    "resp = requests.get(url)\n",
    "resp"
   ]
  },
  {
   "cell_type": "code",
   "execution_count": 57,
   "metadata": {},
   "outputs": [
    {
     "data": {
      "text/plain": [
       "['en_US',\n",
       " 'cs_CZ',\n",
       " 'de_DE',\n",
       " 'el_GR',\n",
       " 'en_AU',\n",
       " 'en_GB',\n",
       " 'en_PH',\n",
       " 'en_SG',\n",
       " 'es_AR',\n",
       " 'es_ES',\n",
       " 'es_MX',\n",
       " 'fr_FR',\n",
       " 'hu_HU',\n",
       " 'id_ID',\n",
       " 'it_IT',\n",
       " 'ja_JP',\n",
       " 'ko_KR',\n",
       " 'pl_PL',\n",
       " 'pt_BR',\n",
       " 'ro_RO',\n",
       " 'ru_RU',\n",
       " 'th_TH',\n",
       " 'tr_TR',\n",
       " 'vn_VN',\n",
       " 'zh_CN',\n",
       " 'zh_MY',\n",
       " 'zh_TW']"
      ]
     },
     "execution_count": 57,
     "metadata": {},
     "output_type": "execute_result"
    }
   ],
   "source": [
    "resp.json()"
   ]
  },
  {
   "cell_type": "code",
   "execution_count": 59,
   "metadata": {},
   "outputs": [],
   "source": [
    "with open('league_nations.json','w') as f:\n",
    "    json.dump(resp.json(),f)"
   ]
  },
  {
   "cell_type": "code",
   "execution_count": null,
   "metadata": {},
   "outputs": [],
   "source": []
  }
 ],
 "metadata": {
  "kernelspec": {
   "display_name": "Python 3",
   "language": "python",
   "name": "python3"
  },
  "language_info": {
   "codemirror_mode": {
    "name": "ipython",
    "version": 3
   },
   "file_extension": ".py",
   "mimetype": "text/x-python",
   "name": "python",
   "nbconvert_exporter": "python",
   "pygments_lexer": "ipython3",
   "version": "3.8.3"
  },
  "toc": {
   "base_numbering": 1,
   "nav_menu": {},
   "number_sections": true,
   "sideBar": true,
   "skip_h1_title": false,
   "title_cell": "Table of Contents",
   "title_sidebar": "Contents",
   "toc_cell": false,
   "toc_position": {},
   "toc_section_display": true,
   "toc_window_display": false
  },
  "varInspector": {
   "cols": {
    "lenName": 16,
    "lenType": 16,
    "lenVar": 40
   },
   "kernels_config": {
    "python": {
     "delete_cmd_postfix": "",
     "delete_cmd_prefix": "del ",
     "library": "var_list.py",
     "varRefreshCmd": "print(var_dic_list())"
    },
    "r": {
     "delete_cmd_postfix": ") ",
     "delete_cmd_prefix": "rm(",
     "library": "var_list.r",
     "varRefreshCmd": "cat(var_dic_list()) "
    }
   },
   "types_to_exclude": [
    "module",
    "function",
    "builtin_function_or_method",
    "instance",
    "_Feature"
   ],
   "window_display": false
  }
 },
 "nbformat": 4,
 "nbformat_minor": 5
}
