{
 "cells": [
  {
   "cell_type": "markdown",
   "metadata": {},
   "source": [
    " [![Open In Colab](https://colab.research.google.com/assets/colab-badge.svg)](https://bit.ly/open-data-04-coffee-store-output)\n",
    "  \n",
    "## 소상공인시장진흥공단 상가업소정보로 스타벅스, 이디야 위치 분석하기\n",
    "\n",
    "* 이디야는 스타벅스 근처에 입점한다는 설이 있습니다. 과연 이디야와 스타벅스의 매장입지는 얼마나 차이가 날까요? 관련 기사를 읽고 구별로 이디야와 스타벅스의 매장을 기사와 유사하게 분석하고 시각화 해보면서 Python, Pandas, Numpy, Seaborn, Matplotlib, folium 을 통해 다양한 방법으로 표현해 봅니다..\n",
    "\n",
    "### 다루는 내용\n",
    "* 공공데이터를 활용해 텍스트 데이터 정제하고 원하는 정보 찾아내기\n",
    "* 문자열에서 원하는 텍스트 추출하기\n",
    "* 문자열을 활용한 다양한 분석 방법과 위치 정보 사용하기\n",
    "* folium을 통한 위경도 데이터 시각화 이해하기\n",
    "\n",
    "### 실습\n",
    "* 텍스트 데이터 정제하기 -  대소문자로 섞여있는 상호명을 소문자로 변경하고 상호명 추출하기\n",
    "* 텍스트 데이터에서 원하는 정보 추출하기 - 브랜드명 컬럼을 만들고 구별 매장 수 분석하기\n",
    "* folium을 통해 지도에 분석한 내용을 표현하기 - CircleMarker와 choropleth 그리기\n",
    "\n",
    "\n",
    "### 데이터셋\n",
    "* https://www.data.go.kr/dataset/15012005/fileData.do\n",
    "* 구별로 매장수를 표현하기 위해 GeoJSON 파일 로드\n",
    "    * 파일출처 : [southkorea/seoul-maps: Seoul administrative divisions in ESRI Shapefile, GeoJSON and TopoJSON formats.](https://github.com/southkorea/seoul-maps)\n",
    "    * 이 링크에서도 다운로드가 가능합니다. https://drive.google.com/open?id=13j8-_XLdPe0pptsqu8-uyE-0Ym6V2jw5\n",
    "\n",
    "### 관련기사\n",
    "* [[비즈&빅데이터]스타벅스 '쏠림' vs 이디야 '분산'](http://news.bizwatch.co.kr/article/consumer/2018/01/19/0015)"
   ]
  },
  {
   "cell_type": "markdown",
   "metadata": {},
   "source": [
    "## 필요한 라이브러리 불러오기"
   ]
  },
  {
   "cell_type": "code",
   "execution_count": null,
   "metadata": {},
   "outputs": [],
   "source": [
    "# 데이터 분석을 위해 pandas를, 수치계산을 위해 numpy를, 시각화를 위해 seaborn을 불러옵니다.\n",
    "import pandas as pd\n",
    "import numpy as np\n",
    "import seaborn as sns\n",
    "\n",
    "\n",
    "# 구버전의 주피터 노트북에서 그래프가 보이는 설정\n",
    "%matplotlib inline"
   ]
  },
  {
   "cell_type": "markdown",
   "metadata": {},
   "source": [
    "## 시각화를 위한 한글 폰트 설정하기"
   ]
  },
  {
   "cell_type": "code",
   "execution_count": null,
   "metadata": {},
   "outputs": [],
   "source": [
    "# 한글폰트 설정\n",
    "import matplotlib.pyplot as plt\n",
    "\n",
    "plt.rc(\"font\", family=\"AppleGothic\")\n",
    "plt.rc(\"axes\", unicode_minus=False)"
   ]
  },
  {
   "cell_type": "code",
   "execution_count": null,
   "metadata": {},
   "outputs": [],
   "source": [
    "# 폰트가 선명하게 보이도록 retina 설정\n",
    "from IPython.display import set_matplotlib_formats\n",
    "\n",
    "set_matplotlib_formats(\"retina\")"
   ]
  },
  {
   "cell_type": "code",
   "execution_count": null,
   "metadata": {},
   "outputs": [],
   "source": [
    "# 한글폰트와 마이너스 폰트 설정 확인\n",
    "\n",
    "pd.Series([-1, 0, 1, 3, 5]).plot(title=\"한글폰트\")"
   ]
  },
  {
   "cell_type": "markdown",
   "metadata": {},
   "source": [
    "## Google Colab 을 위한 코드\n",
    "### Colab 에서 실행을 위한 코드\n",
    "\n",
    "* 아래의 코드는 google colaboratory 에서 실행을 위한 코드로 로컬 아나콘다에서는 주석처리합니다.\n",
    "* google colaboratory 에서는 주석을 풀고 폰트 설정과 csv 파일을 불러옵니다."
   ]
  },
  {
   "cell_type": "code",
   "execution_count": null,
   "metadata": {},
   "outputs": [],
   "source": [
    "# # 나눔고딕 설치\n",
    "# !apt -qq -y install fonts-nanum > /dev/null\n",
    "\n",
    "# import matplotlib.font_manager as fm\n",
    "\n",
    "# fontpath = '/usr/share/fonts/truetype/nanum/NanumBarunGothic.ttf'\n",
    "# font = fm.FontProperties(fname=fontpath, size=9)\n",
    "# fm._rebuild()\n",
    "\n",
    "# # 그래프에 retina display 적용\n",
    "# %config InlineBackend.figure_format = 'retina'\n",
    "\n",
    "# # Colab 의 한글 폰트 설정\n",
    "# plt.rc('font', family='NanumBarunGothic') "
   ]
  },
  {
   "cell_type": "markdown",
   "metadata": {},
   "source": [
    "### Colab 용 GoogleAuth 인증 \n",
    "* 구글 드라이브에 있는 파일을 가져오기 위해 사용합니다."
   ]
  },
  {
   "cell_type": "code",
   "execution_count": null,
   "metadata": {},
   "outputs": [],
   "source": [
    "# # 구글 드라이브에서 csv 파일을 읽어오기 위해 gauth 인증\n",
    "# !pip install -U -q PyDrive\n",
    "# from pydrive.auth import GoogleAuth\n",
    "# from pydrive.drive import GoogleDrive\n",
    "# from google.colab import auth\n",
    "# from oauth2client.client import GoogleCredentials\n",
    "\n",
    "# # PyDrive client 인증\n",
    "# auth.authenticate_user()\n",
    "# gauth = GoogleAuth()\n",
    "# gauth.credentials = GoogleCredentials.get_application_default()\n",
    "# drive = GoogleDrive(gauth)"
   ]
  },
  {
   "cell_type": "code",
   "execution_count": null,
   "metadata": {},
   "outputs": [],
   "source": [
    "# # 공유 가능한 링크로 파일 가져오기\n",
    "# url = 'https://drive.google.com/open?id=1e91PH_KRFxNXUsx8Hi-Q2vPiorCDsOP4'\n",
    "# id = url.split('=')[1]\n",
    "# print(id)\n",
    "# downloaded = drive.CreateFile({'id':id}) \n",
    "# # data 폴더에 파일을 관리하며, 폴더가 없다면 만들어서 파일을 관리하도록 한다.\n",
    "# %mkdir data\n",
    "# downloaded.GetContentFile('data/상가업소정보_201912_01.csv')  "
   ]
  },
  {
   "cell_type": "markdown",
   "metadata": {},
   "source": [
    "## 데이터 불러오기\n",
    "* 공공데이터 포털 : https://www.data.go.kr/dataset/15012005/fileData.do\n",
    "* 영상에 사용한 데이터셋 : http://bit.ly/open-data-set-folder (공공데이터포털에서 다운로드 받은 파일이 있습니다. 어떤 파일을 다운로드 받아야 될지 모르겠다면 여기에 있는 파일을 사용해 주세요.)"
   ]
  },
  {
   "cell_type": "code",
   "execution_count": null,
   "metadata": {},
   "outputs": [],
   "source": [
    "# 파일을 불러와 df 라는 변수에 담습니다.\n",
    "# shape 를 통해 불러온 csv 파일의 크기를 확인합니다.\n",
    "df = pd.read_csv(\"data/상가업소정보_201912_01.csv\", sep='|')\n",
    "df.shape"
   ]
  },
  {
   "cell_type": "markdown",
   "metadata": {},
   "source": [
    "### 데이터 미리보기"
   ]
  },
  {
   "cell_type": "code",
   "execution_count": null,
   "metadata": {},
   "outputs": [],
   "source": [
    "df.head(1)"
   ]
  },
  {
   "cell_type": "markdown",
   "metadata": {},
   "source": [
    "### info 보기"
   ]
  },
  {
   "cell_type": "code",
   "execution_count": null,
   "metadata": {
    "scrolled": false
   },
   "outputs": [],
   "source": [
    "# info 를 사용하면 데이터의 전체적인 정보를 볼 수 있습니다.\n",
    "# 데이터의 사이즈, 타입, 메모리 사용량 등을 볼 수 있습니다.\n",
    "\n",
    "df.info()"
   ]
  },
  {
   "cell_type": "markdown",
   "metadata": {},
   "source": [
    "### 결측치 보기"
   ]
  },
  {
   "cell_type": "code",
   "execution_count": null,
   "metadata": {},
   "outputs": [],
   "source": [
    "# isnull() 을 사용하면 데이터의 결측치를 볼 수 있습니다.\n",
    "# 결측치는 True로 값이 있다면 False로 표시되는데 True 는 1과 같기 때문에 \n",
    "# True 값을 sum()을 사용해서 더하게 되면 합계를 볼 수 있습니다.\n",
    "df.isnull().sum().plot.barh(figsize=(8, 9))"
   ]
  },
  {
   "cell_type": "markdown",
   "metadata": {},
   "source": [
    "### 사용하지 않는 컬럼 제거하기"
   ]
  },
  {
   "cell_type": "code",
   "execution_count": null,
   "metadata": {},
   "outputs": [],
   "source": [
    "# drop을 하는 방법도 있지만 사용할 컬럼만 따로 모아서 보는 방법도 있습니다.\n",
    "# 여기에서는 사용할 컬럼만 따로 모아서 사용합니다.\n",
    "columns = ['상호명', '상권업종대분류명', '상권업종중분류명', '상권업종소분류명', \n",
    "           '시도명', '시군구명', '행정동명', '법정동명', '도로명주소', \n",
    "           '경도', '위도']\n",
    "\n",
    "df = df[columns].copy()\n",
    "df.shape"
   ]
  },
  {
   "cell_type": "code",
   "execution_count": null,
   "metadata": {},
   "outputs": [],
   "source": [
    "# 제거 후 메모리 사용량 보기\n",
    "df.info()"
   ]
  },
  {
   "cell_type": "markdown",
   "metadata": {},
   "source": [
    "## 색인으로 서브셋 가져오기"
   ]
  },
  {
   "cell_type": "markdown",
   "metadata": {},
   "source": [
    "### 서울만 따로 보기"
   ]
  },
  {
   "cell_type": "code",
   "execution_count": null,
   "metadata": {},
   "outputs": [],
   "source": [
    "# 시도명이 서울로 시작하는 데이터만 봅니다.\n",
    "# 또, df_seoul 이라는 변수에 결과를 저장합니다.\n",
    "# 새로운 변수에 데이터프레임을 할당할 때 copy()를 사용하는 것을 권장합니다.\n",
    "df_seoul = df[df[\"시도명\"] == \"서울특별시\"].copy()\n",
    "df_seoul.shape"
   ]
  },
  {
   "cell_type": "markdown",
   "metadata": {},
   "source": [
    "### 일부 텍스트가 들어가는 데이터만 가져오기\n",
    "* 상호명에서 브랜드명을 추출합니다.\n",
    "* 대소문자가 섞여 있을 수도 있기 때문에 대소문자를 변환해 줍니다.\n",
    "* 오타를 방지하기 위해 스타벅스의 영문명은 STARBUCKS, 이디야는 EDIYA 입니다.\n",
    "\n",
    "* https://pandas.pydata.org/docs/user_guide/text.html#testing-for-strings-that-match-or-contain-a-pattern"
   ]
  },
  {
   "cell_type": "code",
   "execution_count": null,
   "metadata": {},
   "outputs": [],
   "source": [
    "# 문자열의 소문자로 변경하는 메소드를 사용합니다.\n",
    "# \"상호명_소문자\" 컬럼을 만듭니다.\n",
    "df_seoul[\"상호명_소문자\"] = df_seoul[\"상호명\"].str.lower()"
   ]
  },
  {
   "cell_type": "code",
   "execution_count": null,
   "metadata": {},
   "outputs": [],
   "source": [
    "# ediya 를 \"상호명_소문자\" 컬럼으로 가져옵니다.\n",
    "# '상호명_소문자'컬럼으로 '이디야|ediya' 를 가져와 갯수를 세어봅니다.\n",
    "# loc[행]\n",
    "# loc[행, 열]\n",
    "\n",
    "df_seoul.loc[df_seoul[\"상호명_소문자\"].str.contains(\"이디야|이디아|ediya\"), \"상호명_소문자\"].shape"
   ]
  },
  {
   "cell_type": "code",
   "execution_count": null,
   "metadata": {},
   "outputs": [],
   "source": [
    "# 상호명에서 스타벅스만 가져옵니다.\n",
    "# 상호명은 소문자로 변경해 준 컬럼을 사용합니다.\n",
    "# 스타벅스|starbucks 의 \"상호명_소문자\"로 갯수를 세어봅니다.\n",
    "\n",
    "df_seoul.loc[df_seoul[\"상호명_소문자\"].str.contains(\"스타벅스|starbucks\"), \"상호명_소문자\"].shape"
   ]
  },
  {
   "cell_type": "code",
   "execution_count": null,
   "metadata": {},
   "outputs": [],
   "source": [
    "# '상호명_소문자'컬럼으로  '스타벅스|starbucks|이디야|이디아|ediya'를 가져와 df_cafe 변수에 담습니다.\n",
    "df_cafe = df_seoul[\n",
    "    df_seoul[\"상호명_소문자\"].str.contains('스타벅스|starbucks|이디야|이디아|ediya')].copy()\n",
    "df_cafe.shape"
   ]
  },
  {
   "cell_type": "code",
   "execution_count": null,
   "metadata": {},
   "outputs": [],
   "source": [
    "# ~은 not을 의미합니다. 스타벅스가 아닌 데이터는 이디야로 넣어주어도 되지만\n",
    "# 아래 코드처럼 결측치를 이디야로 채워줘도 괜찮습니다.\n",
    "# df_cafe.loc[~df_cafe['상호명'].str.contains('스타벅스|starbucks'), '브랜드명'] = '이디야'\n",
    "\n",
    "df_cafe.loc[df_cafe[\"상호명_소문자\"].str.contains('스타벅스|starbucks'), \"브랜드명\"] = \"스타벅스\"\n",
    "df_cafe.loc[~df_cafe[\"상호명_소문자\"].str.contains('스타벅스|starbucks'), \"브랜드명\"] = \"이디야\"\n",
    "df_cafe[[\"상호명_소문자\", \"브랜드명\"]].head()"
   ]
  },
  {
   "cell_type": "code",
   "execution_count": null,
   "metadata": {},
   "outputs": [],
   "source": [
    "# 스타벅스를 제외한 데이터는 이디야이기 때문에 이디야로 브랜드명을 만듭니다.\n",
    "# df_cafe[\"브랜드명\"].fillna(\"이디야\")"
   ]
  },
  {
   "cell_type": "code",
   "execution_count": null,
   "metadata": {},
   "outputs": [],
   "source": [
    "# df_cafe에 담긴 상호명','브랜드명'으로 미리보기를 합니다.\n",
    "\n",
    "df_cafe[[\"상호명\", \"브랜드명\"]].tail()"
   ]
  },
  {
   "cell_type": "markdown",
   "metadata": {},
   "source": [
    "### 시각화\n",
    "#### 분류별 countplot 그리기"
   ]
  },
  {
   "cell_type": "code",
   "execution_count": null,
   "metadata": {},
   "outputs": [],
   "source": [
    "# \"상권업중분류명\"을 countplot 으로 시각화하고 분류 혹은 데이터가 잘못 색인된 데이터가 있는지 봅니다.\n",
    "df_cafe[\"상권업종중분류명\"].value_counts().plot.barh()"
   ]
  },
  {
   "cell_type": "code",
   "execution_count": null,
   "metadata": {},
   "outputs": [],
   "source": [
    "print(df_cafe.shape)\n",
    "df_cafe = df_cafe[df_cafe[\"상권업종중분류명\"] == \"커피점/카페\"].copy()\n",
    "df_cafe.shape"
   ]
  },
  {
   "cell_type": "code",
   "execution_count": null,
   "metadata": {},
   "outputs": [],
   "source": [
    "# 브랜드명으로 각 카페의 갯수를 세어봅니다.\n",
    "\n",
    "df_cafe[\"브랜드명\"].value_counts()"
   ]
  },
  {
   "cell_type": "code",
   "execution_count": null,
   "metadata": {},
   "outputs": [],
   "source": [
    "# 브랜드명을 막대그래프로 그려봅니다.\n",
    "\n",
    "sns.countplot(data=df_cafe, x=\"브랜드명\")"
   ]
  },
  {
   "cell_type": "code",
   "execution_count": null,
   "metadata": {},
   "outputs": [],
   "source": [
    "plt.figure(figsize=(15, 4))\n",
    "sns.countplot(data=df_cafe, x=\"시군구명\", hue=\"브랜드명\")"
   ]
  },
  {
   "cell_type": "markdown",
   "metadata": {},
   "source": [
    "#### scatterplot 그리기\n",
    "* https://pandas.pydata.org/pandas-docs/stable/user_guide/visualization.html#scatter-plot"
   ]
  },
  {
   "cell_type": "code",
   "execution_count": null,
   "metadata": {},
   "outputs": [],
   "source": [
    "# pandas로 scatterplot을 그려봅니다.\n",
    "\n",
    "df_cafe[[\"위도\", \"경도\"]].plot.scatter(x=\"경도\", y=\"위도\")"
   ]
  },
  {
   "cell_type": "code",
   "execution_count": null,
   "metadata": {
    "scrolled": false
   },
   "outputs": [],
   "source": [
    "# seaborn의 scatterplot 으로 hue에 브랜드명을 지정해서 시각화 합니다.\n",
    "sns.scatterplot(data=df_cafe, x=\"경도\", y=\"위도\", hue=\"브랜드명\")"
   ]
  },
  {
   "cell_type": "markdown",
   "metadata": {},
   "source": [
    "#### jointplot 그리기"
   ]
  },
  {
   "cell_type": "code",
   "execution_count": null,
   "metadata": {},
   "outputs": [],
   "source": [
    "# jointplot 그리기\n",
    "sns.jointplot(data=df_cafe, x=\"경도\", y=\"위도\", kind=\"kde\")"
   ]
  },
  {
   "cell_type": "markdown",
   "metadata": {},
   "source": [
    "## 구별 브랜드별 점포수\n",
    "### groupby 와 pivot_table 로 구별 스타벅스, 이디야 매장 수 구하기\n",
    "#### groupby 로 구별 매장수 구하기"
   ]
  },
  {
   "cell_type": "code",
   "execution_count": null,
   "metadata": {},
   "outputs": [],
   "source": [
    "# 구별로 브랜드별 점포수를 구합니다.\n",
    "# groupby 를 사용하면 구별로 그룹화 해서 점포수를 구할 수 있습니다.\n",
    "# 그룹화한 결과를 df_cafe_vs 변수에 담아서 재사용합니다.\n",
    "\n",
    "df_cafe_vs = df_cafe.groupby([\"시군구명\", \"브랜드명\"])[\"상호명\"].count()\n",
    "df_cafe_vs.head()"
   ]
  },
  {
   "cell_type": "code",
   "execution_count": null,
   "metadata": {},
   "outputs": [],
   "source": [
    "df_cafe_vs.to_frame().head()"
   ]
  },
  {
   "cell_type": "code",
   "execution_count": null,
   "metadata": {
    "scrolled": true
   },
   "outputs": [],
   "source": [
    "# reset_index 로 인덱스를 컬럼으로 만듭니다.\n",
    "df_cafe_vs = df_cafe_vs.reset_index()\n",
    "df_cafe_vs.head()"
   ]
  },
  {
   "cell_type": "code",
   "execution_count": null,
   "metadata": {},
   "outputs": [],
   "source": [
    "# groupby '시군구명', '브랜드명' 으로 갯수를 세어봅니다.\n",
    "# 결과에 대한 데이터프레임 컬럼명을 ['구', '브랜드명', '매장수'] 로 지정합니다.\n",
    "\n",
    "df_cafe_vs.columns = ['구', '브랜드명', '매장수']\n",
    "df_cafe_vs.head()"
   ]
  },
  {
   "cell_type": "markdown",
   "metadata": {},
   "source": [
    "#### pivot_table 로 구별 매장수 구하기"
   ]
  },
  {
   "cell_type": "code",
   "execution_count": null,
   "metadata": {},
   "outputs": [],
   "source": [
    "# 위에서 했던 과정을 pivot_table 로 구합니다.\n",
    "\n",
    "pivot = pd.pivot_table(data=df_cafe, \n",
    "               index=[\"시군구명\", \"브랜드명\"], \n",
    "               values=\"상호명\", aggfunc=\"count\")\n",
    "pivot.head()"
   ]
  },
  {
   "cell_type": "code",
   "execution_count": null,
   "metadata": {},
   "outputs": [],
   "source": [
    "# 특정 구 데이터만 가져와서 보기\n",
    "pivot.loc[\"강남구\"]"
   ]
  },
  {
   "cell_type": "markdown",
   "metadata": {},
   "source": [
    "### 막대그래프로 시각화 하기"
   ]
  },
  {
   "cell_type": "code",
   "execution_count": null,
   "metadata": {
    "scrolled": true
   },
   "outputs": [],
   "source": [
    "# seaborn의 barplot 을 활용해 구별 매장수를 시각화 합니다.\n",
    "plt.figure(figsize=(15, 4))\n",
    "sns.barplot(data=df_cafe_vs, x=\"구\", y=\"매장수\", hue=\"브랜드명\")"
   ]
  },
  {
   "cell_type": "code",
   "execution_count": null,
   "metadata": {},
   "outputs": [],
   "source": [
    "# seaborn의 barplot 을 활용해 구별 매장수를 시각화 합니다.\n",
    "# barplot 정렬하기\n",
    "plt.figure(figsize=(15, 4))\n",
    "sns.barplot(data=df_cafe_vs.sort_values(\"매장수\", ascending=False), x=\"구\", y=\"매장수\", hue=\"브랜드명\")"
   ]
  },
  {
   "cell_type": "markdown",
   "metadata": {},
   "source": [
    "* 브랜드명을 컬럼으로 만들기\n",
    "* unstack 이해하기 : https://pandas.pydata.org/docs/user_guide/reshaping.html"
   ]
  },
  {
   "cell_type": "code",
   "execution_count": null,
   "metadata": {},
   "outputs": [],
   "source": [
    "# groupby 를 통해 \"시군구명\", \"브랜드명\"으로 그룹화를 하고 \"상호명\"의 갯수를 세어봅니다.\n",
    "# 갯수를 셀때는 count를 사용합니다.\n",
    "group = df_cafe.groupby([\"시군구명\", \"브랜드명\"])[\"상호명\"].count()\n",
    "group.plot.bar(figsize=(15, 4))"
   ]
  },
  {
   "cell_type": "code",
   "execution_count": null,
   "metadata": {
    "scrolled": true
   },
   "outputs": [],
   "source": [
    "# 위에서 groupby 로 데이터를 집계한 결과를 시각화 합니다.\n",
    "\n",
    "group.unstack().plot.bar(figsize=(15, 4))"
   ]
  },
  {
   "cell_type": "code",
   "execution_count": null,
   "metadata": {},
   "outputs": [],
   "source": [
    "# pivot_table 을 이용해서 구별 스타벅스, 이디야 매장수를 구합니다.\n",
    "\n",
    "pivot = pd.pivot_table(data=df_cafe, index=\"시군구명\", \n",
    "               columns=\"브랜드명\", \n",
    "               values=\"상호명\", aggfunc=\"count\")"
   ]
  },
  {
   "cell_type": "code",
   "execution_count": null,
   "metadata": {},
   "outputs": [],
   "source": [
    "# 판다스의 장점 중 하나는 위에서처럼 구한 pivot_table을 시각화 해보기 쉽습니다.\n",
    "# pivot_table 로 구한 결과를 plot.bar()를 통해 시각화 합니다.\n",
    "pivot.plot.bar(figsize=(15, 4))"
   ]
  },
  {
   "cell_type": "code",
   "execution_count": null,
   "metadata": {},
   "outputs": [],
   "source": [
    "# 시군구명의 unique 값만 가져와서 리스트로 만듭니다.\n",
    "gu_name_list = df_cafe[\"시군구명\"].unique().tolist()\n",
    "# 시군구명을 정렬합니다.\n",
    "gu_name_list.sort()\n",
    "# 슬라이싱을 통해 5개만 미리보기 합니다.\n",
    "gu_name_list[:5]"
   ]
  },
  {
   "cell_type": "code",
   "execution_count": null,
   "metadata": {
    "scrolled": true
   },
   "outputs": [],
   "source": [
    "# Pandas 로 시각화를 하는 방법도 있지만 seaborn의 countplot을 사용하면 해당 컬럼의 수를 계산해서 시각화를 해줍니다.\n",
    "# hue 옵션을 사용하게 되면 값에 따라 다른 색상으로 그리게 됩니다. \n",
    "# hue 옵션을 사용할 때는 2~3개 정도의 카테고리 형태의 데이터를 사용하는 것이 적합합니다.\n",
    "# 여기에서는 브랜드명에 따라 다른 색상으로 표시할 수 있도록 합니다.\n",
    "plt.figure(figsize=(15, 4))\n",
    "sns.countplot(data=df_cafe, x=\"시군구명\", hue=\"브랜드명\", order=gu_name_list)"
   ]
  },
  {
   "cell_type": "markdown",
   "metadata": {},
   "source": [
    "## Folium 으로 지도 활용하기\n",
    "* 다음의 프롬프트 창을 열어 conda 명령어로 설치합니다.\n",
    "<img src=\"https://i.imgur.com/x7pzfCP.jpg\">\n",
    "* <font color=\"red\">주피터 노트북 상에서 설치가 되지 않으니</font> anaconda prompt 를 열어서 설치해 주세요.\n",
    "\n",
    "\n",
    "* 윈도우\n",
    "    * <font color=\"red\">관리자 권한</font>으로 아나콘다를 설치하셨다면 다음의 방법으로 anaconda prompt 를 열어 주세요.\n",
    "    <img src=\"https://i.imgur.com/GhoLwsd.png\">\n",
    "* 맥\n",
    "    * terminal 프로그램을 열어 설치해 주세요. \n",
    "\n",
    "\n",
    "* 다음의 문서를 활용해서 지도를 표현합니다.\n",
    "* https://nbviewer.jupyter.org/github/python-visualization/folium/blob/master/examples/Quickstart.ipynb\n",
    "* Folium 사용예제 :\n",
    "http://nbviewer.jupyter.org/github/python-visualization/folium/tree/master/examples/"
   ]
  },
  {
   "cell_type": "code",
   "execution_count": null,
   "metadata": {},
   "outputs": [],
   "source": [
    "# 아나콘다에서 folium 을 사용하기 위해서는 별도의 설치가 필요\n",
    "# https://anaconda.org/conda-forge/folium\n",
    "# conda install -c conda-forge folium \n",
    "# 지도 시각화를 위한 라이브러리\n",
    "import folium"
   ]
  },
  {
   "cell_type": "code",
   "execution_count": null,
   "metadata": {},
   "outputs": [],
   "source": [
    "# 지도의 중심을 지정하기 위해 위도와 경도의 평균을 구합니다. \n",
    "\n",
    "lat = df_cafe[\"위도\"].mean()\n",
    "long = df_cafe[\"경도\"].mean()\n",
    "lat, long"
   ]
  },
  {
   "cell_type": "markdown",
   "metadata": {},
   "source": [
    "### 스타벅스 이디야 카페 매장 전체 분포\n",
    "* 스타벅스와 이디야 매장을 Marker와 CircleMarker로 지도에 표현합니다."
   ]
  },
  {
   "cell_type": "code",
   "execution_count": null,
   "metadata": {},
   "outputs": [],
   "source": [
    "m = folium.Map([lat, long], zoom_start=12, tiles=\"Stamen Toner\")\n",
    "\n",
    "for i in df_cafe.index:\n",
    "    sub_lat = df_cafe.loc[i, \"위도\"]\n",
    "    sub_long = df_cafe.loc[i, \"경도\"]\n",
    "    \n",
    "    title = f\"{df_cafe.loc[i, '상호명']} - {df_cafe.loc[i, '도로명주소']}\"\n",
    "    \n",
    "    color = \"green\"\n",
    "    if df_cafe.loc[i, \"브랜드명\"] == \"이디야\":\n",
    "        color = \"blue\"\n",
    "    \n",
    "    folium.CircleMarker([sub_lat, sub_long],\n",
    "                        radius=3,\n",
    "                        color=color,\n",
    "                          tooltip=title).add_to(m)\n",
    "m"
   ]
  },
  {
   "cell_type": "markdown",
   "metadata": {},
   "source": [
    "### choropleth 를 위한 GeoJSON 파일로드"
   ]
  },
  {
   "cell_type": "markdown",
   "metadata": {},
   "source": [
    "* 구별로 매장수를 표현하기 위해 GeoJSON 파일 로드\n",
    "    * 파일출처 : [southkorea/seoul-maps: Seoul administrative divisions in ESRI Shapefile, GeoJSON and TopoJSON formats.](https://github.com/southkorea/seoul-maps)\n",
    "    * 이 링크에서도 다운로드가 가능합니다. https://drive.google.com/open?id=13j8-_XLdPe0pptsqu8-uyE-0Ym6V2jw5\n",
    "    \n",
    "* Choropleth-maps : https://nbviewer.jupyter.org/github/python-visualization/folium/blob/master/examples/Quickstart.ipynb#Choropleth-maps"
   ]
  },
  {
   "cell_type": "code",
   "execution_count": null,
   "metadata": {},
   "outputs": [],
   "source": [
    "# 서울의 행정구역 경계를 GeoJSON으로 표현한 파일입니다. \n",
    "# 이 파일을 불러와 구별 스타벅스와 이디야의 매장수를 표현합니다.\n",
    "geo_path = 'data/seoul_municipalities_geo_simple.json'\n",
    "\n",
    "import json\n",
    "geo_json = json.load(open(geo_path, encoding=\"utf-8\"))"
   ]
  },
  {
   "cell_type": "code",
   "execution_count": null,
   "metadata": {
    "scrolled": true
   },
   "outputs": [],
   "source": [
    "geo_json[\"features\"][0]['properties'][\"name\"]"
   ]
  },
  {
   "cell_type": "markdown",
   "metadata": {},
   "source": [
    "### 스타벅스 매장 분포"
   ]
  },
  {
   "cell_type": "code",
   "execution_count": null,
   "metadata": {},
   "outputs": [],
   "source": [
    "# df_cafe_vs 변수에 담긴 값을 통해 스타벅스의 매장 수를 구합니다.\n",
    "# \"브랜드명\"컬럼으로 스타벅스만 가져옵니다.\n",
    "\n",
    "df_star = df_cafe_vs[df_cafe_vs[\"브랜드명\"] == \"스타벅스\"].copy()\n",
    "df_star.head()"
   ]
  },
  {
   "cell_type": "code",
   "execution_count": null,
   "metadata": {},
   "outputs": [],
   "source": [
    "# geo_json 에서 구 이름 가져오기\n",
    "\n",
    "geo_json[\"features\"][0]['properties']['name']"
   ]
  },
  {
   "cell_type": "code",
   "execution_count": null,
   "metadata": {},
   "outputs": [],
   "source": [
    "# df_cafe_starbucks 로 스타벅스 매장 수 구하기\n",
    "# choropleth의 색상은 fill_color = 'YlGn'을 사용합니다.\n",
    "\n",
    "m = folium.Map([lat, long])\n",
    "\n",
    "folium.Choropleth(\n",
    "    geo_data=geo_json,\n",
    "    name='choropleth',\n",
    "    data=df_star,\n",
    "    columns=['구', '매장수'],\n",
    "    key_on='feature.properties.name',\n",
    "    fill_color='YlGn',\n",
    "    fill_opacity=0.7,\n",
    "    line_opacity=0.2,\n",
    "    legend_name='스타벅스 매장수'\n",
    ").add_to(m)\n",
    "\n",
    "m"
   ]
  },
  {
   "cell_type": "markdown",
   "metadata": {},
   "source": [
    "### 이디야 매장 분포"
   ]
  },
  {
   "cell_type": "code",
   "execution_count": null,
   "metadata": {},
   "outputs": [],
   "source": [
    "# 이디야의 매장 수를 구합니다.\n",
    "# \"브랜드명\"컬럼으로 이디야만 가져옵니다.\n",
    "df_ediya = df_cafe_vs[df_cafe_vs[\"브랜드명\"] == \"이디야\"].copy()\n",
    "df_ediya.head()"
   ]
  },
  {
   "cell_type": "code",
   "execution_count": null,
   "metadata": {},
   "outputs": [],
   "source": [
    "\n",
    "m = folium.Map([lat, long], tiles='stamen toner')\n",
    "\n",
    "folium.Choropleth(\n",
    "    geo_data=geo_json,\n",
    "    name='choropleth',\n",
    "    data=df_ediya,\n",
    "    columns=['구', '매장수'],\n",
    "    key_on='feature.properties.name',\n",
    "    fill_color='Blues',\n",
    "    fill_opacity=0.7,\n",
    "    line_opacity=0.2,\n",
    "    legend_name='이디야 매장수'\n",
    ").add_to(m)\n",
    "\n",
    "\n",
    "for i in df_cafe.index:\n",
    "    sub_lat = df_cafe.loc[i, \"위도\"]\n",
    "    sub_long = df_cafe.loc[i, \"경도\"]\n",
    "    \n",
    "    title = f\"{df_cafe.loc[i, '상호명']} - {df_cafe.loc[i, '도로명주소']}\"\n",
    "    \n",
    "    color = \"green\"\n",
    "    if df_cafe.loc[i, \"브랜드명\"] == \"이디야\":\n",
    "        color = \"blue\"\n",
    "    \n",
    "    folium.CircleMarker([sub_lat, sub_long],\n",
    "                        radius=3,\n",
    "                        color=color,\n",
    "                          tooltip=title).add_to(m)\n",
    "\n",
    "m"
   ]
  },
  {
   "cell_type": "markdown",
   "metadata": {},
   "source": [
    "### 매장수 크기를 반영해 CircleMaker 그리기\n",
    "* Pandas 의 reshaping data 활용하기\n",
    "\n",
    "<img src=\"https://i.imgur.com/IIhU0nF.png\">\n",
    "\n",
    "* 출처 : https://github.com/pandas-dev/pandas/blob/master/doc/cheatsheet/Pandas_Cheat_Sheet.pdf\n",
    "* reshaping 관련 문서 : https://pandas.pydata.org/pandas-docs/stable/user_guide/reshaping.html"
   ]
  },
  {
   "cell_type": "code",
   "execution_count": null,
   "metadata": {},
   "outputs": [],
   "source": [
    "# df_vs 라는 변수에 구별 브랜드명을 pivot해서 스타벅스와 이디야 매장을 비교할 수 있는 형태로 만듭니다.\n",
    "# 그리고 [\"스타벅스\", \"이디야\"] 로 컬럼명을 변경해주고 \n",
    "# 스타벅스와 이디야의 매장을 비교한 값을 \"매장수비교\" 컬럼에 담아줍니다.\n",
    "df_vs = df_cafe_vs.pivot(index=\"구\", columns=\"브랜드명\", values=\"매장수\")\n",
    "df_vs[\"매장수비교\"] = df_vs[\"스타벅스\"] - df_vs[\"이디야\"] > 0\n",
    "df_vs.head()"
   ]
  },
  {
   "cell_type": "code",
   "execution_count": null,
   "metadata": {},
   "outputs": [],
   "source": [
    "# 간단한 함수를 사용해서 스타벅스가 이디야보다 매장수가 많을 때 1을 출력하도록 합니다.\n",
    "df_vs[\"매장수비교\"] = df_vs[\"매장수비교\"].astype(float)\n",
    "df_vs.head()"
   ]
  },
  {
   "cell_type": "code",
   "execution_count": null,
   "metadata": {
    "scrolled": true
   },
   "outputs": [],
   "source": [
    "# 구를 컬럼명으로 사용하기 위해 reset_index 를 합니다.\n",
    "# 데이터 프레임을 df_vs 에 저장합니다.\n",
    "df_vs = df_vs.reset_index()\n",
    "df_vs.head()"
   ]
  },
  {
   "cell_type": "markdown",
   "metadata": {},
   "source": [
    "### Choropleth 로 매장수의 많고 적음에 따라 표현하기"
   ]
  },
  {
   "cell_type": "code",
   "execution_count": null,
   "metadata": {},
   "outputs": [],
   "source": [
    "# 스타벅스 매장 수 구하기\n",
    "# choropleth의 색상은 fill_color = 'BuGn'을 사용합니다.\n",
    "# CircleMarker의 radius 지정시 int 타입일 때 다음과 같은 타입오류가 나서 \n",
    "# float type 으로 변경이 필요합니다.\n",
    "# TypeError: Object of type 'int64' is not JSON serializable\n",
    "\n",
    "\n",
    "m = folium.Map([lat, long], tiles='stamen toner')\n",
    "\n",
    "folium.Choropleth(\n",
    "    geo_data=geo_json,\n",
    "    name='choropleth',\n",
    "    data=df_vs,\n",
    "    columns=['구', '매장수비교'],\n",
    "    key_on='feature.properties.name',\n",
    "    fill_color='BuGn',\n",
    "    fill_opacity=0.7,\n",
    "    line_opacity=0.2,\n",
    "    legend_name='매장수 비교'\n",
    ").add_to(m)\n",
    "\n",
    "m"
   ]
  },
  {
   "cell_type": "code",
   "execution_count": null,
   "metadata": {},
   "outputs": [],
   "source": [
    "df_gu_mean = df_cafe.pivot_table(index=\"시군구명\", values=[\"경도\", \"위도\"], aggfunc=\"mean\")\n",
    "df_gu_mean = df_gu_mean.reset_index()\n",
    "df_gu_mean.head()"
   ]
  },
  {
   "cell_type": "code",
   "execution_count": null,
   "metadata": {},
   "outputs": [],
   "source": [
    "df_vs = df_vs.merge(df_gu_mean, how='inner', left_on=\"구\", right_on=\"시군구명\")\n",
    "df_vs.head()"
   ]
  },
  {
   "cell_type": "code",
   "execution_count": null,
   "metadata": {},
   "outputs": [],
   "source": [
    "# 구별로 CircleMarker를 표현하기 위해서는 각 구의 위경도 값을 구해야 합니다.\n",
    "# 구별 위도와 경도를 가져와 평균 값을 구해서 사용합니다.\n",
    "# 특정 구의 위경도의 평균을 구합니다.\n",
    "\n",
    "for i in df_vs.index:\n",
    "    sub_long = df_vs.loc[i, \"경도\"]\n",
    "    sub_lat = df_vs.loc[i, \"위도\"]\n",
    "    \n",
    "    print(df_vs.loc[i, \"구\"], sub_lat, sub_long)"
   ]
  },
  {
   "cell_type": "markdown",
   "metadata": {},
   "source": [
    "### 신문기사와 유사하게 매장수에 따라 원의 크기를 다르게 그리기\n",
    "* https://nbviewer.jupyter.org/github/python-visualization/folium/blob/master/examples/Colormaps.ipynb"
   ]
  },
  {
   "cell_type": "code",
   "execution_count": null,
   "metadata": {},
   "outputs": [],
   "source": [
    "cafes = [\"스타벅스\", \"이디야\"]\n",
    "for cafe in cafes:\n",
    "    print(cafe)"
   ]
  },
  {
   "cell_type": "code",
   "execution_count": null,
   "metadata": {},
   "outputs": [],
   "source": [
    "df_vs.head(1)"
   ]
  },
  {
   "cell_type": "code",
   "execution_count": null,
   "metadata": {},
   "outputs": [],
   "source": [
    "np.sqrt(50)"
   ]
  },
  {
   "cell_type": "code",
   "execution_count": null,
   "metadata": {
    "scrolled": false
   },
   "outputs": [],
   "source": [
    "# 아래의 for문을 활용해서  스타벅스, 이디야로 매장수를 반영해 그리도록 합니다.\n",
    "# choropleth의 색상은 fill_color = 'BuGn'을 사용합니다.\n",
    "# CircleMarker 의 radius 크기를 구해서 원의 크기를 다르게 표현해 봅니다.\n",
    "# 또, 경도에 특정 숫자를 더해 두 개의 원이 겹치지 않게 그려봅니다.\n",
    "\n",
    "\n",
    "m = folium.Map([lat, long], zoom_start=11, tiles='stamen toner')\n",
    "\n",
    "folium.Choropleth(\n",
    "    geo_data=geo_json,\n",
    "    name='choropleth',\n",
    "    data=df_vs,\n",
    "    columns=['구', '매장수비교'],\n",
    "    key_on='feature.properties.name',\n",
    "    fill_color='BuGn',\n",
    "    fill_opacity=0.7,\n",
    "    line_opacity=0.2,\n",
    "    legend_name='매장수 비교'\n",
    ").add_to(m)\n",
    "\n",
    "\n",
    "for i in df_vs.index:\n",
    "    sub_long = df_vs.loc[i, \"경도\"]\n",
    "    sub_lat = df_vs.loc[i, \"위도\"]\n",
    "    \n",
    "    cafes = [\"스타벅스\", \"이디야\"]\n",
    "    for cafe in cafes:\n",
    "        cafe_count = df_vs.loc[i, cafe]\n",
    "        \n",
    "        gu = df_vs.loc[i, \"구\"]\n",
    "        tooltip = f\"{gu} {cafe} : {cafe_count}\"\n",
    "        \n",
    "        radius = np.sqrt(cafe_count) * 3\n",
    "        \n",
    "        if cafe == \"이디야\":\n",
    "            color = \"blue\"\n",
    "            sub_long = sub_long + 0.01\n",
    "        else:\n",
    "            color = \"green\"\n",
    "            \n",
    "            \n",
    "        folium.CircleMarker([sub_lat, sub_long],\n",
    "                            radius=radius,\n",
    "                            color=color,\n",
    "                            fill=True,\n",
    "                            tooltip=tooltip,\n",
    "                           ).add_to(m)\n",
    "        \n",
    "m"
   ]
  },
  {
   "cell_type": "code",
   "execution_count": null,
   "metadata": {},
   "outputs": [],
   "source": [
    "m.save(\"04-coffee-store-choropleth.html\")"
   ]
  },
  {
   "cell_type": "markdown",
   "metadata": {},
   "source": [
    "* 카토그램\n",
    "    * [총선⑫ 인구 비례로 본 당선 지도…‘카토그램’으로 살펴본 당선 현황 > 데이터룸 > 정치 > 뉴스 | KBSNEWS](http://news.kbs.co.kr/news/view.do?ncd=3264019)\n",
    "    * [The Housing Value of Every County in the U.S. - Metrocosm](http://metrocosm.com/the-housing-value-of-every-county-in-the-u-s/)"
   ]
  },
  {
   "cell_type": "code",
   "execution_count": null,
   "metadata": {},
   "outputs": [],
   "source": []
  },
  {
   "cell_type": "code",
   "execution_count": null,
   "metadata": {},
   "outputs": [],
   "source": []
  },
  {
   "cell_type": "code",
   "execution_count": null,
   "metadata": {},
   "outputs": [],
   "source": []
  },
  {
   "cell_type": "code",
   "execution_count": null,
   "metadata": {},
   "outputs": [],
   "source": []
  },
  {
   "cell_type": "code",
   "execution_count": null,
   "metadata": {},
   "outputs": [],
   "source": []
  },
  {
   "cell_type": "code",
   "execution_count": null,
   "metadata": {},
   "outputs": [],
   "source": []
  }
 ],
 "metadata": {
  "kernelspec": {
   "display_name": "Python 3",
   "language": "python",
   "name": "python3"
  },
  "language_info": {
   "codemirror_mode": {
    "name": "ipython",
    "version": 3
   },
   "file_extension": ".py",
   "mimetype": "text/x-python",
   "name": "python",
   "nbconvert_exporter": "python",
   "pygments_lexer": "ipython3",
   "version": "3.7.6"
  },
  "toc": {
   "base_numbering": 1,
   "nav_menu": {},
   "number_sections": true,
   "sideBar": true,
   "skip_h1_title": false,
   "title_cell": "Table of Contents",
   "title_sidebar": "Contents",
   "toc_cell": false,
   "toc_position": {
    "height": "calc(100% - 180px)",
    "left": "10px",
    "top": "150px",
    "width": "204.8px"
   },
   "toc_section_display": true,
   "toc_window_display": true
  },
  "varInspector": {
   "cols": {
    "lenName": 16,
    "lenType": 16,
    "lenVar": 40
   },
   "kernels_config": {
    "python": {
     "delete_cmd_postfix": "",
     "delete_cmd_prefix": "del ",
     "library": "var_list.py",
     "varRefreshCmd": "print(var_dic_list())"
    },
    "r": {
     "delete_cmd_postfix": ") ",
     "delete_cmd_prefix": "rm(",
     "library": "var_list.r",
     "varRefreshCmd": "cat(var_dic_list()) "
    }
   },
   "types_to_exclude": [
    "module",
    "function",
    "builtin_function_or_method",
    "instance",
    "_Feature"
   ],
   "window_display": false
  }
 },
 "nbformat": 4,
 "nbformat_minor": 2
}
