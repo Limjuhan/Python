{
 "cells": [
  {
   "cell_type": "markdown",
   "metadata": {},
   "source": [
    "## 우루사 VS 고덱스 분석하기\n",
    "http://medinavi.co.kr/search_medicine.asp?keyword1=&keyword2=%EC%9A%B0%EB%A3%A8%EC%82%AC&keyword3=%EB%8C%80%EC%9B%85%EC%A0%9C%EC%95%BD\n",
    "\n",
    "```\n",
    "우루사정100밀리그램 246501ATB\n",
    "우루사정200밀리그램 246502ATB\n",
    "우루사정300밀리그램 246506ATB\n",
    "우루사100mg연질캅셀 246501ACS\n",
    "우루사캅셀200mg 246502ACH\n",
    "우루사캡슐250밀리그램 246503ACH\n",
    "고덱스캡슐 427800ACH\n",
    "```\n",
    "\n",
    "\n",
    "<img src=\"https://i.imgur.com/4dEl5Dl.jpg\">\n",
    "\n",
    "출처 : http://www.docdocdoc.co.kr/news/articleView.html?idxno=1053667\n",
    "\n",
    "## 라이브러리로드"
   ]
  },
  {
   "cell_type": "code",
   "execution_count": null,
   "metadata": {},
   "outputs": [],
   "source": [
    "import pandas as pd\n",
    "import numpy as np\n",
    "import seaborn as sns\n",
    "\n",
    "%matplotlib inline"
   ]
  },
  {
   "cell_type": "markdown",
   "metadata": {},
   "source": [
    "## 시각화를 위한 한글폰트 설정"
   ]
  },
  {
   "cell_type": "code",
   "execution_count": null,
   "metadata": {},
   "outputs": [],
   "source": [
    "import matplotlib.pyplot as plt\n",
    "\n",
    "# Window 의 한글 폰트 설정\n",
    "# plt.rc('font',family='Malgun Gothic')\n",
    "# Mac 의 한글 폰트 설정\n",
    "plt.rc('font', family='AppleGothic') \n",
    "plt.rc('axes', unicode_minus=False)"
   ]
  },
  {
   "cell_type": "code",
   "execution_count": null,
   "metadata": {},
   "outputs": [],
   "source": [
    "from IPython.display import set_matplotlib_formats\n",
    "# 레티나 설정을 해주면 글씨가 좀 더 선명하게 보입니다.\n",
    "set_matplotlib_formats('retina')"
   ]
  },
  {
   "cell_type": "markdown",
   "metadata": {},
   "source": [
    "## 데이터셋 로드"
   ]
  },
  {
   "cell_type": "code",
   "execution_count": null,
   "metadata": {},
   "outputs": [],
   "source": [
    "df = pd.read_csv('data/medicine/medicine_2011_2018.csv', encoding=\"cp949\")\n",
    "df.shape"
   ]
  },
  {
   "cell_type": "markdown",
   "metadata": {},
   "source": [
    "## 데이터 미리보기"
   ]
  },
  {
   "cell_type": "code",
   "execution_count": null,
   "metadata": {},
   "outputs": [],
   "source": [
    "df.head(3)"
   ]
  },
  {
   "cell_type": "code",
   "execution_count": null,
   "metadata": {},
   "outputs": [],
   "source": [
    "df.tail(3)"
   ]
  },
  {
   "cell_type": "markdown",
   "metadata": {},
   "source": [
    "## 데이터 전처리"
   ]
  },
  {
   "cell_type": "markdown",
   "metadata": {},
   "source": [
    "### 주성분코드로 약품명 찾기\n",
    "* 우루사정100밀리그램 246501ATB\n",
    "* 우루사정200밀리그램 246502ATB\n",
    "* 우루사정300밀리그램 246506ATB\n",
    "* 우루사100mg연질캅셀 246501ACS\n",
    "* 우루사캅셀200mg 246502ACH\n",
    "* 우루사캡슐250밀리그램 246503ACH\n",
    "* 고덱스캡슐 427800ACH"
   ]
  },
  {
   "cell_type": "code",
   "execution_count": null,
   "metadata": {},
   "outputs": [],
   "source": [
    "code = \"\"\"우루사정100밀리그램 246501ATB\n",
    "우루사정200밀리그램 246502ATB\n",
    "우루사정300밀리그램 246506ATB\n",
    "우루사100mg연질캅셀 246501ACS\n",
    "우루사캅셀200mg 246502ACH\n",
    "우루사캡슐250밀리그램 246503ACH\n",
    "고덱스캡슐 427800ACH\"\"\"\n",
    "code"
   ]
  },
  {
   "cell_type": "code",
   "execution_count": null,
   "metadata": {},
   "outputs": [],
   "source": [
    "# 위에서 만든 텍스트로 주성분코드와 약품명을 매치하기 위해 딕셔너리를 만듭니다.\n",
    "# code_key_val 이라는 변수에 딕셔너리 형태로 값을 넣어줍니다.\n",
    "codes = code.split(\"\\n\")\n",
    "code_key_val = {}\n",
    "for cname in codes:\n",
    "    cname = cname.split(\" \")\n",
    "    code_key_val[cname[-1]] = cname[0]\n",
    "\n",
    "print(code_key_val)"
   ]
  },
  {
   "cell_type": "code",
   "execution_count": null,
   "metadata": {},
   "outputs": [],
   "source": [
    "# 딕셔너리를 매핑합니다.\n",
    "df[\"약품일반성분명\"] = df[\"약품일반성분명코드\"].map(code_key_val)\n",
    "\n",
    "df[[\"약품일반성분명코드\", \"약품일반성분명\"]].head()"
   ]
  },
  {
   "cell_type": "markdown",
   "metadata": {},
   "source": [
    "### 우루사와 고덱스 구분하기"
   ]
  },
  {
   "cell_type": "code",
   "execution_count": null,
   "metadata": {},
   "outputs": [],
   "source": [
    "# 우루사는 \"약품일반성분명코드\"가 여러 개 입니다.\n",
    "# 고덱스코드를 통해 우루사인지 아닌지 True, False로 boolean 값을 갖는 컬럼을 생성합니다.\n",
    "# 컬럼명은 \"우루사\"로 합니다.\n",
    "df[\"우루사\"] = df[\"약품일반성분명코드\"] != \"427800ACH\"\n",
    "df[[\"약품일반성분명코드\", \"약품일반성분명\", \"우루사\"]].head()"
   ]
  },
  {
   "cell_type": "markdown",
   "metadata": {},
   "source": [
    "### 결측치 보기"
   ]
  },
  {
   "cell_type": "code",
   "execution_count": null,
   "metadata": {},
   "outputs": [],
   "source": [
    "# 결측치가 있는지 봅니다.\n",
    "df.isnull().sum()"
   ]
  },
  {
   "cell_type": "markdown",
   "metadata": {},
   "source": [
    "### 요양개시일자로 정렬하기"
   ]
  },
  {
   "cell_type": "code",
   "execution_count": null,
   "metadata": {},
   "outputs": [],
   "source": [
    "# \"요양개시일자\", \"가입자일련번호\", \"처방내역일련번호\", \"일련번호\" 로 정렬합니다.\n",
    "df = df.sort_values(\n",
    "    [\"요양개시일자\", \"가입자일련번호\", \"처방내역일련번호\", \"일련번호\"])\n",
    "df.head()"
   ]
  },
  {
   "cell_type": "markdown",
   "metadata": {},
   "source": [
    "### 날짜 다루기\n",
    "* 연, 월, 일, 요일 추출하기"
   ]
  },
  {
   "cell_type": "code",
   "execution_count": null,
   "metadata": {
    "scrolled": true
   },
   "outputs": [],
   "source": [
    "# \"요양개시일자\"의 데이터 타입을 봅니다.\n",
    "df[\"요양개시일자\"].head(1)"
   ]
  },
  {
   "cell_type": "code",
   "execution_count": null,
   "metadata": {},
   "outputs": [],
   "source": [
    "# \"요양개시일자\"를 datetime 형태로 변환하기 위해서 astype 을 사용해 문자형태로 변환합니다.\n",
    "# 타입을 변경하고 다시 같은 컬럼에 데이터를 담아주어야 변경된 내용이 반영됩니다.\n",
    "df[\"요양개시일자\"] = pd.to_datetime(df[\"요양개시일자\"].astype(str))"
   ]
  },
  {
   "cell_type": "code",
   "execution_count": null,
   "metadata": {},
   "outputs": [],
   "source": [
    "# \"요양개시일자\"에서 연, 월, 일을 추출합니다.\n",
    "df[\"연\"] = df[\"요양개시일자\"].dt.year\n",
    "df[\"월\"] = df[\"요양개시일자\"].dt.month\n",
    "df[\"일\"] = df[\"요양개시일자\"].dt.day"
   ]
  },
  {
   "cell_type": "code",
   "execution_count": null,
   "metadata": {},
   "outputs": [],
   "source": [
    "# \"요양개시일자\"에서 \"요일\"과 \"영문요일\"을 추출합니다.\n",
    "df[\"요일\"] = df[\"요양개시일자\"].dt.dayofweek\n",
    "df[\"영문요일\"] = df[\"요양개시일자\"].dt.day_name()"
   ]
  },
  {
   "cell_type": "code",
   "execution_count": null,
   "metadata": {
    "scrolled": true
   },
   "outputs": [],
   "source": [
    "# 요일을 한글요일로 변경합니다.\n",
    "weekday = \"월화수목금토일\"\n",
    "df[\"요일명\"] = df[\"요일\"].map(lambda x : weekday[x])\n",
    "\n",
    "df[[\"요일\", \"영문요일\", \"요일명\"]].head()"
   ]
  },
  {
   "cell_type": "markdown",
   "metadata": {},
   "source": [
    "### 컬럼 디스플레이 옵션 변경하기"
   ]
  },
  {
   "cell_type": "code",
   "execution_count": null,
   "metadata": {},
   "outputs": [],
   "source": [
    "# 컬럼이 많이 늘어나서 한번에 모든 컬럼이 보이지 않습니다.\n",
    "# max_columns 의 수를 지정합니다.\n",
    "pd.options.display.max_columns = 30"
   ]
  },
  {
   "cell_type": "code",
   "execution_count": null,
   "metadata": {},
   "outputs": [],
   "source": [
    "# sample 을 통해 모든 컬럼이 보이는지 확인합니다.\n",
    "df.sample()"
   ]
  },
  {
   "cell_type": "markdown",
   "metadata": {},
   "source": [
    "### 시도코드를 시도명으로 변환하기\n",
    "* 시도코드를 통해 시도명을 만듭니다."
   ]
  },
  {
   "cell_type": "code",
   "execution_count": null,
   "metadata": {},
   "outputs": [],
   "source": [
    "city = \"\"\"11 서울특별시\n",
    "42 강원도\n",
    "26 부산광역시\n",
    "43 충청북도\n",
    "27 대구광역시\n",
    "44 충청남도\n",
    "28 인천광역시\n",
    "45 전라북도\n",
    "29 광주광역시\n",
    "46 전라남도\n",
    "30 대전광역시\n",
    "47 경상북도\n",
    "31 울산광역시\n",
    "48 경상남도\n",
    "36 세종특별자치시\n",
    "49 제주특별자치도\n",
    "41 경기도\"\"\""
   ]
  },
  {
   "cell_type": "code",
   "execution_count": null,
   "metadata": {},
   "outputs": [],
   "source": [
    "city_list = city.split(\"\\n\")\n",
    "city_name = {}\n",
    "for city_info in city_list:\n",
    "    city_split = city_info.split()\n",
    "    city_key = int(city_split[0])\n",
    "    city_val = city_split[-1]\n",
    "    city_name[city_key] = city_val\n",
    "    \n",
    "print(city_name)"
   ]
  },
  {
   "cell_type": "code",
   "execution_count": null,
   "metadata": {},
   "outputs": [],
   "source": [
    "df[\"시도명\"] = df[\"시도코드\"].map(city_name)\n",
    "df[[\"시도명\", \"시도코드\"]].head()"
   ]
  },
  {
   "cell_type": "markdown",
   "metadata": {},
   "source": [
    "### '연령대코드(5세단위)' 를 연령대로 변환하기"
   ]
  },
  {
   "cell_type": "code",
   "execution_count": null,
   "metadata": {},
   "outputs": [],
   "source": [
    "# '연령대코드(5세단위)' 를 연령대로 나타내기\n",
    "age_code = \"\"\"1 00~04세 \n",
    "2 05~09세\n",
    "3 10~14세\n",
    "4 15~19세\n",
    "5 20~24세\n",
    "6 25~29세\n",
    "7 30~34세\n",
    "8 35~39세\n",
    "9 40~44세\n",
    "11 50~54세\n",
    "10 45~49세\n",
    "12 55~59세\n",
    "13 60~64세\n",
    "14 65~69세\n",
    "15 70~74세\n",
    "16 75~79세\n",
    "17 80~84세\n",
    "18 85세+\"\"\""
   ]
  },
  {
   "cell_type": "code",
   "execution_count": null,
   "metadata": {},
   "outputs": [],
   "source": [
    "age_list = age_code.split(\"\\n\")\n",
    "age_dict = {}\n",
    "for age_pair in age_list:\n",
    "    age_split = age_pair.split(\" \")\n",
    "    key = age_split[0]\n",
    "    key = int(key)\n",
    "    val = age_split[1]\n",
    "    age_dict[key] = val"
   ]
  },
  {
   "cell_type": "code",
   "execution_count": null,
   "metadata": {},
   "outputs": [],
   "source": [
    "age_dict"
   ]
  },
  {
   "cell_type": "code",
   "execution_count": null,
   "metadata": {},
   "outputs": [],
   "source": [
    "df[\"연령대\"] = df[\"연령대코드(5세단위)\"].map(age_dict)"
   ]
  },
  {
   "cell_type": "markdown",
   "metadata": {},
   "source": [
    "### 특정 약품일반성분명코드로 서브셋 만들기\n",
    "* isin 사용하기"
   ]
  },
  {
   "cell_type": "code",
   "execution_count": null,
   "metadata": {},
   "outputs": [],
   "source": [
    "# 여러 개를 찾을 때\n",
    "df_sample = df[df[\"약품일반성분명코드\"].isin([\"246506ATB\", \"246503ACH\"])]\n",
    "df_sample.shape"
   ]
  },
  {
   "cell_type": "markdown",
   "metadata": {},
   "source": [
    "## 파일로 저장하기"
   ]
  },
  {
   "cell_type": "code",
   "execution_count": null,
   "metadata": {},
   "outputs": [],
   "source": [
    "# 파일로 저장하기\n",
    "df_sample.to_csv(\"sample.csv\", index=False, encoding=\"cp949\")"
   ]
  },
  {
   "cell_type": "code",
   "execution_count": null,
   "metadata": {},
   "outputs": [],
   "source": [
    "# 저장된 파일 읽어와서 확인하기\n",
    "pd.read_csv(\"sample.csv\", encoding=\"cp949\").head()"
   ]
  },
  {
   "cell_type": "markdown",
   "metadata": {},
   "source": [
    "## 연도별 처방 수"
   ]
  },
  {
   "cell_type": "code",
   "execution_count": null,
   "metadata": {},
   "outputs": [],
   "source": [
    "# 범주형 vs 범주형 값을 구할 때 crosstab 을 사용합니다.\n",
    "# 연도별로 우루사와 고덱스의 처방수를 구합니다.\n",
    "pd.crosstab(df[\"연\"], df[\"우루사\"])"
   ]
  },
  {
   "cell_type": "code",
   "execution_count": null,
   "metadata": {},
   "outputs": [],
   "source": [
    "# 위에서 구한 값을 pivot_table 로 똑같이 구해봅니다.\n",
    "# 연도별로 우루사와 고덱스의 처방수를 구합니다.\n",
    "# aggfunc 에 len 을 사용하면 갯수를 카운트 합니다.\n",
    "# \"count\"를 사용해도 됩니다.\n",
    "year_ursa = pd.pivot_table(data=df, index=[\"연\", \"우루사\"],  \n",
    "               values=\"가입자일련번호\", aggfunc=\"count\")\n",
    "year_ursa.columns = [\"처방수\"]\n",
    "year_ursa = year_ursa.reset_index()\n",
    "year_ursa"
   ]
  },
  {
   "cell_type": "code",
   "execution_count": null,
   "metadata": {},
   "outputs": [],
   "source": [
    "# 위에서 구한 값을 pointplot으로 시각화 합니다.\n",
    "sns.pointplot(data=year_ursa, x=\"연\", y=\"처방수\", hue=\"우루사\")"
   ]
  },
  {
   "cell_type": "code",
   "execution_count": null,
   "metadata": {},
   "outputs": [],
   "source": [
    "# 위에서 구한 값을 countplot으로 시각화 합니다.\n",
    "sns.countplot(data=df, x=\"연\", hue=\"우루사\")"
   ]
  },
  {
   "cell_type": "markdown",
   "metadata": {},
   "source": [
    "## 연도별 처방 금액"
   ]
  },
  {
   "cell_type": "code",
   "execution_count": null,
   "metadata": {},
   "outputs": [],
   "source": [
    "# 연도별 처방금액의 합계를 구합니다.\n",
    "year_count_sum = pd.pivot_table(data=df, index=\"연\", values=\"금액\", \n",
    "                          aggfunc=\"sum\")\n",
    "year_count_sum[\"금액\"].map(lambda x: f\"{x:,.0f}\")"
   ]
  },
  {
   "cell_type": "code",
   "execution_count": null,
   "metadata": {},
   "outputs": [],
   "source": [
    "# 위에서 구한 값을 시각화 합니다.\n",
    "year_count_sum.plot()"
   ]
  },
  {
   "cell_type": "code",
   "execution_count": null,
   "metadata": {},
   "outputs": [],
   "source": [
    "# 우루사 vs 고덱스의 연도별 처방 금액을 구합니다.\n",
    "\n",
    "year_ursa = pd.pivot_table(data=df, index=[\"연\", \"우루사\"],  \n",
    "               values=\"가입자일련번호\", aggfunc=\"sum\")\n",
    "year_ursa.columns = [\"처방금액\"]\n",
    "year_ursa = year_ursa.reset_index()\n",
    "year_ursa"
   ]
  },
  {
   "cell_type": "code",
   "execution_count": null,
   "metadata": {},
   "outputs": [],
   "source": [
    "# 위에서 구한 값을 pointplot으로 시각화 합니다.\n",
    "sns.pointplot(data=year_ursa, x=\"연\", y=\"처방금액\", hue=\"우루사\")"
   ]
  },
  {
   "cell_type": "markdown",
   "metadata": {},
   "source": [
    "### 시도별 처방수와 금액 구하기"
   ]
  },
  {
   "cell_type": "code",
   "execution_count": null,
   "metadata": {},
   "outputs": [],
   "source": [
    "year_ursa = pd.pivot_table(data=df, index=\"연\",\n",
    "                           columns = \"시도명\",\n",
    "                           values=\"가입자일련번호\", aggfunc=\"count\")\n",
    "year_ursa.fillna(0).astype(int).style.bar()"
   ]
  },
  {
   "cell_type": "code",
   "execution_count": null,
   "metadata": {},
   "outputs": [],
   "source": [
    "year_ursa.fillna(0).astype(int).style.background_gradient()"
   ]
  },
  {
   "cell_type": "markdown",
   "metadata": {},
   "source": [
    "### 시도별 서브플롯 그리기"
   ]
  },
  {
   "cell_type": "code",
   "execution_count": null,
   "metadata": {},
   "outputs": [],
   "source": [
    "# catplot을 통해 연도별, 금액을 시도명으로 서브플롯을 그립니다.\n",
    "# 이 때, 우루사 여부에 따라 다른색상으로 pointplot을 그립니다.\n",
    "sns.catplot(data=df, x=\"연\", y=\"금액\", \n",
    "            hue=\"우루사\", col=\"시도명\", col_wrap=4, \n",
    "            kind=\"point\", ci=None)"
   ]
  },
  {
   "cell_type": "markdown",
   "metadata": {},
   "source": [
    "## 연도, 월별 처방수와 금액"
   ]
  },
  {
   "cell_type": "code",
   "execution_count": null,
   "metadata": {},
   "outputs": [],
   "source": [
    "group = df.groupby([\"월\", \"연\"])[\"금액\"].agg([\"count\", \"sum\"]).unstack()\n",
    "group[\"sum\"].style.format(\"{:,}\")"
   ]
  },
  {
   "cell_type": "markdown",
   "metadata": {},
   "source": [
    "* 스타일 적용 : https://pandas.pydata.org/pandas-docs/stable/user_guide/style.html"
   ]
  },
  {
   "cell_type": "code",
   "execution_count": null,
   "metadata": {},
   "outputs": [],
   "source": [
    "# background_gradient 스타일을 적용해서 값의 많고 적음에 따라 색상으로 구분되게 그립니다.\n",
    "group[\"sum\"].style.background_gradient(cmap=\"Blues\")"
   ]
  },
  {
   "cell_type": "code",
   "execution_count": null,
   "metadata": {},
   "outputs": [],
   "source": [
    "# 그룹화된 결과에서 처방수만 가져오기\n",
    "# 수치의 높고 낮음을 색상으로 표현하기 위해 background_gradient 를 사용합니다.\n",
    "group[\"count\"].style.background_gradient(cmap=\"Blues\")"
   ]
  },
  {
   "cell_type": "code",
   "execution_count": null,
   "metadata": {},
   "outputs": [],
   "source": [
    "# 그룹화된 결과에서 처방금액 합계만 보기\n",
    "# bar 를 통해 셀안에 그래프로 표현하기\n",
    "group[\"sum\"].style.bar()"
   ]
  },
  {
   "cell_type": "code",
   "execution_count": null,
   "metadata": {},
   "outputs": [],
   "source": [
    "# 위에서 만든 변수에서  group[\"count\"] 값만 가져와서 year_month_count 변수에 담습니다.\n",
    "year_month_count = group[\"count\"]\n",
    "year_month_count"
   ]
  },
  {
   "cell_type": "code",
   "execution_count": null,
   "metadata": {},
   "outputs": [],
   "source": [
    "# year_month_count 변수에 담긴 값을 heatmap 으로 그립니다.\n",
    "# cmap 을 YlGn 으로 표시합니다.\n",
    "plt.figure(figsize=(20, 4))\n",
    "sns.heatmap(year_month_count, annot=True, cmap=\"YlGn\", fmt=\",.0f\")"
   ]
  },
  {
   "cell_type": "markdown",
   "metadata": {},
   "source": [
    "## 연, 월별 처방 수와 합계 금액\n",
    "* 연, 월별 처방 수와 합계금액을 groupby 로 구해보세요."
   ]
  },
  {
   "cell_type": "code",
   "execution_count": null,
   "metadata": {},
   "outputs": [],
   "source": [
    "# 위에서 구한 값은 index와 columns에 연 또는 월이 들어갑니다.\n",
    "# 같은 값을 갖는 데이터를 index 에 연, 월이 모두 들어가도록 groupby 로 연산을 해봅니다.\n",
    "# index에 연, 월이 모두 들어갈 때 위의 형태의 데이터프레임과 다루는 차이를 알아봅니다.\n",
    "# 금액 값에 대해 처방수와 금액의 합계를 구합니다.\n",
    "df_group_year = df.groupby([\"연\", \"월\"])[\"금액\"].agg([\"count\", \"sum\"])\n",
    "df_group_year"
   ]
  },
  {
   "cell_type": "code",
   "execution_count": null,
   "metadata": {},
   "outputs": [],
   "source": [
    "df_group_year[\"count\"].plot()"
   ]
  },
  {
   "cell_type": "code",
   "execution_count": null,
   "metadata": {
    "scrolled": true
   },
   "outputs": [],
   "source": [
    "# 월별 처방금액 합계\n",
    "plt.figure(figsize=(10, 4))\n",
    "sns.pointplot(data=df, x=\"월\", y=\"금액\", hue=\"연\", estimator=np.sum)"
   ]
  },
  {
   "cell_type": "code",
   "execution_count": null,
   "metadata": {},
   "outputs": [],
   "source": [
    "# \"약품일반성분명\"에 따라 평균 처방 금액 보기\n",
    "plt.figure(figsize=(10, 4))\n",
    "sns.pointplot(data=df, x=\"월\", y=\"금액\", hue=\"약품일반성분명\")"
   ]
  },
  {
   "cell_type": "code",
   "execution_count": null,
   "metadata": {},
   "outputs": [],
   "source": [
    "# 월별 \"약품일반성분명\"에 따른 처방금액 합계\n",
    "plt.figure(figsize=(10, 4))\n",
    "sns.pointplot(data=df, x=\"월\", y=\"금액\", hue=\"약품일반성분명\", estimator=np.sum)"
   ]
  },
  {
   "cell_type": "code",
   "execution_count": null,
   "metadata": {},
   "outputs": [],
   "source": [
    "# 월별 \"우루사\" 여부에 따른 처방금액 합계\n",
    "plt.figure(figsize=(10, 4))\n",
    "sns.pointplot(data=df, x=\"월\", y=\"금액\", hue=\"우루사\", estimator=np.sum)"
   ]
  },
  {
   "cell_type": "code",
   "execution_count": null,
   "metadata": {},
   "outputs": [],
   "source": [
    "# 월별 처방수\n",
    "plt.figure(figsize=(10, 4))\n",
    "sns.pointplot(data=df, x=\"월\", y=\"금액\", hue=\"우루사\", estimator=len)"
   ]
  },
  {
   "cell_type": "markdown",
   "metadata": {},
   "source": [
    "## 요일별 처방수"
   ]
  },
  {
   "cell_type": "code",
   "execution_count": null,
   "metadata": {},
   "outputs": [],
   "source": [
    "# countplot 을 통해 요일별 우루사 여부에 따른 처방수를 시각화 합니다.\n",
    "# 이때, data에 df.sort_values(\"요일\") 로 \n",
    "# 요일별로 정렬된 데이터를 넣어주면 요일별로 정렬이 가능합니다.\n",
    "sns.countplot(data=df.sort_values(\"요일\"), x=\"요일명\", hue=\"우루사\")"
   ]
  },
  {
   "cell_type": "code",
   "execution_count": null,
   "metadata": {},
   "outputs": [],
   "source": [
    "# \"약품일반성분명코드\" 별로 요일별 처방수를 시각화\n",
    "sns.countplot(data=df.sort_values(\"요일\"), x=\"요일명\", hue=\"약품일반성분명코드\")"
   ]
  },
  {
   "cell_type": "markdown",
   "metadata": {},
   "source": [
    "### 연령대코드 vs 성별코드"
   ]
  },
  {
   "cell_type": "code",
   "execution_count": null,
   "metadata": {},
   "outputs": [],
   "source": [
    "sns.countplot(data=df, x=\"연령대코드(5세단위)\", hue=\"성별코드\")"
   ]
  },
  {
   "cell_type": "markdown",
   "metadata": {},
   "source": [
    "### 월 vs 성별코드"
   ]
  },
  {
   "cell_type": "code",
   "execution_count": null,
   "metadata": {},
   "outputs": [],
   "source": [
    "sns.countplot(data=df, x=\"월\", hue=\"성별코드\")"
   ]
  },
  {
   "cell_type": "markdown",
   "metadata": {},
   "source": [
    "## 우루사 vs 고덱스"
   ]
  },
  {
   "cell_type": "markdown",
   "metadata": {},
   "source": [
    "### 성별코드별 처방수"
   ]
  },
  {
   "cell_type": "code",
   "execution_count": null,
   "metadata": {},
   "outputs": [],
   "source": [
    "plt.figure(figsize=(15, 4))\n",
    "sns.countplot(data=df, x=\"약품일반성분명\", hue=\"성별코드\")"
   ]
  },
  {
   "cell_type": "code",
   "execution_count": null,
   "metadata": {},
   "outputs": [],
   "source": [
    "sns.countplot(data=df, x=\"우루사\", hue=\"성별코드\")"
   ]
  },
  {
   "cell_type": "code",
   "execution_count": null,
   "metadata": {},
   "outputs": [],
   "source": [
    "sns.countplot(data=df, x=\"연\", hue=\"우루사\")"
   ]
  },
  {
   "cell_type": "code",
   "execution_count": null,
   "metadata": {},
   "outputs": [],
   "source": [
    "plt.figure(figsize=(15, 4))\n",
    "sns.countplot(data=df, x=\"월\", hue=\"약품일반성분명\")\n",
    "plt.legend(bbox_to_anchor=(1, 1))"
   ]
  },
  {
   "cell_type": "code",
   "execution_count": null,
   "metadata": {},
   "outputs": [],
   "source": [
    "sns.countplot(data=df, x=\"월\", hue=\"우루사\")"
   ]
  },
  {
   "cell_type": "code",
   "execution_count": null,
   "metadata": {},
   "outputs": [],
   "source": [
    "plt.figure(figsize=(15, 4))\n",
    "sns.countplot(data=df, x=\"일\", hue=\"성별코드\")"
   ]
  },
  {
   "cell_type": "markdown",
   "metadata": {},
   "source": [
    "### 기간별 단가와 금액"
   ]
  },
  {
   "cell_type": "code",
   "execution_count": null,
   "metadata": {},
   "outputs": [],
   "source": [
    "# 연도별 평균단가를 \"성별코드\"에 따라 다른 색상으로 그립니다.\n",
    "sns.pointplot(data=df, x=\"연\", y=\"단가\", hue=\"성별코드\", ci=None)"
   ]
  },
  {
   "cell_type": "code",
   "execution_count": null,
   "metadata": {},
   "outputs": [],
   "source": [
    "# 연도별 평균금액을 \"성별코드\"에 따라 다른 색상으로 그립니다.\n",
    "sns.pointplot(data=df, x=\"연\", y=\"금액\", hue=\"성별코드\", ci=None)"
   ]
  },
  {
   "cell_type": "code",
   "execution_count": null,
   "metadata": {},
   "outputs": [],
   "source": [
    "# 연도별 \"1회투약량\"을 \"우루사\"여부에 따라 다른 색상으로 그립니다.\n",
    "sns.pointplot(data=df, x=\"연\", y=\"1회투약량\", hue=\"우루사\", ci=None, \n",
    "              estimator=len)"
   ]
  },
  {
   "cell_type": "code",
   "execution_count": null,
   "metadata": {},
   "outputs": [],
   "source": [
    "# 연도별 단가를 \"우루사\" 여부에 따라 다른 색상으로 그립니다.\n",
    "sns.pointplot(data=df, x=\"연\", y=\"단가\", hue=\"우루사\")"
   ]
  },
  {
   "cell_type": "code",
   "execution_count": null,
   "metadata": {},
   "outputs": [],
   "source": [
    "# 월별 평균 처방 금액을 성별코드에 따라 다른 색상으로 그립니다.\n",
    "sns.pointplot(data=df, x=\"월\", y=\"금액\", hue=\"성별코드\")"
   ]
  },
  {
   "cell_type": "code",
   "execution_count": null,
   "metadata": {},
   "outputs": [],
   "source": [
    "# 월별 평균 처방 금액을 우루사 여부에 따라 다른 색상으로 그립니다.\n",
    "sns.pointplot(data=df, x=\"월\", y=\"금액\", hue=\"우루사\")"
   ]
  },
  {
   "cell_type": "markdown",
   "metadata": {},
   "source": [
    "### 성별코드별"
   ]
  },
  {
   "cell_type": "code",
   "execution_count": null,
   "metadata": {},
   "outputs": [],
   "source": [
    "# 연도별 평균 총투여일수\n",
    "sns.pointplot(data=df, x=\"연\", y=\"총투여일수\", hue=\"성별코드\")"
   ]
  },
  {
   "cell_type": "code",
   "execution_count": null,
   "metadata": {},
   "outputs": [],
   "source": [
    "# 연도별 평균 1일투약량\n",
    "sns.pointplot(data=df, x=\"연\", y=\"1일투약량\", hue=\"성별코드\")"
   ]
  },
  {
   "cell_type": "code",
   "execution_count": null,
   "metadata": {},
   "outputs": [],
   "source": [
    "# 연도별 평균 연령대코드\n",
    "sns.pointplot(data=df, x=\"연\", y=\"연령대코드(5세단위)\", hue=\"성별코드\")"
   ]
  },
  {
   "cell_type": "markdown",
   "metadata": {},
   "source": [
    "### 연령대코드(5세단위)"
   ]
  },
  {
   "cell_type": "code",
   "execution_count": null,
   "metadata": {},
   "outputs": [],
   "source": [
    "sns.pointplot(data=df, x=\"연령대코드(5세단위)\", y=\"총투여일수\", hue=\"성별코드\")"
   ]
  },
  {
   "cell_type": "code",
   "execution_count": null,
   "metadata": {},
   "outputs": [],
   "source": [
    "sns.pointplot(data=df, x=\"연령대코드(5세단위)\", y=\"금액\", hue=\"성별코드\")"
   ]
  },
  {
   "cell_type": "code",
   "execution_count": null,
   "metadata": {},
   "outputs": [],
   "source": [
    "sns.pointplot(data=df, x=\"연령대코드(5세단위)\", y=\"1일투약량\", hue=\"성별코드\")"
   ]
  },
  {
   "cell_type": "code",
   "execution_count": null,
   "metadata": {},
   "outputs": [],
   "source": []
  },
  {
   "cell_type": "code",
   "execution_count": null,
   "metadata": {},
   "outputs": [],
   "source": []
  },
  {
   "cell_type": "code",
   "execution_count": null,
   "metadata": {},
   "outputs": [],
   "source": []
  }
 ],
 "metadata": {
  "kernelspec": {
   "display_name": "Python 3",
   "language": "python",
   "name": "python3"
  },
  "language_info": {
   "codemirror_mode": {
    "name": "ipython",
    "version": 3
   },
   "file_extension": ".py",
   "mimetype": "text/x-python",
   "name": "python",
   "nbconvert_exporter": "python",
   "pygments_lexer": "ipython3",
   "version": "3.7.6"
  },
  "toc": {
   "base_numbering": 1,
   "nav_menu": {},
   "number_sections": true,
   "sideBar": true,
   "skip_h1_title": false,
   "title_cell": "Table of Contents",
   "title_sidebar": "Contents",
   "toc_cell": false,
   "toc_position": {
    "height": "calc(100% - 180px)",
    "left": "10px",
    "top": "150px",
    "width": "204.8px"
   },
   "toc_section_display": true,
   "toc_window_display": false
  },
  "varInspector": {
   "cols": {
    "lenName": 16,
    "lenType": 16,
    "lenVar": 40
   },
   "kernels_config": {
    "python": {
     "delete_cmd_postfix": "",
     "delete_cmd_prefix": "del ",
     "library": "var_list.py",
     "varRefreshCmd": "print(var_dic_list())"
    },
    "r": {
     "delete_cmd_postfix": ") ",
     "delete_cmd_prefix": "rm(",
     "library": "var_list.r",
     "varRefreshCmd": "cat(var_dic_list()) "
    }
   },
   "types_to_exclude": [
    "module",
    "function",
    "builtin_function_or_method",
    "instance",
    "_Feature"
   ],
   "window_display": false
  }
 },
 "nbformat": 4,
 "nbformat_minor": 2
}
