{
 "cells": [
  {
   "cell_type": "markdown",
   "metadata": {},
   "source": [
    "## 서울시에서 공개한 코로나19 발생동향 분석\n",
    "* http://www.seoul.go.kr/coronaV/coronaStatus.do"
   ]
  },
  {
   "cell_type": "code",
   "execution_count": 3,
   "metadata": {},
   "outputs": [],
   "source": [
    "# pandas, numpy 라이브러리 로드하기\n",
    "import pandas as pd\n",
    "import numpy as np"
   ]
  },
  {
   "cell_type": "code",
   "execution_count": 4,
   "metadata": {},
   "outputs": [
    {
     "data": {
      "text/plain": [
       "'seoul-covid19-11_28_.csv'"
      ]
     },
     "execution_count": 4,
     "metadata": {},
     "output_type": "execute_result"
    }
   ],
   "source": [
    "# file_name 변수에 read_html 로 저장한 파일명을 지정해 줍니다.\n",
    "file_name = f\"seoul-covid19-11_28_.csv\"\n",
    "file_name"
   ]
  },
  {
   "cell_type": "code",
   "execution_count": 6,
   "metadata": {},
   "outputs": [
    {
     "data": {
      "text/plain": [
       "(8652, 7)"
      ]
     },
     "execution_count": 6,
     "metadata": {},
     "output_type": "execute_result"
    }
   ],
   "source": [
    "# read_csv 로 csv 파일을 불러와 주세요.\n",
    "\n",
    "# df\n",
    "df = pd.read_csv(file_name)\n",
    "df.shape"
   ]
  },
  {
   "cell_type": "code",
   "execution_count": 11,
   "metadata": {},
   "outputs": [
    {
     "data": {
      "text/html": [
       "<div>\n",
       "<style scoped>\n",
       "    .dataframe tbody tr th:only-of-type {\n",
       "        vertical-align: middle;\n",
       "    }\n",
       "\n",
       "    .dataframe tbody tr th {\n",
       "        vertical-align: top;\n",
       "    }\n",
       "\n",
       "    .dataframe thead th {\n",
       "        text-align: right;\n",
       "    }\n",
       "</style>\n",
       "<table border=\"1\" class=\"dataframe\">\n",
       "  <thead>\n",
       "    <tr style=\"text-align: right;\">\n",
       "      <th></th>\n",
       "      <th>연번</th>\n",
       "      <th>환자</th>\n",
       "      <th>확진일</th>\n",
       "      <th>거주지</th>\n",
       "      <th>여행력</th>\n",
       "      <th>접촉력</th>\n",
       "      <th>퇴원현황</th>\n",
       "    </tr>\n",
       "  </thead>\n",
       "  <tbody>\n",
       "    <tr>\n",
       "      <th>0</th>\n",
       "      <td>8652</td>\n",
       "      <td>33532</td>\n",
       "      <td>11.28.</td>\n",
       "      <td>서대문구</td>\n",
       "      <td>-</td>\n",
       "      <td>기타 확진자 접촉</td>\n",
       "      <td>NaN</td>\n",
       "    </tr>\n",
       "    <tr>\n",
       "      <th>1</th>\n",
       "      <td>8651</td>\n",
       "      <td>33756</td>\n",
       "      <td>11.28.</td>\n",
       "      <td>타시도</td>\n",
       "      <td>-</td>\n",
       "      <td>감염경로 조사중</td>\n",
       "      <td>NaN</td>\n",
       "    </tr>\n",
       "    <tr>\n",
       "      <th>2</th>\n",
       "      <td>8650</td>\n",
       "      <td>33772</td>\n",
       "      <td>11.28.</td>\n",
       "      <td>동작구</td>\n",
       "      <td>-</td>\n",
       "      <td>동작구 임용단기학원 관련</td>\n",
       "      <td>NaN</td>\n",
       "    </tr>\n",
       "    <tr>\n",
       "      <th>3</th>\n",
       "      <td>8649</td>\n",
       "      <td>33776</td>\n",
       "      <td>11.28.</td>\n",
       "      <td>은평구</td>\n",
       "      <td>-</td>\n",
       "      <td>기타 확진자 접촉</td>\n",
       "      <td>NaN</td>\n",
       "    </tr>\n",
       "    <tr>\n",
       "      <th>4</th>\n",
       "      <td>8648</td>\n",
       "      <td>33768</td>\n",
       "      <td>11.28.</td>\n",
       "      <td>서초구</td>\n",
       "      <td>-</td>\n",
       "      <td>기타 확진자 접촉</td>\n",
       "      <td>NaN</td>\n",
       "    </tr>\n",
       "    <tr>\n",
       "      <th>...</th>\n",
       "      <td>...</td>\n",
       "      <td>...</td>\n",
       "      <td>...</td>\n",
       "      <td>...</td>\n",
       "      <td>...</td>\n",
       "      <td>...</td>\n",
       "      <td>...</td>\n",
       "    </tr>\n",
       "    <tr>\n",
       "      <th>8647</th>\n",
       "      <td>5</td>\n",
       "      <td>9</td>\n",
       "      <td>1.31.</td>\n",
       "      <td>성북구</td>\n",
       "      <td>-</td>\n",
       "      <td>#5 접촉</td>\n",
       "      <td>퇴원</td>\n",
       "    </tr>\n",
       "    <tr>\n",
       "      <th>8648</th>\n",
       "      <td>4</td>\n",
       "      <td>7</td>\n",
       "      <td>1.30.</td>\n",
       "      <td>마포구</td>\n",
       "      <td>중국 우한시</td>\n",
       "      <td>해외 접촉</td>\n",
       "      <td>퇴원</td>\n",
       "    </tr>\n",
       "    <tr>\n",
       "      <th>8649</th>\n",
       "      <td>3</td>\n",
       "      <td>6</td>\n",
       "      <td>1.30.</td>\n",
       "      <td>종로구</td>\n",
       "      <td>-</td>\n",
       "      <td>#3 접촉</td>\n",
       "      <td>퇴원</td>\n",
       "    </tr>\n",
       "    <tr>\n",
       "      <th>8650</th>\n",
       "      <td>2</td>\n",
       "      <td>5</td>\n",
       "      <td>1.30.</td>\n",
       "      <td>중랑구</td>\n",
       "      <td>중국 우한시</td>\n",
       "      <td>해외 접촉</td>\n",
       "      <td>퇴원</td>\n",
       "    </tr>\n",
       "    <tr>\n",
       "      <th>8651</th>\n",
       "      <td>1</td>\n",
       "      <td>2</td>\n",
       "      <td>1.24.</td>\n",
       "      <td>강서구</td>\n",
       "      <td>중국 우한시</td>\n",
       "      <td>해외 접촉</td>\n",
       "      <td>퇴원</td>\n",
       "    </tr>\n",
       "  </tbody>\n",
       "</table>\n",
       "<p>8652 rows × 7 columns</p>\n",
       "</div>"
      ],
      "text/plain": [
       "        연번     환자     확진일   거주지     여행력            접촉력 퇴원현황\n",
       "0     8652  33532  11.28.  서대문구       -      기타 확진자 접촉  NaN\n",
       "1     8651  33756  11.28.   타시도       -       감염경로 조사중  NaN\n",
       "2     8650  33772  11.28.   동작구       -  동작구 임용단기학원 관련  NaN\n",
       "3     8649  33776  11.28.   은평구       -      기타 확진자 접촉  NaN\n",
       "4     8648  33768  11.28.   서초구       -      기타 확진자 접촉  NaN\n",
       "...    ...    ...     ...   ...     ...            ...  ...\n",
       "8647     5      9   1.31.   성북구       -          #5 접촉   퇴원\n",
       "8648     4      7   1.30.   마포구  중국 우한시          해외 접촉   퇴원\n",
       "8649     3      6   1.30.   종로구       -          #3 접촉   퇴원\n",
       "8650     2      5   1.30.   중랑구  중국 우한시          해외 접촉   퇴원\n",
       "8651     1      2   1.24.   강서구  중국 우한시          해외 접촉   퇴원\n",
       "\n",
       "[8652 rows x 7 columns]"
      ]
     },
     "execution_count": 11,
     "metadata": {},
     "output_type": "execute_result"
    }
   ],
   "source": [
    "# \"연번\"을 기준으로 역순으로 정렬합니다.\n",
    "df = df.sort_values(\"연번\",ascending = False)\n",
    "df"
   ]
  },
  {
   "cell_type": "code",
   "execution_count": 12,
   "metadata": {},
   "outputs": [
    {
     "data": {
      "text/html": [
       "<div>\n",
       "<style scoped>\n",
       "    .dataframe tbody tr th:only-of-type {\n",
       "        vertical-align: middle;\n",
       "    }\n",
       "\n",
       "    .dataframe tbody tr th {\n",
       "        vertical-align: top;\n",
       "    }\n",
       "\n",
       "    .dataframe thead th {\n",
       "        text-align: right;\n",
       "    }\n",
       "</style>\n",
       "<table border=\"1\" class=\"dataframe\">\n",
       "  <thead>\n",
       "    <tr style=\"text-align: right;\">\n",
       "      <th></th>\n",
       "      <th>연번</th>\n",
       "      <th>환자</th>\n",
       "      <th>확진일</th>\n",
       "      <th>거주지</th>\n",
       "      <th>여행력</th>\n",
       "      <th>접촉력</th>\n",
       "      <th>퇴원현황</th>\n",
       "    </tr>\n",
       "  </thead>\n",
       "  <tbody>\n",
       "    <tr>\n",
       "      <th>0</th>\n",
       "      <td>8652</td>\n",
       "      <td>33532</td>\n",
       "      <td>11.28.</td>\n",
       "      <td>서대문구</td>\n",
       "      <td>-</td>\n",
       "      <td>기타 확진자 접촉</td>\n",
       "      <td>NaN</td>\n",
       "    </tr>\n",
       "    <tr>\n",
       "      <th>1</th>\n",
       "      <td>8651</td>\n",
       "      <td>33756</td>\n",
       "      <td>11.28.</td>\n",
       "      <td>타시도</td>\n",
       "      <td>-</td>\n",
       "      <td>감염경로 조사중</td>\n",
       "      <td>NaN</td>\n",
       "    </tr>\n",
       "    <tr>\n",
       "      <th>2</th>\n",
       "      <td>8650</td>\n",
       "      <td>33772</td>\n",
       "      <td>11.28.</td>\n",
       "      <td>동작구</td>\n",
       "      <td>-</td>\n",
       "      <td>동작구 임용단기학원 관련</td>\n",
       "      <td>NaN</td>\n",
       "    </tr>\n",
       "    <tr>\n",
       "      <th>3</th>\n",
       "      <td>8649</td>\n",
       "      <td>33776</td>\n",
       "      <td>11.28.</td>\n",
       "      <td>은평구</td>\n",
       "      <td>-</td>\n",
       "      <td>기타 확진자 접촉</td>\n",
       "      <td>NaN</td>\n",
       "    </tr>\n",
       "    <tr>\n",
       "      <th>4</th>\n",
       "      <td>8648</td>\n",
       "      <td>33768</td>\n",
       "      <td>11.28.</td>\n",
       "      <td>서초구</td>\n",
       "      <td>-</td>\n",
       "      <td>기타 확진자 접촉</td>\n",
       "      <td>NaN</td>\n",
       "    </tr>\n",
       "  </tbody>\n",
       "</table>\n",
       "</div>"
      ],
      "text/plain": [
       "     연번     환자     확진일   거주지 여행력            접촉력 퇴원현황\n",
       "0  8652  33532  11.28.  서대문구   -      기타 확진자 접촉  NaN\n",
       "1  8651  33756  11.28.   타시도   -       감염경로 조사중  NaN\n",
       "2  8650  33772  11.28.   동작구   -  동작구 임용단기학원 관련  NaN\n",
       "3  8649  33776  11.28.   은평구   -      기타 확진자 접촉  NaN\n",
       "4  8648  33768  11.28.   서초구   -      기타 확진자 접촉  NaN"
      ]
     },
     "execution_count": 12,
     "metadata": {},
     "output_type": "execute_result"
    }
   ],
   "source": [
    "# head 로 미리보기를 합니다.\n",
    "df.head()\n"
   ]
  },
  {
   "cell_type": "code",
   "execution_count": 13,
   "metadata": {},
   "outputs": [
    {
     "data": {
      "text/html": [
       "<div>\n",
       "<style scoped>\n",
       "    .dataframe tbody tr th:only-of-type {\n",
       "        vertical-align: middle;\n",
       "    }\n",
       "\n",
       "    .dataframe tbody tr th {\n",
       "        vertical-align: top;\n",
       "    }\n",
       "\n",
       "    .dataframe thead th {\n",
       "        text-align: right;\n",
       "    }\n",
       "</style>\n",
       "<table border=\"1\" class=\"dataframe\">\n",
       "  <thead>\n",
       "    <tr style=\"text-align: right;\">\n",
       "      <th></th>\n",
       "      <th>연번</th>\n",
       "      <th>환자</th>\n",
       "      <th>확진일</th>\n",
       "      <th>거주지</th>\n",
       "      <th>여행력</th>\n",
       "      <th>접촉력</th>\n",
       "      <th>퇴원현황</th>\n",
       "    </tr>\n",
       "  </thead>\n",
       "  <tbody>\n",
       "    <tr>\n",
       "      <th>8647</th>\n",
       "      <td>5</td>\n",
       "      <td>9</td>\n",
       "      <td>1.31.</td>\n",
       "      <td>성북구</td>\n",
       "      <td>-</td>\n",
       "      <td>#5 접촉</td>\n",
       "      <td>퇴원</td>\n",
       "    </tr>\n",
       "    <tr>\n",
       "      <th>8648</th>\n",
       "      <td>4</td>\n",
       "      <td>7</td>\n",
       "      <td>1.30.</td>\n",
       "      <td>마포구</td>\n",
       "      <td>중국 우한시</td>\n",
       "      <td>해외 접촉</td>\n",
       "      <td>퇴원</td>\n",
       "    </tr>\n",
       "    <tr>\n",
       "      <th>8649</th>\n",
       "      <td>3</td>\n",
       "      <td>6</td>\n",
       "      <td>1.30.</td>\n",
       "      <td>종로구</td>\n",
       "      <td>-</td>\n",
       "      <td>#3 접촉</td>\n",
       "      <td>퇴원</td>\n",
       "    </tr>\n",
       "    <tr>\n",
       "      <th>8650</th>\n",
       "      <td>2</td>\n",
       "      <td>5</td>\n",
       "      <td>1.30.</td>\n",
       "      <td>중랑구</td>\n",
       "      <td>중국 우한시</td>\n",
       "      <td>해외 접촉</td>\n",
       "      <td>퇴원</td>\n",
       "    </tr>\n",
       "    <tr>\n",
       "      <th>8651</th>\n",
       "      <td>1</td>\n",
       "      <td>2</td>\n",
       "      <td>1.24.</td>\n",
       "      <td>강서구</td>\n",
       "      <td>중국 우한시</td>\n",
       "      <td>해외 접촉</td>\n",
       "      <td>퇴원</td>\n",
       "    </tr>\n",
       "  </tbody>\n",
       "</table>\n",
       "</div>"
      ],
      "text/plain": [
       "      연번 환자    확진일  거주지     여행력    접촉력 퇴원현황\n",
       "8647   5  9  1.31.  성북구       -  #5 접촉   퇴원\n",
       "8648   4  7  1.30.  마포구  중국 우한시  해외 접촉   퇴원\n",
       "8649   3  6  1.30.  종로구       -  #3 접촉   퇴원\n",
       "8650   2  5  1.30.  중랑구  중국 우한시  해외 접촉   퇴원\n",
       "8651   1  2  1.24.  강서구  중국 우한시  해외 접촉   퇴원"
      ]
     },
     "execution_count": 13,
     "metadata": {},
     "output_type": "execute_result"
    }
   ],
   "source": [
    "# tail 로 미리보기를 합니다.\n",
    "df.tail()"
   ]
  },
  {
   "cell_type": "markdown",
   "metadata": {},
   "source": [
    "## 시각화 도구 불러오기"
   ]
  },
  {
   "cell_type": "code",
   "execution_count": 22,
   "metadata": {
    "scrolled": true
   },
   "outputs": [
    {
     "data": {
      "text/plain": [
       "<matplotlib.axes._subplots.AxesSubplot at 0x14eae1541f0>"
      ]
     },
     "execution_count": 22,
     "metadata": {},
     "output_type": "execute_result"
    },
    {
     "data": {
      "image/png": "[encoded data removed]",
      "text/plain": [
       "<Figure size 432x288 with 1 Axes>"
      ]
     },
     "metadata": {
      "image/png": {
       "height": 264,
       "width": 365
      },
      "needs_background": "light"
     },
     "output_type": "display_data"
    }
   ],
   "source": [
    "# matplotlib.pyplot 을 통해 한글폰트를 설정합니다.\n",
    "# plt.style.use 로 \"fivethirtyeight\" 스타일을 사용해 봅니다.\n",
    "import matplotlib.pyplot as plt\n",
    "\n",
    "plt.rc(\"font\",family=\"Malgun Gothic\")\n",
    "plt.rc(\"axes\", unicode_minus=False)\n",
    "\n",
    "pd.Series([1,3,5,-7,9]).plot(title=\"한글\")\n"
   ]
  },
  {
   "cell_type": "markdown",
   "metadata": {},
   "source": [
    "### 시각화 선명하게 설정하기"
   ]
  },
  {
   "cell_type": "code",
   "execution_count": 21,
   "metadata": {},
   "outputs": [],
   "source": [
    "# retina 디스플레이가 지원되는 환경에서 시각화의 폰트가 좀 더 선명해 보입니다.\n",
    "\n",
    "from IPython.display import set_matplotlib_formats\n",
    "set_matplotlib_formats(\"retina\")\n"
   ]
  },
  {
   "cell_type": "markdown",
   "metadata": {},
   "source": [
    "## 확진일"
   ]
  },
  {
   "cell_type": "code",
   "execution_count": 27,
   "metadata": {},
   "outputs": [
    {
     "data": {
      "text/plain": [
       "11.25.    212\n",
       "11.26.    204\n",
       "11.27.    178\n",
       "8.29.     167\n",
       "8.27.     160\n",
       "Name: 확진일, dtype: int64"
      ]
     },
     "execution_count": 27,
     "metadata": {},
     "output_type": "execute_result"
    }
   ],
   "source": [
    "# 확진일의 빈도수를 봅니다. 어느 날짜에 가장 많이 확진이 되었는지 봅니다.\n",
    "df[\"확진일\"].value_counts().head()"
   ]
  },
  {
   "cell_type": "code",
   "execution_count": 28,
   "metadata": {},
   "outputs": [
    {
     "data": {
      "text/plain": [
       "0    11.28.\n",
       "1    11.28.\n",
       "2    11.28.\n",
       "3    11.28.\n",
       "4    11.28.\n",
       "Name: 확진일, dtype: object"
      ]
     },
     "execution_count": 28,
     "metadata": {},
     "output_type": "execute_result"
    }
   ],
   "source": [
    "# \"확진일\" 컬럼의 데이터가 날짜 형태가 아니라 문자형태 입니다.\n",
    "df[\"확진일\"].head()"
   ]
  },
  {
   "cell_type": "code",
   "execution_count": 36,
   "metadata": {},
   "outputs": [
    {
     "data": {
      "text/html": [
       "<div>\n",
       "<style scoped>\n",
       "    .dataframe tbody tr th:only-of-type {\n",
       "        vertical-align: middle;\n",
       "    }\n",
       "\n",
       "    .dataframe tbody tr th {\n",
       "        vertical-align: top;\n",
       "    }\n",
       "\n",
       "    .dataframe thead th {\n",
       "        text-align: right;\n",
       "    }\n",
       "</style>\n",
       "<table border=\"1\" class=\"dataframe\">\n",
       "  <thead>\n",
       "    <tr style=\"text-align: right;\">\n",
       "      <th></th>\n",
       "      <th>확진일</th>\n",
       "      <th>확진일자</th>\n",
       "    </tr>\n",
       "  </thead>\n",
       "  <tbody>\n",
       "    <tr>\n",
       "      <th>count</th>\n",
       "      <td>8652</td>\n",
       "      <td>8652</td>\n",
       "    </tr>\n",
       "    <tr>\n",
       "      <th>unique</th>\n",
       "      <td>283</td>\n",
       "      <td>281</td>\n",
       "    </tr>\n",
       "    <tr>\n",
       "      <th>top</th>\n",
       "      <td>11.25.</td>\n",
       "      <td>2020-11-25 00:00:00</td>\n",
       "    </tr>\n",
       "    <tr>\n",
       "      <th>freq</th>\n",
       "      <td>212</td>\n",
       "      <td>212</td>\n",
       "    </tr>\n",
       "    <tr>\n",
       "      <th>first</th>\n",
       "      <td>NaN</td>\n",
       "      <td>2020-01-24 00:00:00</td>\n",
       "    </tr>\n",
       "    <tr>\n",
       "      <th>last</th>\n",
       "      <td>NaN</td>\n",
       "      <td>2020-11-28 00:00:00</td>\n",
       "    </tr>\n",
       "  </tbody>\n",
       "</table>\n",
       "</div>"
      ],
      "text/plain": [
       "           확진일                 확진일자\n",
       "count     8652                 8652\n",
       "unique     283                  281\n",
       "top     11.25.  2020-11-25 00:00:00\n",
       "freq       212                  212\n",
       "first      NaN  2020-01-24 00:00:00\n",
       "last       NaN  2020-11-28 00:00:00"
      ]
     },
     "execution_count": 36,
     "metadata": {},
     "output_type": "execute_result"
    }
   ],
   "source": [
    "# 데이터 타입을 변경해서 날짜형태로 변환합니다.\n",
    "# 판다스의 to_datetime 을 사용해서 날짜 타입으로 변경할 수 있습니다.\n",
    "# 연도가 없기 때문에 2020년을 날짜에 추가하고 \"-\" 문자로 날짜를 연결해 줍니다.\n",
    "\n",
    "df[\"확진일자\"] = pd.to_datetime(\"2020.\" + df[\"확진일\"])\n",
    "df[[\"확진일\",\"확진일자\"]].describe()"
   ]
  },
  {
   "cell_type": "code",
   "execution_count": 39,
   "metadata": {},
   "outputs": [],
   "source": [
    "# 월만 추출합니다.\n",
    "\n",
    "df[\"월\"] = df[\"확진일자\"].dt.month"
   ]
  },
  {
   "cell_type": "code",
   "execution_count": 41,
   "metadata": {},
   "outputs": [
    {
     "data": {
      "text/html": [
       "<div>\n",
       "<style scoped>\n",
       "    .dataframe tbody tr th:only-of-type {\n",
       "        vertical-align: middle;\n",
       "    }\n",
       "\n",
       "    .dataframe tbody tr th {\n",
       "        vertical-align: top;\n",
       "    }\n",
       "\n",
       "    .dataframe thead th {\n",
       "        text-align: right;\n",
       "    }\n",
       "</style>\n",
       "<table border=\"1\" class=\"dataframe\">\n",
       "  <thead>\n",
       "    <tr style=\"text-align: right;\">\n",
       "      <th></th>\n",
       "      <th>연번</th>\n",
       "      <th>환자</th>\n",
       "      <th>확진일</th>\n",
       "      <th>거주지</th>\n",
       "      <th>여행력</th>\n",
       "      <th>접촉력</th>\n",
       "      <th>퇴원현황</th>\n",
       "      <th>확진일자</th>\n",
       "      <th>월</th>\n",
       "      <th>주</th>\n",
       "    </tr>\n",
       "  </thead>\n",
       "  <tbody>\n",
       "    <tr>\n",
       "      <th>0</th>\n",
       "      <td>8652</td>\n",
       "      <td>33532</td>\n",
       "      <td>11.28.</td>\n",
       "      <td>서대문구</td>\n",
       "      <td>-</td>\n",
       "      <td>기타 확진자 접촉</td>\n",
       "      <td>NaN</td>\n",
       "      <td>2020-11-28</td>\n",
       "      <td>11</td>\n",
       "      <td>48</td>\n",
       "    </tr>\n",
       "    <tr>\n",
       "      <th>1</th>\n",
       "      <td>8651</td>\n",
       "      <td>33756</td>\n",
       "      <td>11.28.</td>\n",
       "      <td>타시도</td>\n",
       "      <td>-</td>\n",
       "      <td>감염경로 조사중</td>\n",
       "      <td>NaN</td>\n",
       "      <td>2020-11-28</td>\n",
       "      <td>11</td>\n",
       "      <td>48</td>\n",
       "    </tr>\n",
       "    <tr>\n",
       "      <th>2</th>\n",
       "      <td>8650</td>\n",
       "      <td>33772</td>\n",
       "      <td>11.28.</td>\n",
       "      <td>동작구</td>\n",
       "      <td>-</td>\n",
       "      <td>동작구 임용단기학원 관련</td>\n",
       "      <td>NaN</td>\n",
       "      <td>2020-11-28</td>\n",
       "      <td>11</td>\n",
       "      <td>48</td>\n",
       "    </tr>\n",
       "    <tr>\n",
       "      <th>3</th>\n",
       "      <td>8649</td>\n",
       "      <td>33776</td>\n",
       "      <td>11.28.</td>\n",
       "      <td>은평구</td>\n",
       "      <td>-</td>\n",
       "      <td>기타 확진자 접촉</td>\n",
       "      <td>NaN</td>\n",
       "      <td>2020-11-28</td>\n",
       "      <td>11</td>\n",
       "      <td>48</td>\n",
       "    </tr>\n",
       "    <tr>\n",
       "      <th>4</th>\n",
       "      <td>8648</td>\n",
       "      <td>33768</td>\n",
       "      <td>11.28.</td>\n",
       "      <td>서초구</td>\n",
       "      <td>-</td>\n",
       "      <td>기타 확진자 접촉</td>\n",
       "      <td>NaN</td>\n",
       "      <td>2020-11-28</td>\n",
       "      <td>11</td>\n",
       "      <td>48</td>\n",
       "    </tr>\n",
       "    <tr>\n",
       "      <th>...</th>\n",
       "      <td>...</td>\n",
       "      <td>...</td>\n",
       "      <td>...</td>\n",
       "      <td>...</td>\n",
       "      <td>...</td>\n",
       "      <td>...</td>\n",
       "      <td>...</td>\n",
       "      <td>...</td>\n",
       "      <td>...</td>\n",
       "      <td>...</td>\n",
       "    </tr>\n",
       "    <tr>\n",
       "      <th>8647</th>\n",
       "      <td>5</td>\n",
       "      <td>9</td>\n",
       "      <td>1.31.</td>\n",
       "      <td>성북구</td>\n",
       "      <td>-</td>\n",
       "      <td>#5 접촉</td>\n",
       "      <td>퇴원</td>\n",
       "      <td>2020-01-31</td>\n",
       "      <td>1</td>\n",
       "      <td>5</td>\n",
       "    </tr>\n",
       "    <tr>\n",
       "      <th>8648</th>\n",
       "      <td>4</td>\n",
       "      <td>7</td>\n",
       "      <td>1.30.</td>\n",
       "      <td>마포구</td>\n",
       "      <td>중국 우한시</td>\n",
       "      <td>해외 접촉</td>\n",
       "      <td>퇴원</td>\n",
       "      <td>2020-01-30</td>\n",
       "      <td>1</td>\n",
       "      <td>5</td>\n",
       "    </tr>\n",
       "    <tr>\n",
       "      <th>8649</th>\n",
       "      <td>3</td>\n",
       "      <td>6</td>\n",
       "      <td>1.30.</td>\n",
       "      <td>종로구</td>\n",
       "      <td>-</td>\n",
       "      <td>#3 접촉</td>\n",
       "      <td>퇴원</td>\n",
       "      <td>2020-01-30</td>\n",
       "      <td>1</td>\n",
       "      <td>5</td>\n",
       "    </tr>\n",
       "    <tr>\n",
       "      <th>8650</th>\n",
       "      <td>2</td>\n",
       "      <td>5</td>\n",
       "      <td>1.30.</td>\n",
       "      <td>중랑구</td>\n",
       "      <td>중국 우한시</td>\n",
       "      <td>해외 접촉</td>\n",
       "      <td>퇴원</td>\n",
       "      <td>2020-01-30</td>\n",
       "      <td>1</td>\n",
       "      <td>5</td>\n",
       "    </tr>\n",
       "    <tr>\n",
       "      <th>8651</th>\n",
       "      <td>1</td>\n",
       "      <td>2</td>\n",
       "      <td>1.24.</td>\n",
       "      <td>강서구</td>\n",
       "      <td>중국 우한시</td>\n",
       "      <td>해외 접촉</td>\n",
       "      <td>퇴원</td>\n",
       "      <td>2020-01-24</td>\n",
       "      <td>1</td>\n",
       "      <td>4</td>\n",
       "    </tr>\n",
       "  </tbody>\n",
       "</table>\n",
       "<p>8652 rows × 10 columns</p>\n",
       "</div>"
      ],
      "text/plain": [
       "        연번     환자     확진일   거주지     여행력            접촉력 퇴원현황       확진일자   월   주\n",
       "0     8652  33532  11.28.  서대문구       -      기타 확진자 접촉  NaN 2020-11-28  11  48\n",
       "1     8651  33756  11.28.   타시도       -       감염경로 조사중  NaN 2020-11-28  11  48\n",
       "2     8650  33772  11.28.   동작구       -  동작구 임용단기학원 관련  NaN 2020-11-28  11  48\n",
       "3     8649  33776  11.28.   은평구       -      기타 확진자 접촉  NaN 2020-11-28  11  48\n",
       "4     8648  33768  11.28.   서초구       -      기타 확진자 접촉  NaN 2020-11-28  11  48\n",
       "...    ...    ...     ...   ...     ...            ...  ...        ...  ..  ..\n",
       "8647     5      9   1.31.   성북구       -          #5 접촉   퇴원 2020-01-31   1   5\n",
       "8648     4      7   1.30.   마포구  중국 우한시          해외 접촉   퇴원 2020-01-30   1   5\n",
       "8649     3      6   1.30.   종로구       -          #3 접촉   퇴원 2020-01-30   1   5\n",
       "8650     2      5   1.30.   중랑구  중국 우한시          해외 접촉   퇴원 2020-01-30   1   5\n",
       "8651     1      2   1.24.   강서구  중국 우한시          해외 접촉   퇴원 2020-01-24   1   4\n",
       "\n",
       "[8652 rows x 10 columns]"
      ]
     },
     "execution_count": 41,
     "metadata": {},
     "output_type": "execute_result"
    }
   ],
   "source": [
    "# 해당 연도의 몇번째 \"주\"인지 추출합니다.\n",
    "\n",
    "df[\"주\"] = df[\"확진일자\"].dt.week\n",
    "df\n"
   ]
  },
  {
   "cell_type": "markdown",
   "metadata": {},
   "source": [
    "### 선그래프 그리기\n",
    "[Visualization — pandas documentation](https://pandas.pydata.org/pandas-docs/stable/user_guide/visualization.html)"
   ]
  },
  {
   "cell_type": "code",
   "execution_count": 46,
   "metadata": {
    "scrolled": true
   },
   "outputs": [
    {
     "data": {
      "text/plain": [
       "<matplotlib.axes._subplots.AxesSubplot at 0x14eae930b50>"
      ]
     },
     "execution_count": 46,
     "metadata": {},
     "output_type": "execute_result"
    },
    {
     "data": {
      "image/png": "[encoded data removed]",
      "text/plain": [
       "<Figure size 720x288 with 1 Axes>"
      ]
     },
     "metadata": {
      "image/png": {
       "height": 260,
       "width": 595
      },
      "needs_background": "light"
     },
     "output_type": "display_data"
    }
   ],
   "source": [
    "# 확진일자로 선그래프를 그립니다.\n",
    "df[\"확진일자\"].value_counts().plot(title=\"확진일자별 확진자 수\",\n",
    "                                   figsize=(10,4),\n",
    "                                   grid=True)"
   ]
  },
  {
   "cell_type": "code",
   "execution_count": 50,
   "metadata": {},
   "outputs": [
    {
     "data": {
      "text/html": [
       "<div>\n",
       "<style scoped>\n",
       "    .dataframe tbody tr th:only-of-type {\n",
       "        vertical-align: middle;\n",
       "    }\n",
       "\n",
       "    .dataframe tbody tr th {\n",
       "        vertical-align: top;\n",
       "    }\n",
       "\n",
       "    .dataframe thead th {\n",
       "        text-align: right;\n",
       "    }\n",
       "</style>\n",
       "<table border=\"1\" class=\"dataframe\">\n",
       "  <thead>\n",
       "    <tr style=\"text-align: right;\">\n",
       "      <th></th>\n",
       "      <th>환자</th>\n",
       "      <th>확진일</th>\n",
       "      <th>거주지</th>\n",
       "      <th>여행력</th>\n",
       "      <th>접촉력</th>\n",
       "      <th>퇴원현황</th>\n",
       "      <th>확진일자</th>\n",
       "      <th>월</th>\n",
       "      <th>주</th>\n",
       "    </tr>\n",
       "    <tr>\n",
       "      <th>연번</th>\n",
       "      <th></th>\n",
       "      <th></th>\n",
       "      <th></th>\n",
       "      <th></th>\n",
       "      <th></th>\n",
       "      <th></th>\n",
       "      <th></th>\n",
       "      <th></th>\n",
       "      <th></th>\n",
       "    </tr>\n",
       "  </thead>\n",
       "  <tbody>\n",
       "    <tr>\n",
       "      <th>8652</th>\n",
       "      <td>33532</td>\n",
       "      <td>11.28.</td>\n",
       "      <td>서대문구</td>\n",
       "      <td>-</td>\n",
       "      <td>기타 확진자 접촉</td>\n",
       "      <td>NaN</td>\n",
       "      <td>2020-11-28</td>\n",
       "      <td>11</td>\n",
       "      <td>48</td>\n",
       "    </tr>\n",
       "    <tr>\n",
       "      <th>8651</th>\n",
       "      <td>33756</td>\n",
       "      <td>11.28.</td>\n",
       "      <td>타시도</td>\n",
       "      <td>-</td>\n",
       "      <td>감염경로 조사중</td>\n",
       "      <td>NaN</td>\n",
       "      <td>2020-11-28</td>\n",
       "      <td>11</td>\n",
       "      <td>48</td>\n",
       "    </tr>\n",
       "    <tr>\n",
       "      <th>8650</th>\n",
       "      <td>33772</td>\n",
       "      <td>11.28.</td>\n",
       "      <td>동작구</td>\n",
       "      <td>-</td>\n",
       "      <td>동작구 임용단기학원 관련</td>\n",
       "      <td>NaN</td>\n",
       "      <td>2020-11-28</td>\n",
       "      <td>11</td>\n",
       "      <td>48</td>\n",
       "    </tr>\n",
       "  </tbody>\n",
       "</table>\n",
       "</div>"
      ],
      "text/plain": [
       "         환자     확진일   거주지 여행력            접촉력 퇴원현황       확진일자   월   주\n",
       "연번                                                                  \n",
       "8652  33532  11.28.  서대문구   -      기타 확진자 접촉  NaN 2020-11-28  11  48\n",
       "8651  33756  11.28.   타시도   -       감염경로 조사중  NaN 2020-11-28  11  48\n",
       "8650  33772  11.28.   동작구   -  동작구 임용단기학원 관련  NaN 2020-11-28  11  48"
      ]
     },
     "execution_count": 50,
     "metadata": {},
     "output_type": "execute_result"
    }
   ],
   "source": [
    "temp=df.set_index(\"연번\")\n",
    "# [행,열]\n",
    "temp.iloc[:3,:]"
   ]
  },
  {
   "cell_type": "code",
   "execution_count": 52,
   "metadata": {
    "scrolled": true
   },
   "outputs": [
    {
     "data": {
      "text/html": [
       "<div>\n",
       "<style scoped>\n",
       "    .dataframe tbody tr th:only-of-type {\n",
       "        vertical-align: middle;\n",
       "    }\n",
       "\n",
       "    .dataframe tbody tr th {\n",
       "        vertical-align: top;\n",
       "    }\n",
       "\n",
       "    .dataframe thead th {\n",
       "        text-align: right;\n",
       "    }\n",
       "</style>\n",
       "<table border=\"1\" class=\"dataframe\">\n",
       "  <thead>\n",
       "    <tr style=\"text-align: right;\">\n",
       "      <th></th>\n",
       "      <th>연번</th>\n",
       "      <th>환자</th>\n",
       "      <th>확진일</th>\n",
       "      <th>거주지</th>\n",
       "      <th>여행력</th>\n",
       "      <th>접촉력</th>\n",
       "      <th>퇴원현황</th>\n",
       "      <th>확진일자</th>\n",
       "      <th>월</th>\n",
       "      <th>주</th>\n",
       "    </tr>\n",
       "  </thead>\n",
       "  <tbody>\n",
       "    <tr>\n",
       "      <th>0</th>\n",
       "      <td>8652</td>\n",
       "      <td>33532</td>\n",
       "      <td>11.28.</td>\n",
       "      <td>서대문구</td>\n",
       "      <td>-</td>\n",
       "      <td>기타 확진자 접촉</td>\n",
       "      <td>NaN</td>\n",
       "      <td>2020-11-28</td>\n",
       "      <td>11</td>\n",
       "      <td>48</td>\n",
       "    </tr>\n",
       "    <tr>\n",
       "      <th>57</th>\n",
       "      <td>8595</td>\n",
       "      <td>33656</td>\n",
       "      <td>11.28.</td>\n",
       "      <td>서대문구</td>\n",
       "      <td>-</td>\n",
       "      <td>기타 확진자 접촉</td>\n",
       "      <td>NaN</td>\n",
       "      <td>2020-11-28</td>\n",
       "      <td>11</td>\n",
       "      <td>48</td>\n",
       "    </tr>\n",
       "    <tr>\n",
       "      <th>66</th>\n",
       "      <td>8586</td>\n",
       "      <td>33562</td>\n",
       "      <td>11.28.</td>\n",
       "      <td>서대문구</td>\n",
       "      <td>-</td>\n",
       "      <td>기타 확진자 접촉</td>\n",
       "      <td>NaN</td>\n",
       "      <td>2020-11-28</td>\n",
       "      <td>11</td>\n",
       "      <td>48</td>\n",
       "    </tr>\n",
       "    <tr>\n",
       "      <th>67</th>\n",
       "      <td>8585</td>\n",
       "      <td>33563</td>\n",
       "      <td>11.28.</td>\n",
       "      <td>서대문구</td>\n",
       "      <td>-</td>\n",
       "      <td>기타 확진자 접촉</td>\n",
       "      <td>NaN</td>\n",
       "      <td>2020-11-28</td>\n",
       "      <td>11</td>\n",
       "      <td>48</td>\n",
       "    </tr>\n",
       "    <tr>\n",
       "      <th>68</th>\n",
       "      <td>8584</td>\n",
       "      <td>33534</td>\n",
       "      <td>11.28.</td>\n",
       "      <td>서대문구</td>\n",
       "      <td>-</td>\n",
       "      <td>감염경로 조사중</td>\n",
       "      <td>NaN</td>\n",
       "      <td>2020-11-28</td>\n",
       "      <td>11</td>\n",
       "      <td>48</td>\n",
       "    </tr>\n",
       "    <tr>\n",
       "      <th>...</th>\n",
       "      <td>...</td>\n",
       "      <td>...</td>\n",
       "      <td>...</td>\n",
       "      <td>...</td>\n",
       "      <td>...</td>\n",
       "      <td>...</td>\n",
       "      <td>...</td>\n",
       "      <td>...</td>\n",
       "      <td>...</td>\n",
       "      <td>...</td>\n",
       "    </tr>\n",
       "    <tr>\n",
       "      <th>8446</th>\n",
       "      <td>206</td>\n",
       "      <td>7818</td>\n",
       "      <td>3.11.</td>\n",
       "      <td>서대문구</td>\n",
       "      <td>-</td>\n",
       "      <td>확인중</td>\n",
       "      <td>퇴원</td>\n",
       "      <td>2020-03-11</td>\n",
       "      <td>3</td>\n",
       "      <td>11</td>\n",
       "    </tr>\n",
       "    <tr>\n",
       "      <th>8583</th>\n",
       "      <td>69</td>\n",
       "      <td>1907</td>\n",
       "      <td>2.25.</td>\n",
       "      <td>서대문구</td>\n",
       "      <td>-</td>\n",
       "      <td>확인중</td>\n",
       "      <td>퇴원</td>\n",
       "      <td>2020-02-25</td>\n",
       "      <td>2</td>\n",
       "      <td>9</td>\n",
       "    </tr>\n",
       "    <tr>\n",
       "      <th>8588</th>\n",
       "      <td>64</td>\n",
       "      <td>1788</td>\n",
       "      <td>2.28.</td>\n",
       "      <td>서대문구</td>\n",
       "      <td>-</td>\n",
       "      <td>#1247 접촉(추정)</td>\n",
       "      <td>퇴원</td>\n",
       "      <td>2020-02-28</td>\n",
       "      <td>2</td>\n",
       "      <td>9</td>\n",
       "    </tr>\n",
       "    <tr>\n",
       "      <th>8630</th>\n",
       "      <td>22</td>\n",
       "      <td>161</td>\n",
       "      <td>2.21.</td>\n",
       "      <td>서대문구</td>\n",
       "      <td>-</td>\n",
       "      <td>은평구 병원 관련</td>\n",
       "      <td>퇴원</td>\n",
       "      <td>2020-02-21</td>\n",
       "      <td>2</td>\n",
       "      <td>8</td>\n",
       "    </tr>\n",
       "    <tr>\n",
       "      <th>8641</th>\n",
       "      <td>11</td>\n",
       "      <td>23</td>\n",
       "      <td>2.6.</td>\n",
       "      <td>서대문구</td>\n",
       "      <td>중국 우한시</td>\n",
       "      <td>해외 접촉</td>\n",
       "      <td>퇴원</td>\n",
       "      <td>2020-02-06</td>\n",
       "      <td>2</td>\n",
       "      <td>6</td>\n",
       "    </tr>\n",
       "  </tbody>\n",
       "</table>\n",
       "<p>251 rows × 10 columns</p>\n",
       "</div>"
      ],
      "text/plain": [
       "        연번     환자     확진일   거주지     여행력           접촉력 퇴원현황       확진일자   월   주\n",
       "0     8652  33532  11.28.  서대문구       -     기타 확진자 접촉  NaN 2020-11-28  11  48\n",
       "57    8595  33656  11.28.  서대문구       -     기타 확진자 접촉  NaN 2020-11-28  11  48\n",
       "66    8586  33562  11.28.  서대문구       -     기타 확진자 접촉  NaN 2020-11-28  11  48\n",
       "67    8585  33563  11.28.  서대문구       -     기타 확진자 접촉  NaN 2020-11-28  11  48\n",
       "68    8584  33534  11.28.  서대문구       -      감염경로 조사중  NaN 2020-11-28  11  48\n",
       "...    ...    ...     ...   ...     ...           ...  ...        ...  ..  ..\n",
       "8446   206   7818   3.11.  서대문구       -           확인중   퇴원 2020-03-11   3  11\n",
       "8583    69   1907   2.25.  서대문구       -           확인중   퇴원 2020-02-25   2   9\n",
       "8588    64   1788   2.28.  서대문구       -  #1247 접촉(추정)   퇴원 2020-02-28   2   9\n",
       "8630    22    161   2.21.  서대문구       -     은평구 병원 관련   퇴원 2020-02-21   2   8\n",
       "8641    11     23    2.6.  서대문구  중국 우한시         해외 접촉   퇴원 2020-02-06   2   6\n",
       "\n",
       "[251 rows x 10 columns]"
      ]
     },
     "execution_count": 52,
     "metadata": {},
     "output_type": "execute_result"
    }
   ],
   "source": [
    "df[\"거주지\"] == \"서대문구\"\n",
    "df[df[\"거주지\"] == \"서대문구\"]\n"
   ]
  },
  {
   "cell_type": "code",
   "execution_count": 55,
   "metadata": {},
   "outputs": [
    {
     "data": {
      "text/plain": [
       "35      8617\n",
       "56      8596\n",
       "105     8547\n",
       "117     8535\n",
       "118     8534\n",
       "        ... \n",
       "8576      76\n",
       "8577      75\n",
       "8587      65\n",
       "8597      55\n",
       "8598      54\n",
       "Name: 연번, Length: 494, dtype: int64"
      ]
     },
     "execution_count": 55,
     "metadata": {},
     "output_type": "execute_result"
    }
   ],
   "source": [
    "# loc 사용이 위 iloc사용보다 빠름\n",
    "df.loc[df[\"거주지\"]==\"강남구\",\"연번\"]"
   ]
  },
  {
   "cell_type": "markdown",
   "metadata": {},
   "source": [
    "### 확진자가 가장 많이 나온 날"
   ]
  },
  {
   "cell_type": "code",
   "execution_count": 57,
   "metadata": {},
   "outputs": [
    {
     "data": {
      "text/plain": [
       "count                    8652\n",
       "unique                    281\n",
       "top       2020-11-25 00:00:00\n",
       "freq                      212\n",
       "first     2020-01-24 00:00:00\n",
       "last      2020-11-28 00:00:00\n",
       "Name: 확진일자, dtype: object"
      ]
     },
     "execution_count": 57,
     "metadata": {},
     "output_type": "execute_result"
    }
   ],
   "source": [
    "# describe 를 통해 일자별 확진자수를 describe를 통해 요약해 봅니다.\n",
    "df[\"확진일자\"].describe()"
   ]
  },
  {
   "cell_type": "code",
   "execution_count": null,
   "metadata": {},
   "outputs": [],
   "source": [
    "# 확진자가 가장 많았던 날을 찾습니다.\n",
    "df[df[\"확진일자\"] == \"2020-11-25\"]"
   ]
  },
  {
   "cell_type": "code",
   "execution_count": null,
   "metadata": {},
   "outputs": [],
   "source": [
    "# 확진자가 가장 많았던 날의 발생이력을 찾습니다.\n"
   ]
  },
  {
   "cell_type": "markdown",
   "metadata": {},
   "source": [
    "### 막대그래프 그리기"
   ]
  },
  {
   "cell_type": "code",
   "execution_count": 62,
   "metadata": {},
   "outputs": [
    {
     "data": {
      "text/plain": [
       "2020-01-24      1\n",
       "2020-01-30      3\n",
       "2020-01-31      3\n",
       "2020-02-02      1\n",
       "2020-02-05      2\n",
       "             ... \n",
       "2020-11-24    142\n",
       "2020-11-25    212\n",
       "2020-11-26    204\n",
       "2020-11-27    178\n",
       "2020-11-28    158\n",
       "Name: 확진일자, Length: 281, dtype: int64"
      ]
     },
     "execution_count": 62,
     "metadata": {},
     "output_type": "execute_result"
    }
   ],
   "source": [
    "df[\"확진일자\"].value_counts().sort_index()"
   ]
  },
  {
   "cell_type": "code",
   "execution_count": 59,
   "metadata": {
    "scrolled": true
   },
   "outputs": [
    {
     "data": {
      "text/plain": [
       "<matplotlib.axes._subplots.AxesSubplot at 0x14eaf721e50>"
      ]
     },
     "execution_count": 59,
     "metadata": {},
     "output_type": "execute_result"
    },
    {
     "data": {
      "image/png": "[encoded data removed]",
      "text/plain": [
       "<Figure size 720x288 with 1 Axes>"
      ]
     },
     "metadata": {
      "image/png": {
       "height": 331,
       "width": 600
      },
      "needs_background": "light"
     },
     "output_type": "display_data"
    }
   ],
   "source": [
    "# 선그래프로 그렸던 그래프를 막대그래프로 그립니다.\n",
    "day_counts = df[\"확진일자\"].value_counts().sort_index()\n",
    "day_counts.plot.bar(figsize=(10,4))"
   ]
  },
  {
   "cell_type": "markdown",
   "metadata": {},
   "source": [
    "### 최근 데이터만 슬라이싱으로 나눠 그리기"
   ]
  },
  {
   "cell_type": "code",
   "execution_count": 61,
   "metadata": {},
   "outputs": [
    {
     "data": {
      "text/plain": [
       "<matplotlib.axes._subplots.AxesSubplot at 0x14eaf5c2430>"
      ]
     },
     "execution_count": 61,
     "metadata": {},
     "output_type": "execute_result"
    },
    {
     "data": {
      "image/png": "[encoded data removed]",
      "text/plain": [
       "<Figure size 1080x288 with 1 Axes>"
      ]
     },
     "metadata": {
      "image/png": {
       "height": 331,
       "width": 874
      },
      "needs_background": "light"
     },
     "output_type": "display_data"
    }
   ],
   "source": [
    "# 슬라이싱을 통해 최근 데이터만 그립니다.\n",
    "day_counts[-60:].plot.bar(figsize=(15,4))"
   ]
  },
  {
   "cell_type": "markdown",
   "metadata": {},
   "source": [
    "### 월별 확진자 수 그리기"
   ]
  },
  {
   "cell_type": "code",
   "execution_count": 67,
   "metadata": {},
   "outputs": [
    {
     "data": {
      "text/plain": [
       "<matplotlib.axes._subplots.AxesSubplot at 0x14eb05d2250>"
      ]
     },
     "execution_count": 67,
     "metadata": {},
     "output_type": "execute_result"
    },
    {
     "data": {
      "image/png": "[encoded data removed]",
      "text/plain": [
       "<Figure size 432x288 with 1 Axes>"
      ]
     },
     "metadata": {
      "image/png": {
       "height": 264,
       "width": 378
      },
      "needs_background": "light"
     },
     "output_type": "display_data"
    }
   ],
   "source": [
    "# 월별 확진자수에 대한 빈도수를 구해서 시각화 합니다.\n",
    "df[\"월\"].value_counts().sort_index().plot.bar(rot=0,title=\"월별 확진자 수\")"
   ]
  },
  {
   "cell_type": "markdown",
   "metadata": {},
   "source": [
    "### 주단위 확진자수 그리기"
   ]
  },
  {
   "cell_type": "code",
   "execution_count": 81,
   "metadata": {
    "scrolled": true
   },
   "outputs": [
    {
     "data": {
      "text/plain": [
       "4        1\n",
       "5        7\n",
       "6        4\n",
       "7        2\n",
       "8       17\n",
       "9       62\n",
       "10      37\n",
       "11     124\n",
       "12      76\n",
       "13     105\n",
       "14     128\n",
       "15      47\n",
       "16      15\n",
       "17       4\n",
       "18       8\n",
       "19      51\n",
       "20      48\n",
       "21      39\n",
       "22      87\n",
       "23     134\n",
       "24     125\n",
       "25     106\n",
       "26      78\n",
       "27      67\n",
       "28      57\n",
       "29      48\n",
       "30      97\n",
       "31      38\n",
       "32      76\n",
       "33     390\n",
       "34     913\n",
       "35     925\n",
       "36     458\n",
       "37     341\n",
       "38     281\n",
       "39     236\n",
       "40     164\n",
       "41     170\n",
       "42     138\n",
       "43     127\n",
       "44     251\n",
       "45     291\n",
       "46     441\n",
       "47     811\n",
       "48    1027\n",
       "Name: 주, dtype: int64"
      ]
     },
     "execution_count": 81,
     "metadata": {},
     "output_type": "execute_result"
    }
   ],
   "source": [
    "# 주별로 빈도수를 구합니다.\n",
    "week_count = df[\"주\"].value_counts().sort_index()\n",
    "week_count"
   ]
  },
  {
   "cell_type": "code",
   "execution_count": 83,
   "metadata": {},
   "outputs": [
    {
     "data": {
      "text/plain": [
       "<matplotlib.axes._subplots.AxesSubplot at 0x14eb1ce3ee0>"
      ]
     },
     "execution_count": 83,
     "metadata": {},
     "output_type": "execute_result"
    },
    {
     "data": {
      "image/png": "[encoded data removed]",
      "text/plain": [
       "<Figure size 1080x288 with 1 Axes>"
      ]
     },
     "metadata": {
      "image/png": {
       "height": 264,
       "width": 880
      },
      "needs_background": "light"
     },
     "output_type": "display_data"
    }
   ],
   "source": [
    "# 주단위 빈도수 막대그래프로 그리기\n",
    "week_count.plot.bar(rot=0, title=\"주단위 확진자 수\",figsize=(15,4))"
   ]
  },
  {
   "cell_type": "markdown",
   "metadata": {},
   "source": [
    "## 모든 날짜를 행에 만들어 주기\n",
    "* 확진자가 없는 날의 데이터도 만들어 줍니다."
   ]
  },
  {
   "cell_type": "code",
   "execution_count": 84,
   "metadata": {},
   "outputs": [
    {
     "data": {
      "text/plain": [
       "2020-01-24      1\n",
       "2020-01-30      3\n",
       "2020-01-31      3\n",
       "2020-02-02      1\n",
       "2020-02-05      2\n",
       "             ... \n",
       "2020-11-24    142\n",
       "2020-11-25    212\n",
       "2020-11-26    204\n",
       "2020-11-27    178\n",
       "2020-11-28    158\n",
       "Name: 확진일자, Length: 281, dtype: int64"
      ]
     },
     "execution_count": 84,
     "metadata": {},
     "output_type": "execute_result"
    }
   ],
   "source": [
    "df[\"확진일자\"].value_counts().sort_index()"
   ]
  },
  {
   "cell_type": "code",
   "execution_count": 88,
   "metadata": {},
   "outputs": [],
   "source": [
    "# 첫 확진일 부터 마지막 확진일까지 가져옵니다.\n",
    "# 데이터프레임의 첫번째 날짜는 first_day 에 마지막 날짜는 last_day 에 담습니다.\n",
    "\n",
    "first_day = df.iloc[-1][\"확진일자\"]"
   ]
  },
  {
   "cell_type": "code",
   "execution_count": 89,
   "metadata": {},
   "outputs": [],
   "source": [
    "last_day = df.iloc[0][\"확진일자\"]"
   ]
  },
  {
   "cell_type": "code",
   "execution_count": 91,
   "metadata": {},
   "outputs": [
    {
     "data": {
      "text/plain": [
       "DatetimeIndex(['2020-01-24', '2020-01-25', '2020-01-26', '2020-01-27',\n",
       "               '2020-01-28', '2020-01-29', '2020-01-30', '2020-01-31',\n",
       "               '2020-02-01', '2020-02-02',\n",
       "               ...\n",
       "               '2020-11-19', '2020-11-20', '2020-11-21', '2020-11-22',\n",
       "               '2020-11-23', '2020-11-24', '2020-11-25', '2020-11-26',\n",
       "               '2020-11-27', '2020-11-28'],\n",
       "              dtype='datetime64[ns]', length=310, freq='D')"
      ]
     },
     "execution_count": 91,
     "metadata": {},
     "output_type": "execute_result"
    }
   ],
   "source": [
    "# pd.date_range 를 통해 시작하는 날짜부터 끝나는 날짜까지의 \n",
    "# DatetimeIndex 를 만들고 days 라는 변수에 저장합니다.\n",
    "\n",
    "# days\n",
    "days = pd.date_range(first_day,last_day)\n",
    "days"
   ]
  },
  {
   "cell_type": "code",
   "execution_count": 94,
   "metadata": {},
   "outputs": [
    {
     "data": {
      "text/html": [
       "<div>\n",
       "<style scoped>\n",
       "    .dataframe tbody tr th:only-of-type {\n",
       "        vertical-align: middle;\n",
       "    }\n",
       "\n",
       "    .dataframe tbody tr th {\n",
       "        vertical-align: top;\n",
       "    }\n",
       "\n",
       "    .dataframe thead th {\n",
       "        text-align: right;\n",
       "    }\n",
       "</style>\n",
       "<table border=\"1\" class=\"dataframe\">\n",
       "  <thead>\n",
       "    <tr style=\"text-align: right;\">\n",
       "      <th></th>\n",
       "      <th>0</th>\n",
       "    </tr>\n",
       "  </thead>\n",
       "  <tbody>\n",
       "    <tr>\n",
       "      <th>2020-01-24</th>\n",
       "      <td>2020-01-24</td>\n",
       "    </tr>\n",
       "    <tr>\n",
       "      <th>2020-01-25</th>\n",
       "      <td>2020-01-25</td>\n",
       "    </tr>\n",
       "    <tr>\n",
       "      <th>2020-01-26</th>\n",
       "      <td>2020-01-26</td>\n",
       "    </tr>\n",
       "    <tr>\n",
       "      <th>2020-01-27</th>\n",
       "      <td>2020-01-27</td>\n",
       "    </tr>\n",
       "    <tr>\n",
       "      <th>2020-01-28</th>\n",
       "      <td>2020-01-28</td>\n",
       "    </tr>\n",
       "    <tr>\n",
       "      <th>...</th>\n",
       "      <td>...</td>\n",
       "    </tr>\n",
       "    <tr>\n",
       "      <th>2020-11-24</th>\n",
       "      <td>2020-11-24</td>\n",
       "    </tr>\n",
       "    <tr>\n",
       "      <th>2020-11-25</th>\n",
       "      <td>2020-11-25</td>\n",
       "    </tr>\n",
       "    <tr>\n",
       "      <th>2020-11-26</th>\n",
       "      <td>2020-11-26</td>\n",
       "    </tr>\n",
       "    <tr>\n",
       "      <th>2020-11-27</th>\n",
       "      <td>2020-11-27</td>\n",
       "    </tr>\n",
       "    <tr>\n",
       "      <th>2020-11-28</th>\n",
       "      <td>2020-11-28</td>\n",
       "    </tr>\n",
       "  </tbody>\n",
       "</table>\n",
       "<p>310 rows × 1 columns</p>\n",
       "</div>"
      ],
      "text/plain": [
       "                    0\n",
       "2020-01-24 2020-01-24\n",
       "2020-01-25 2020-01-25\n",
       "2020-01-26 2020-01-26\n",
       "2020-01-27 2020-01-27\n",
       "2020-01-28 2020-01-28\n",
       "...               ...\n",
       "2020-11-24 2020-11-24\n",
       "2020-11-25 2020-11-25\n",
       "2020-11-26 2020-11-26\n",
       "2020-11-27 2020-11-27\n",
       "2020-11-28 2020-11-28\n",
       "\n",
       "[310 rows x 1 columns]"
      ]
     },
     "execution_count": 94,
     "metadata": {},
     "output_type": "execute_result"
    }
   ],
   "source": [
    "# days 변수의 값으로 \"연월일\" 이라는 컬럼이름을 갖는 데이터프레임을 만듭니다.\n",
    "# days.to_frame()\n",
    "# df_days\n",
    "df_days = days.to_frame()\n",
    "df_days"
   ]
  },
  {
   "cell_type": "code",
   "execution_count": 95,
   "metadata": {},
   "outputs": [
    {
     "data": {
      "text/plain": [
       "2020-01-24      1\n",
       "2020-01-30      3\n",
       "2020-01-31      3\n",
       "2020-02-02      1\n",
       "2020-02-05      2\n",
       "             ... \n",
       "2020-11-24    142\n",
       "2020-11-25    212\n",
       "2020-11-26    204\n",
       "2020-11-27    178\n",
       "2020-11-28    158\n",
       "Name: 확진일자, Length: 281, dtype: int64"
      ]
     },
     "execution_count": 95,
     "metadata": {},
     "output_type": "execute_result"
    }
   ],
   "source": [
    "# 확진일자별로 빈도수 구하기\n",
    "# daily_case\n",
    "daily_case = df[\"확진일자\"].value_counts().sort_index()\n",
    "daily_case"
   ]
  },
  {
   "cell_type": "code",
   "execution_count": 97,
   "metadata": {},
   "outputs": [
    {
     "data": {
      "text/html": [
       "<div>\n",
       "<style scoped>\n",
       "    .dataframe tbody tr th:only-of-type {\n",
       "        vertical-align: middle;\n",
       "    }\n",
       "\n",
       "    .dataframe tbody tr th {\n",
       "        vertical-align: top;\n",
       "    }\n",
       "\n",
       "    .dataframe thead th {\n",
       "        text-align: right;\n",
       "    }\n",
       "</style>\n",
       "<table border=\"1\" class=\"dataframe\">\n",
       "  <thead>\n",
       "    <tr style=\"text-align: right;\">\n",
       "      <th></th>\n",
       "      <th>index</th>\n",
       "      <th>확진일자</th>\n",
       "    </tr>\n",
       "  </thead>\n",
       "  <tbody>\n",
       "    <tr>\n",
       "      <th>0</th>\n",
       "      <td>2020-01-24</td>\n",
       "      <td>1</td>\n",
       "    </tr>\n",
       "    <tr>\n",
       "      <th>1</th>\n",
       "      <td>2020-01-30</td>\n",
       "      <td>3</td>\n",
       "    </tr>\n",
       "    <tr>\n",
       "      <th>2</th>\n",
       "      <td>2020-01-31</td>\n",
       "      <td>3</td>\n",
       "    </tr>\n",
       "    <tr>\n",
       "      <th>3</th>\n",
       "      <td>2020-02-02</td>\n",
       "      <td>1</td>\n",
       "    </tr>\n",
       "    <tr>\n",
       "      <th>4</th>\n",
       "      <td>2020-02-05</td>\n",
       "      <td>2</td>\n",
       "    </tr>\n",
       "    <tr>\n",
       "      <th>...</th>\n",
       "      <td>...</td>\n",
       "      <td>...</td>\n",
       "    </tr>\n",
       "    <tr>\n",
       "      <th>276</th>\n",
       "      <td>2020-11-24</td>\n",
       "      <td>142</td>\n",
       "    </tr>\n",
       "    <tr>\n",
       "      <th>277</th>\n",
       "      <td>2020-11-25</td>\n",
       "      <td>212</td>\n",
       "    </tr>\n",
       "    <tr>\n",
       "      <th>278</th>\n",
       "      <td>2020-11-26</td>\n",
       "      <td>204</td>\n",
       "    </tr>\n",
       "    <tr>\n",
       "      <th>279</th>\n",
       "      <td>2020-11-27</td>\n",
       "      <td>178</td>\n",
       "    </tr>\n",
       "    <tr>\n",
       "      <th>280</th>\n",
       "      <td>2020-11-28</td>\n",
       "      <td>158</td>\n",
       "    </tr>\n",
       "  </tbody>\n",
       "</table>\n",
       "<p>281 rows × 2 columns</p>\n",
       "</div>"
      ],
      "text/plain": [
       "         index  확진일자\n",
       "0   2020-01-24     1\n",
       "1   2020-01-30     3\n",
       "2   2020-01-31     3\n",
       "3   2020-02-02     1\n",
       "4   2020-02-05     2\n",
       "..         ...   ...\n",
       "276 2020-11-24   142\n",
       "277 2020-11-25   212\n",
       "278 2020-11-26   204\n",
       "279 2020-11-27   178\n",
       "280 2020-11-28   158\n",
       "\n",
       "[281 rows x 2 columns]"
      ]
     },
     "execution_count": 97,
     "metadata": {},
     "output_type": "execute_result"
    }
   ],
   "source": [
    "# 확진일자별로 빈도수 구한 내용을 데이터프레임으로 변환하기\n",
    "# df_daily_case\n",
    "df_daily_case = daily_case.reset_index()\n",
    "df_daily_case"
   ]
  },
  {
   "cell_type": "code",
   "execution_count": 98,
   "metadata": {},
   "outputs": [
    {
     "data": {
      "text/html": [
       "<div>\n",
       "<style scoped>\n",
       "    .dataframe tbody tr th:only-of-type {\n",
       "        vertical-align: middle;\n",
       "    }\n",
       "\n",
       "    .dataframe tbody tr th {\n",
       "        vertical-align: top;\n",
       "    }\n",
       "\n",
       "    .dataframe thead th {\n",
       "        text-align: right;\n",
       "    }\n",
       "</style>\n",
       "<table border=\"1\" class=\"dataframe\">\n",
       "  <thead>\n",
       "    <tr style=\"text-align: right;\">\n",
       "      <th></th>\n",
       "      <th>확진일자</th>\n",
       "      <th>확진수</th>\n",
       "    </tr>\n",
       "  </thead>\n",
       "  <tbody>\n",
       "    <tr>\n",
       "      <th>0</th>\n",
       "      <td>2020-01-24</td>\n",
       "      <td>1</td>\n",
       "    </tr>\n",
       "    <tr>\n",
       "      <th>1</th>\n",
       "      <td>2020-01-30</td>\n",
       "      <td>3</td>\n",
       "    </tr>\n",
       "    <tr>\n",
       "      <th>2</th>\n",
       "      <td>2020-01-31</td>\n",
       "      <td>3</td>\n",
       "    </tr>\n",
       "    <tr>\n",
       "      <th>3</th>\n",
       "      <td>2020-02-02</td>\n",
       "      <td>1</td>\n",
       "    </tr>\n",
       "    <tr>\n",
       "      <th>4</th>\n",
       "      <td>2020-02-05</td>\n",
       "      <td>2</td>\n",
       "    </tr>\n",
       "    <tr>\n",
       "      <th>...</th>\n",
       "      <td>...</td>\n",
       "      <td>...</td>\n",
       "    </tr>\n",
       "    <tr>\n",
       "      <th>276</th>\n",
       "      <td>2020-11-24</td>\n",
       "      <td>142</td>\n",
       "    </tr>\n",
       "    <tr>\n",
       "      <th>277</th>\n",
       "      <td>2020-11-25</td>\n",
       "      <td>212</td>\n",
       "    </tr>\n",
       "    <tr>\n",
       "      <th>278</th>\n",
       "      <td>2020-11-26</td>\n",
       "      <td>204</td>\n",
       "    </tr>\n",
       "    <tr>\n",
       "      <th>279</th>\n",
       "      <td>2020-11-27</td>\n",
       "      <td>178</td>\n",
       "    </tr>\n",
       "    <tr>\n",
       "      <th>280</th>\n",
       "      <td>2020-11-28</td>\n",
       "      <td>158</td>\n",
       "    </tr>\n",
       "  </tbody>\n",
       "</table>\n",
       "<p>281 rows × 2 columns</p>\n",
       "</div>"
      ],
      "text/plain": [
       "          확진일자  확진수\n",
       "0   2020-01-24    1\n",
       "1   2020-01-30    3\n",
       "2   2020-01-31    3\n",
       "3   2020-02-02    1\n",
       "4   2020-02-05    2\n",
       "..         ...  ...\n",
       "276 2020-11-24  142\n",
       "277 2020-11-25  212\n",
       "278 2020-11-26  204\n",
       "279 2020-11-27  178\n",
       "280 2020-11-28  158\n",
       "\n",
       "[281 rows x 2 columns]"
      ]
     },
     "execution_count": 98,
     "metadata": {},
     "output_type": "execute_result"
    }
   ],
   "source": [
    "# value_counts 결과의 컬럼명을 \"확진수\" 로 바꾸기\n",
    "# df_daily_case\n",
    "df_daily_case.columns = [\"확진일자\",\"확진수\"]\n",
    "df_daily_case"
   ]
  },
  {
   "cell_type": "markdown",
   "metadata": {},
   "source": [
    "### merge 를 통해 전체 확진일자 만들기\n",
    "* 이미지 출처 및 Pandas 공식문서 보기 : [How to combine data from multiple tables? — pandas documentation](https://pandas.pydata.org/pandas-docs/stable/getting_started/intro_tutorials/08_combine_dataframes.html#join-tables-using-a-common-identifier)\n",
    "\n",
    "<img src=\"https://pandas.pydata.org/pandas-docs/stable/_images/08_merge_left.svg\">"
   ]
  },
  {
   "cell_type": "code",
   "execution_count": 107,
   "metadata": {},
   "outputs": [
    {
     "data": {
      "text/html": [
       "<div>\n",
       "<style scoped>\n",
       "    .dataframe tbody tr th:only-of-type {\n",
       "        vertical-align: middle;\n",
       "    }\n",
       "\n",
       "    .dataframe tbody tr th {\n",
       "        vertical-align: top;\n",
       "    }\n",
       "\n",
       "    .dataframe thead th {\n",
       "        text-align: right;\n",
       "    }\n",
       "</style>\n",
       "<table border=\"1\" class=\"dataframe\">\n",
       "  <thead>\n",
       "    <tr style=\"text-align: right;\">\n",
       "      <th></th>\n",
       "      <th>확진일자</th>\n",
       "      <th>확진수</th>\n",
       "    </tr>\n",
       "  </thead>\n",
       "  <tbody>\n",
       "    <tr>\n",
       "      <th>0</th>\n",
       "      <td>2020-01-24</td>\n",
       "      <td>1.0</td>\n",
       "    </tr>\n",
       "    <tr>\n",
       "      <th>1</th>\n",
       "      <td>2020-01-25</td>\n",
       "      <td>NaN</td>\n",
       "    </tr>\n",
       "    <tr>\n",
       "      <th>2</th>\n",
       "      <td>2020-01-26</td>\n",
       "      <td>NaN</td>\n",
       "    </tr>\n",
       "    <tr>\n",
       "      <th>3</th>\n",
       "      <td>2020-01-27</td>\n",
       "      <td>NaN</td>\n",
       "    </tr>\n",
       "    <tr>\n",
       "      <th>4</th>\n",
       "      <td>2020-01-28</td>\n",
       "      <td>NaN</td>\n",
       "    </tr>\n",
       "    <tr>\n",
       "      <th>...</th>\n",
       "      <td>...</td>\n",
       "      <td>...</td>\n",
       "    </tr>\n",
       "    <tr>\n",
       "      <th>305</th>\n",
       "      <td>2020-11-24</td>\n",
       "      <td>142.0</td>\n",
       "    </tr>\n",
       "    <tr>\n",
       "      <th>306</th>\n",
       "      <td>2020-11-25</td>\n",
       "      <td>212.0</td>\n",
       "    </tr>\n",
       "    <tr>\n",
       "      <th>307</th>\n",
       "      <td>2020-11-26</td>\n",
       "      <td>204.0</td>\n",
       "    </tr>\n",
       "    <tr>\n",
       "      <th>308</th>\n",
       "      <td>2020-11-27</td>\n",
       "      <td>178.0</td>\n",
       "    </tr>\n",
       "    <tr>\n",
       "      <th>309</th>\n",
       "      <td>2020-11-28</td>\n",
       "      <td>158.0</td>\n",
       "    </tr>\n",
       "  </tbody>\n",
       "</table>\n",
       "<p>310 rows × 2 columns</p>\n",
       "</div>"
      ],
      "text/plain": [
       "          확진일자    확진수\n",
       "0   2020-01-24    1.0\n",
       "1   2020-01-25    NaN\n",
       "2   2020-01-26    NaN\n",
       "3   2020-01-27    NaN\n",
       "4   2020-01-28    NaN\n",
       "..         ...    ...\n",
       "305 2020-11-24  142.0\n",
       "306 2020-11-25  212.0\n",
       "307 2020-11-26  204.0\n",
       "308 2020-11-27  178.0\n",
       "309 2020-11-28  158.0\n",
       "\n",
       "[310 rows x 2 columns]"
      ]
     },
     "execution_count": 107,
     "metadata": {},
     "output_type": "execute_result"
    }
   ],
   "source": [
    "# 확진자가 없는 날도 일자에 표현이 되도록 전체 일자와 확진 데이터를 merge 로 합쳐줍니다.\n",
    "# 1321\n",
    "# all_day\n",
    "all_day = df_days.merge(df_daily_case,left_on=df_days.index,right_on=\"확진일자\",how=\"left\")\n",
    "all_day = all_day.drop(0, axis=1)\n",
    "all_day"
   ]
  },
  {
   "cell_type": "markdown",
   "metadata": {},
   "source": [
    "## 누적 확진자 수 구하기"
   ]
  },
  {
   "cell_type": "code",
   "execution_count": 109,
   "metadata": {},
   "outputs": [
    {
     "data": {
      "text/plain": [
       "float"
      ]
     },
     "execution_count": 109,
     "metadata": {},
     "output_type": "execute_result"
    }
   ],
   "source": [
    "type(np.nan)"
   ]
  },
  {
   "cell_type": "code",
   "execution_count": 110,
   "metadata": {},
   "outputs": [
    {
     "data": {
      "text/html": [
       "<div>\n",
       "<style scoped>\n",
       "    .dataframe tbody tr th:only-of-type {\n",
       "        vertical-align: middle;\n",
       "    }\n",
       "\n",
       "    .dataframe tbody tr th {\n",
       "        vertical-align: top;\n",
       "    }\n",
       "\n",
       "    .dataframe thead th {\n",
       "        text-align: right;\n",
       "    }\n",
       "</style>\n",
       "<table border=\"1\" class=\"dataframe\">\n",
       "  <thead>\n",
       "    <tr style=\"text-align: right;\">\n",
       "      <th></th>\n",
       "      <th>확진일자</th>\n",
       "      <th>확진수</th>\n",
       "    </tr>\n",
       "  </thead>\n",
       "  <tbody>\n",
       "    <tr>\n",
       "      <th>0</th>\n",
       "      <td>2020-01-24</td>\n",
       "      <td>1.0</td>\n",
       "    </tr>\n",
       "    <tr>\n",
       "      <th>1</th>\n",
       "      <td>2020-01-25</td>\n",
       "      <td>0.0</td>\n",
       "    </tr>\n",
       "    <tr>\n",
       "      <th>2</th>\n",
       "      <td>2020-01-26</td>\n",
       "      <td>0.0</td>\n",
       "    </tr>\n",
       "    <tr>\n",
       "      <th>3</th>\n",
       "      <td>2020-01-27</td>\n",
       "      <td>0.0</td>\n",
       "    </tr>\n",
       "    <tr>\n",
       "      <th>4</th>\n",
       "      <td>2020-01-28</td>\n",
       "      <td>0.0</td>\n",
       "    </tr>\n",
       "    <tr>\n",
       "      <th>...</th>\n",
       "      <td>...</td>\n",
       "      <td>...</td>\n",
       "    </tr>\n",
       "    <tr>\n",
       "      <th>305</th>\n",
       "      <td>2020-11-24</td>\n",
       "      <td>142.0</td>\n",
       "    </tr>\n",
       "    <tr>\n",
       "      <th>306</th>\n",
       "      <td>2020-11-25</td>\n",
       "      <td>212.0</td>\n",
       "    </tr>\n",
       "    <tr>\n",
       "      <th>307</th>\n",
       "      <td>2020-11-26</td>\n",
       "      <td>204.0</td>\n",
       "    </tr>\n",
       "    <tr>\n",
       "      <th>308</th>\n",
       "      <td>2020-11-27</td>\n",
       "      <td>178.0</td>\n",
       "    </tr>\n",
       "    <tr>\n",
       "      <th>309</th>\n",
       "      <td>2020-11-28</td>\n",
       "      <td>158.0</td>\n",
       "    </tr>\n",
       "  </tbody>\n",
       "</table>\n",
       "<p>310 rows × 2 columns</p>\n",
       "</div>"
      ],
      "text/plain": [
       "          확진일자    확진수\n",
       "0   2020-01-24    1.0\n",
       "1   2020-01-25    0.0\n",
       "2   2020-01-26    0.0\n",
       "3   2020-01-27    0.0\n",
       "4   2020-01-28    0.0\n",
       "..         ...    ...\n",
       "305 2020-11-24  142.0\n",
       "306 2020-11-25  212.0\n",
       "307 2020-11-26  204.0\n",
       "308 2020-11-27  178.0\n",
       "309 2020-11-28  158.0\n",
       "\n",
       "[310 rows x 2 columns]"
      ]
     },
     "execution_count": 110,
     "metadata": {},
     "output_type": "execute_result"
    }
   ],
   "source": [
    "# 확진수를 fillna를 통해 결측치를 0으로 채워주고 누적해서 더해줍니다.\n",
    "all_day = all_day.fillna(0)\n",
    "all_day"
   ]
  },
  {
   "cell_type": "code",
   "execution_count": 113,
   "metadata": {
    "scrolled": true
   },
   "outputs": [
    {
     "data": {
      "text/html": [
       "<div>\n",
       "<style scoped>\n",
       "    .dataframe tbody tr th:only-of-type {\n",
       "        vertical-align: middle;\n",
       "    }\n",
       "\n",
       "    .dataframe tbody tr th {\n",
       "        vertical-align: top;\n",
       "    }\n",
       "\n",
       "    .dataframe thead th {\n",
       "        text-align: right;\n",
       "    }\n",
       "</style>\n",
       "<table border=\"1\" class=\"dataframe\">\n",
       "  <thead>\n",
       "    <tr style=\"text-align: right;\">\n",
       "      <th></th>\n",
       "      <th>확진일자</th>\n",
       "      <th>확진수</th>\n",
       "      <th>일자</th>\n",
       "    </tr>\n",
       "  </thead>\n",
       "  <tbody>\n",
       "    <tr>\n",
       "      <th>0</th>\n",
       "      <td>2020-01-24</td>\n",
       "      <td>1.0</td>\n",
       "      <td>01-24</td>\n",
       "    </tr>\n",
       "    <tr>\n",
       "      <th>1</th>\n",
       "      <td>2020-01-25</td>\n",
       "      <td>0.0</td>\n",
       "      <td>01-25</td>\n",
       "    </tr>\n",
       "    <tr>\n",
       "      <th>2</th>\n",
       "      <td>2020-01-26</td>\n",
       "      <td>0.0</td>\n",
       "      <td>01-26</td>\n",
       "    </tr>\n",
       "    <tr>\n",
       "      <th>3</th>\n",
       "      <td>2020-01-27</td>\n",
       "      <td>0.0</td>\n",
       "      <td>01-27</td>\n",
       "    </tr>\n",
       "    <tr>\n",
       "      <th>4</th>\n",
       "      <td>2020-01-28</td>\n",
       "      <td>0.0</td>\n",
       "      <td>01-28</td>\n",
       "    </tr>\n",
       "    <tr>\n",
       "      <th>...</th>\n",
       "      <td>...</td>\n",
       "      <td>...</td>\n",
       "      <td>...</td>\n",
       "    </tr>\n",
       "    <tr>\n",
       "      <th>305</th>\n",
       "      <td>2020-11-24</td>\n",
       "      <td>142.0</td>\n",
       "      <td>11-24</td>\n",
       "    </tr>\n",
       "    <tr>\n",
       "      <th>306</th>\n",
       "      <td>2020-11-25</td>\n",
       "      <td>212.0</td>\n",
       "      <td>11-25</td>\n",
       "    </tr>\n",
       "    <tr>\n",
       "      <th>307</th>\n",
       "      <td>2020-11-26</td>\n",
       "      <td>204.0</td>\n",
       "      <td>11-26</td>\n",
       "    </tr>\n",
       "    <tr>\n",
       "      <th>308</th>\n",
       "      <td>2020-11-27</td>\n",
       "      <td>178.0</td>\n",
       "      <td>11-27</td>\n",
       "    </tr>\n",
       "    <tr>\n",
       "      <th>309</th>\n",
       "      <td>2020-11-28</td>\n",
       "      <td>158.0</td>\n",
       "      <td>11-28</td>\n",
       "    </tr>\n",
       "  </tbody>\n",
       "</table>\n",
       "<p>310 rows × 3 columns</p>\n",
       "</div>"
      ],
      "text/plain": [
       "          확진일자    확진수     일자\n",
       "0   2020-01-24    1.0  01-24\n",
       "1   2020-01-25    0.0  01-25\n",
       "2   2020-01-26    0.0  01-26\n",
       "3   2020-01-27    0.0  01-27\n",
       "4   2020-01-28    0.0  01-28\n",
       "..         ...    ...    ...\n",
       "305 2020-11-24  142.0  11-24\n",
       "306 2020-11-25  212.0  11-25\n",
       "307 2020-11-26  204.0  11-26\n",
       "308 2020-11-27  178.0  11-27\n",
       "309 2020-11-28  158.0  11-28\n",
       "\n",
       "[310 rows x 3 columns]"
      ]
     },
     "execution_count": 113,
     "metadata": {},
     "output_type": "execute_result"
    }
   ],
   "source": [
    "# 연도를 제외하고 월-일로 \"일자\" 컬럼 만들기\n",
    "# 날짜형 형식에서 문자형으로 바꾸고 해야됨\n",
    "all_day[\"일자\"] = all_day[\"확진일자\"].astype(str).str[-5:]\n",
    "all_day"
   ]
  },
  {
   "cell_type": "code",
   "execution_count": 116,
   "metadata": {},
   "outputs": [
    {
     "data": {
      "text/html": [
       "<div>\n",
       "<style scoped>\n",
       "    .dataframe tbody tr th:only-of-type {\n",
       "        vertical-align: middle;\n",
       "    }\n",
       "\n",
       "    .dataframe tbody tr th {\n",
       "        vertical-align: top;\n",
       "    }\n",
       "\n",
       "    .dataframe thead th {\n",
       "        text-align: right;\n",
       "    }\n",
       "</style>\n",
       "<table border=\"1\" class=\"dataframe\">\n",
       "  <thead>\n",
       "    <tr style=\"text-align: right;\">\n",
       "      <th></th>\n",
       "      <th>확진일자</th>\n",
       "      <th>확진수</th>\n",
       "      <th>일자</th>\n",
       "      <th>누적확진</th>\n",
       "    </tr>\n",
       "  </thead>\n",
       "  <tbody>\n",
       "    <tr>\n",
       "      <th>0</th>\n",
       "      <td>2020-01-24</td>\n",
       "      <td>1.0</td>\n",
       "      <td>01-24</td>\n",
       "      <td>1.0</td>\n",
       "    </tr>\n",
       "    <tr>\n",
       "      <th>1</th>\n",
       "      <td>2020-01-25</td>\n",
       "      <td>0.0</td>\n",
       "      <td>01-25</td>\n",
       "      <td>1.0</td>\n",
       "    </tr>\n",
       "    <tr>\n",
       "      <th>2</th>\n",
       "      <td>2020-01-26</td>\n",
       "      <td>0.0</td>\n",
       "      <td>01-26</td>\n",
       "      <td>1.0</td>\n",
       "    </tr>\n",
       "    <tr>\n",
       "      <th>3</th>\n",
       "      <td>2020-01-27</td>\n",
       "      <td>0.0</td>\n",
       "      <td>01-27</td>\n",
       "      <td>1.0</td>\n",
       "    </tr>\n",
       "    <tr>\n",
       "      <th>4</th>\n",
       "      <td>2020-01-28</td>\n",
       "      <td>0.0</td>\n",
       "      <td>01-28</td>\n",
       "      <td>1.0</td>\n",
       "    </tr>\n",
       "    <tr>\n",
       "      <th>5</th>\n",
       "      <td>2020-01-29</td>\n",
       "      <td>0.0</td>\n",
       "      <td>01-29</td>\n",
       "      <td>1.0</td>\n",
       "    </tr>\n",
       "    <tr>\n",
       "      <th>6</th>\n",
       "      <td>2020-01-30</td>\n",
       "      <td>3.0</td>\n",
       "      <td>01-30</td>\n",
       "      <td>4.0</td>\n",
       "    </tr>\n",
       "    <tr>\n",
       "      <th>7</th>\n",
       "      <td>2020-01-31</td>\n",
       "      <td>3.0</td>\n",
       "      <td>01-31</td>\n",
       "      <td>7.0</td>\n",
       "    </tr>\n",
       "    <tr>\n",
       "      <th>8</th>\n",
       "      <td>2020-02-01</td>\n",
       "      <td>0.0</td>\n",
       "      <td>02-01</td>\n",
       "      <td>7.0</td>\n",
       "    </tr>\n",
       "    <tr>\n",
       "      <th>9</th>\n",
       "      <td>2020-02-02</td>\n",
       "      <td>1.0</td>\n",
       "      <td>02-02</td>\n",
       "      <td>8.0</td>\n",
       "    </tr>\n",
       "    <tr>\n",
       "      <th>10</th>\n",
       "      <td>2020-02-03</td>\n",
       "      <td>0.0</td>\n",
       "      <td>02-03</td>\n",
       "      <td>8.0</td>\n",
       "    </tr>\n",
       "    <tr>\n",
       "      <th>11</th>\n",
       "      <td>2020-02-04</td>\n",
       "      <td>0.0</td>\n",
       "      <td>02-04</td>\n",
       "      <td>8.0</td>\n",
       "    </tr>\n",
       "    <tr>\n",
       "      <th>12</th>\n",
       "      <td>2020-02-05</td>\n",
       "      <td>2.0</td>\n",
       "      <td>02-05</td>\n",
       "      <td>10.0</td>\n",
       "    </tr>\n",
       "    <tr>\n",
       "      <th>13</th>\n",
       "      <td>2020-02-06</td>\n",
       "      <td>1.0</td>\n",
       "      <td>02-06</td>\n",
       "      <td>11.0</td>\n",
       "    </tr>\n",
       "    <tr>\n",
       "      <th>14</th>\n",
       "      <td>2020-02-07</td>\n",
       "      <td>1.0</td>\n",
       "      <td>02-07</td>\n",
       "      <td>12.0</td>\n",
       "    </tr>\n",
       "    <tr>\n",
       "      <th>15</th>\n",
       "      <td>2020-02-08</td>\n",
       "      <td>0.0</td>\n",
       "      <td>02-08</td>\n",
       "      <td>12.0</td>\n",
       "    </tr>\n",
       "    <tr>\n",
       "      <th>16</th>\n",
       "      <td>2020-02-09</td>\n",
       "      <td>0.0</td>\n",
       "      <td>02-09</td>\n",
       "      <td>12.0</td>\n",
       "    </tr>\n",
       "    <tr>\n",
       "      <th>17</th>\n",
       "      <td>2020-02-10</td>\n",
       "      <td>0.0</td>\n",
       "      <td>02-10</td>\n",
       "      <td>12.0</td>\n",
       "    </tr>\n",
       "    <tr>\n",
       "      <th>18</th>\n",
       "      <td>2020-02-11</td>\n",
       "      <td>0.0</td>\n",
       "      <td>02-11</td>\n",
       "      <td>12.0</td>\n",
       "    </tr>\n",
       "    <tr>\n",
       "      <th>19</th>\n",
       "      <td>2020-02-12</td>\n",
       "      <td>0.0</td>\n",
       "      <td>02-12</td>\n",
       "      <td>12.0</td>\n",
       "    </tr>\n",
       "  </tbody>\n",
       "</table>\n",
       "</div>"
      ],
      "text/plain": [
       "         확진일자  확진수     일자  누적확진\n",
       "0  2020-01-24  1.0  01-24   1.0\n",
       "1  2020-01-25  0.0  01-25   1.0\n",
       "2  2020-01-26  0.0  01-26   1.0\n",
       "3  2020-01-27  0.0  01-27   1.0\n",
       "4  2020-01-28  0.0  01-28   1.0\n",
       "5  2020-01-29  0.0  01-29   1.0\n",
       "6  2020-01-30  3.0  01-30   4.0\n",
       "7  2020-01-31  3.0  01-31   7.0\n",
       "8  2020-02-01  0.0  02-01   7.0\n",
       "9  2020-02-02  1.0  02-02   8.0\n",
       "10 2020-02-03  0.0  02-03   8.0\n",
       "11 2020-02-04  0.0  02-04   8.0\n",
       "12 2020-02-05  2.0  02-05  10.0\n",
       "13 2020-02-06  1.0  02-06  11.0\n",
       "14 2020-02-07  1.0  02-07  12.0\n",
       "15 2020-02-08  0.0  02-08  12.0\n",
       "16 2020-02-09  0.0  02-09  12.0\n",
       "17 2020-02-10  0.0  02-10  12.0\n",
       "18 2020-02-11  0.0  02-11  12.0\n",
       "19 2020-02-12  0.0  02-12  12.0"
      ]
     },
     "execution_count": 116,
     "metadata": {},
     "output_type": "execute_result"
    }
   ],
   "source": [
    "# \"확진수\", \"누적확진\" 컬럼을 갖는 데이터프레임을 만듭니다.\n",
    "# cum_day\n",
    "all_day[\"누적확진\"] = all_day[\"확진수\"].cumsum()\n",
    "all_day.head(20)"
   ]
  },
  {
   "cell_type": "markdown",
   "metadata": {},
   "source": [
    "### 데이터프레임으로 그리기"
   ]
  },
  {
   "cell_type": "code",
   "execution_count": 123,
   "metadata": {},
   "outputs": [
    {
     "data": {
      "text/plain": [
       "<matplotlib.axes._subplots.AxesSubplot at 0x14eb2979df0>"
      ]
     },
     "execution_count": 123,
     "metadata": {},
     "output_type": "execute_result"
    },
    {
     "data": {
      "image/png": "[encoded data removed]",
      "text/plain": [
       "<Figure size 1080x288 with 2 Axes>"
      ]
     },
     "metadata": {
      "image/png": {
       "height": 291,
       "width": 903
      },
      "needs_background": "light"
     },
     "output_type": "display_data"
    }
   ],
   "source": [
    "# 데이터프레임으로 확진수와 누적확진을 선그래프로 그립니다.\n",
    "#확진자수의 증가폭이 잘안나오므로 권장하는 방법은 아니다 (둘간의 scale차이가 커서 차이가 잘 안나옴)\n",
    "#값의 차이가 클경우 \"로그스케일\"을 사용하기도한다\n",
    "#확진수 y값은 왼쪽, 누적확인y값은 오른쪽에서 확인 (서로의 그래프폭을 보기쉽다)\n",
    "\n",
    "all_day.set_index(\"확진일자\")[[\"확진수\",\"누적확진\"]].plot(figsize=(15,4),title=\"확진수와 누적확진수\",secondary_y=\"누적확진\")"
   ]
  },
  {
   "cell_type": "markdown",
   "metadata": {},
   "source": [
    "### 시리즈로 그리기"
   ]
  },
  {
   "cell_type": "code",
   "execution_count": 122,
   "metadata": {},
   "outputs": [
    {
     "data": {
      "text/plain": [
       "<matplotlib.axes._subplots.AxesSubplot at 0x14eaffdda30>"
      ]
     },
     "execution_count": 122,
     "metadata": {},
     "output_type": "execute_result"
    },
    {
     "data": {
      "image/png": "[encoded data removed]",
      "text/plain": [
       "<Figure size 432x288 with 1 Axes>"
      ]
     },
     "metadata": {
      "image/png": {
       "height": 275,
       "width": 378
      },
      "needs_background": "light"
     },
     "output_type": "display_data"
    }
   ],
   "source": [
    "# 시리즈로 2개의 그래프 그리기\n",
    "#이런경우 레전드(범례)값이 안나와서 따로 만들어야되므로 불편\n",
    "\n",
    "all_day.set_index(\"확진일자\")[\"확진수\"].plot()\n",
    "all_day.set_index(\"확진일자\")[\"누적확진\"].plot()\n"
   ]
  },
  {
   "cell_type": "markdown",
   "metadata": {},
   "source": [
    "### 확진수만 따로 그리기"
   ]
  },
  {
   "cell_type": "code",
   "execution_count": 124,
   "metadata": {
    "scrolled": false
   },
   "outputs": [
    {
     "data": {
      "text/plain": [
       "<matplotlib.axes._subplots.AxesSubplot at 0x14eb4feba90>"
      ]
     },
     "execution_count": 124,
     "metadata": {},
     "output_type": "execute_result"
    },
    {
     "data": {
      "image/png": "[encoded data removed]",
      "text/plain": [
       "<Figure size 432x288 with 1 Axes>"
      ]
     },
     "metadata": {
      "image/png": {
       "height": 249,
       "width": 372
      },
      "needs_background": "light"
     },
     "output_type": "display_data"
    }
   ],
   "source": [
    "# 누적확진수와 확진수와 차이가 크면 제대로 보이지 않기 때문에 확진수만 그립니다.\n",
    "#확진일자로 index 지정을 안하면 x축값이 인덱스번호로 나옴 \n",
    "\n",
    "all_day.[\"확진수\"].plot()"
   ]
  },
  {
   "cell_type": "code",
   "execution_count": 126,
   "metadata": {},
   "outputs": [
    {
     "data": {
      "text/plain": [
       "<matplotlib.axes._subplots.AxesSubplot at 0x14eb4be0250>"
      ]
     },
     "execution_count": 126,
     "metadata": {},
     "output_type": "execute_result"
    },
    {
     "data": {
      "image/png": "[encoded data removed]",
      "text/plain": [
       "<Figure size 1080x288 with 1 Axes>"
      ]
     },
     "metadata": {
      "image/png": {
       "height": 275,
       "width": 874
      },
      "needs_background": "light"
     },
     "output_type": "display_data"
    }
   ],
   "source": [
    "# 확진일자로 인덱스 지정해서 출력\n",
    "\n",
    "all_day.set_index(\"확진일자\")[\"확진수\"].plot(figsize=(15,4))"
   ]
  },
  {
   "cell_type": "markdown",
   "metadata": {},
   "source": [
    "### 누적확진만 따로 그리기"
   ]
  },
  {
   "cell_type": "code",
   "execution_count": 127,
   "metadata": {},
   "outputs": [
    {
     "data": {
      "text/plain": [
       "<matplotlib.axes._subplots.AxesSubplot at 0x14eb4c87df0>"
      ]
     },
     "execution_count": 127,
     "metadata": {},
     "output_type": "execute_result"
    },
    {
     "data": {
      "image/png": "[encoded data removed]",
      "text/plain": [
       "<Figure size 1080x288 with 1 Axes>"
      ]
     },
     "metadata": {
      "image/png": {
       "height": 275,
       "width": 880
      },
      "needs_background": "light"
     },
     "output_type": "display_data"
    }
   ],
   "source": [
    "# 누적확진만 따로 그립니다.\n",
    "\n",
    "all_day.set_index(\"확진일자\")[\"누적확진\"].plot(figsize=(15,4))"
   ]
  },
  {
   "cell_type": "markdown",
   "metadata": {},
   "source": [
    "### 로그스케일\n",
    "* 차이가 너무 커서 그래프가 자세히 보이지 않을때 로그스케일로 표현하면 차이가 큰 값의 스케일을 조정해주게 됩니다."
   ]
  },
  {
   "cell_type": "code",
   "execution_count": 129,
   "metadata": {
    "scrolled": true
   },
   "outputs": [
    {
     "data": {
      "text/html": [
       "<div>\n",
       "<style scoped>\n",
       "    .dataframe tbody tr th:only-of-type {\n",
       "        vertical-align: middle;\n",
       "    }\n",
       "\n",
       "    .dataframe tbody tr th {\n",
       "        vertical-align: top;\n",
       "    }\n",
       "\n",
       "    .dataframe thead th {\n",
       "        text-align: right;\n",
       "    }\n",
       "</style>\n",
       "<table border=\"1\" class=\"dataframe\">\n",
       "  <thead>\n",
       "    <tr style=\"text-align: right;\">\n",
       "      <th></th>\n",
       "      <th>확진수</th>\n",
       "      <th>일자</th>\n",
       "      <th>누적확진</th>\n",
       "    </tr>\n",
       "    <tr>\n",
       "      <th>확진일자</th>\n",
       "      <th></th>\n",
       "      <th></th>\n",
       "      <th></th>\n",
       "    </tr>\n",
       "  </thead>\n",
       "  <tbody>\n",
       "    <tr>\n",
       "      <th>2020-01-24</th>\n",
       "      <td>1.0</td>\n",
       "      <td>01-24</td>\n",
       "      <td>1.0</td>\n",
       "    </tr>\n",
       "    <tr>\n",
       "      <th>2020-01-25</th>\n",
       "      <td>0.0</td>\n",
       "      <td>01-25</td>\n",
       "      <td>1.0</td>\n",
       "    </tr>\n",
       "    <tr>\n",
       "      <th>2020-01-26</th>\n",
       "      <td>0.0</td>\n",
       "      <td>01-26</td>\n",
       "      <td>1.0</td>\n",
       "    </tr>\n",
       "    <tr>\n",
       "      <th>2020-01-27</th>\n",
       "      <td>0.0</td>\n",
       "      <td>01-27</td>\n",
       "      <td>1.0</td>\n",
       "    </tr>\n",
       "    <tr>\n",
       "      <th>2020-01-28</th>\n",
       "      <td>0.0</td>\n",
       "      <td>01-28</td>\n",
       "      <td>1.0</td>\n",
       "    </tr>\n",
       "    <tr>\n",
       "      <th>...</th>\n",
       "      <td>...</td>\n",
       "      <td>...</td>\n",
       "      <td>...</td>\n",
       "    </tr>\n",
       "    <tr>\n",
       "      <th>2020-11-24</th>\n",
       "      <td>142.0</td>\n",
       "      <td>11-24</td>\n",
       "      <td>7900.0</td>\n",
       "    </tr>\n",
       "    <tr>\n",
       "      <th>2020-11-25</th>\n",
       "      <td>212.0</td>\n",
       "      <td>11-25</td>\n",
       "      <td>8112.0</td>\n",
       "    </tr>\n",
       "    <tr>\n",
       "      <th>2020-11-26</th>\n",
       "      <td>204.0</td>\n",
       "      <td>11-26</td>\n",
       "      <td>8316.0</td>\n",
       "    </tr>\n",
       "    <tr>\n",
       "      <th>2020-11-27</th>\n",
       "      <td>178.0</td>\n",
       "      <td>11-27</td>\n",
       "      <td>8494.0</td>\n",
       "    </tr>\n",
       "    <tr>\n",
       "      <th>2020-11-28</th>\n",
       "      <td>158.0</td>\n",
       "      <td>11-28</td>\n",
       "      <td>8652.0</td>\n",
       "    </tr>\n",
       "  </tbody>\n",
       "</table>\n",
       "<p>310 rows × 3 columns</p>\n",
       "</div>"
      ],
      "text/plain": [
       "              확진수     일자    누적확진\n",
       "확진일자                            \n",
       "2020-01-24    1.0  01-24     1.0\n",
       "2020-01-25    0.0  01-25     1.0\n",
       "2020-01-26    0.0  01-26     1.0\n",
       "2020-01-27    0.0  01-27     1.0\n",
       "2020-01-28    0.0  01-28     1.0\n",
       "...           ...    ...     ...\n",
       "2020-11-24  142.0  11-24  7900.0\n",
       "2020-11-25  212.0  11-25  8112.0\n",
       "2020-11-26  204.0  11-26  8316.0\n",
       "2020-11-27  178.0  11-27  8494.0\n",
       "2020-11-28  158.0  11-28  8652.0\n",
       "\n",
       "[310 rows x 3 columns]"
      ]
     },
     "execution_count": 129,
     "metadata": {},
     "output_type": "execute_result"
    }
   ],
   "source": [
    "#인덱스지정 번거로우므로 변수설정\n",
    "all_day = all_day.set_index(\"확진일자\")\n",
    "all_day"
   ]
  },
  {
   "cell_type": "code",
   "execution_count": 135,
   "metadata": {},
   "outputs": [
    {
     "data": {
      "text/plain": [
       "array([[<matplotlib.axes._subplots.AxesSubplot object at 0x0000014EB5503EB0>,\n",
       "        <matplotlib.axes._subplots.AxesSubplot object at 0x0000014EB54700D0>]],\n",
       "      dtype=object)"
      ]
     },
     "execution_count": 135,
     "metadata": {},
     "output_type": "execute_result"
    },
    {
     "data": {
      "image/png": "[encoded data removed]",
      "text/plain": [
       "<Figure size 432x288 with 2 Axes>"
      ]
     },
     "metadata": {
      "image/png": {
       "height": 264,
       "width": 372
      },
      "needs_background": "light"
     },
     "output_type": "display_data"
    }
   ],
   "source": [
    "#한쪽으로 심하게 치우쳐있는경우 머신러닝이 학습하는데있어서 안좋음\n",
    "# 이런경우 로그를 취해서 작업~\n",
    "all_day.hist()"
   ]
  },
  {
   "cell_type": "code",
   "execution_count": 137,
   "metadata": {},
   "outputs": [
    {
     "data": {
      "text/plain": [
       "<matplotlib.axes._subplots.AxesSubplot at 0x14eb2f8d8b0>"
      ]
     },
     "execution_count": 137,
     "metadata": {},
     "output_type": "execute_result"
    },
    {
     "data": {
      "image/png": "[encoded data removed]",
      "text/plain": [
       "<Figure size 432x288 with 1 Axes>"
      ]
     },
     "metadata": {
      "image/png": {
       "height": 249,
       "width": 367
      },
      "needs_background": "light"
     },
     "output_type": "display_data"
    }
   ],
   "source": [
    "np.log1p(all_day[\"확진수\"]).hist()"
   ]
  },
  {
   "cell_type": "code",
   "execution_count": 134,
   "metadata": {},
   "outputs": [
    {
     "data": {
      "text/plain": [
       "<matplotlib.axes._subplots.AxesSubplot at 0x14eb5501b80>"
      ]
     },
     "execution_count": 134,
     "metadata": {},
     "output_type": "execute_result"
    },
    {
     "data": {
      "image/png": "[encoded data removed]",
      "text/plain": [
       "<Figure size 1080x288 with 1 Axes>"
      ]
     },
     "metadata": {
      "image/png": {
       "height": 275,
       "width": 863
      },
      "needs_background": "light"
     },
     "output_type": "display_data"
    }
   ],
   "source": [
    "#1이하의값을 로그취하면 무한대 오류가나옴 그래서 아래와 같이 코딩\n",
    "#np.log(all_day[\"확진수\"] + 1)\n",
    "np.log1p(all_day[\"확진수\"]).plot(figsize=(15,4))\n",
    "np.log1p(all_day[\"누적확진\"]).plot()"
   ]
  },
  {
   "cell_type": "markdown",
   "metadata": {},
   "source": [
    "## 확진월과 요일 구하기"
   ]
  },
  {
   "cell_type": "code",
   "execution_count": 144,
   "metadata": {
    "scrolled": true
   },
   "outputs": [
    {
     "data": {
      "text/html": [
       "<div>\n",
       "<style scoped>\n",
       "    .dataframe tbody tr th:only-of-type {\n",
       "        vertical-align: middle;\n",
       "    }\n",
       "\n",
       "    .dataframe tbody tr th {\n",
       "        vertical-align: top;\n",
       "    }\n",
       "\n",
       "    .dataframe thead th {\n",
       "        text-align: right;\n",
       "    }\n",
       "</style>\n",
       "<table border=\"1\" class=\"dataframe\">\n",
       "  <thead>\n",
       "    <tr style=\"text-align: right;\">\n",
       "      <th></th>\n",
       "      <th>확진일자</th>\n",
       "      <th>확진수</th>\n",
       "      <th>일자</th>\n",
       "      <th>누적확진</th>\n",
       "      <th>월</th>\n",
       "      <th>요일</th>\n",
       "    </tr>\n",
       "  </thead>\n",
       "  <tbody>\n",
       "    <tr>\n",
       "      <th>0</th>\n",
       "      <td>2020-01-24</td>\n",
       "      <td>1.0</td>\n",
       "      <td>01-24</td>\n",
       "      <td>1.0</td>\n",
       "      <td>1</td>\n",
       "      <td>4</td>\n",
       "    </tr>\n",
       "    <tr>\n",
       "      <th>1</th>\n",
       "      <td>2020-01-25</td>\n",
       "      <td>0.0</td>\n",
       "      <td>01-25</td>\n",
       "      <td>1.0</td>\n",
       "      <td>1</td>\n",
       "      <td>5</td>\n",
       "    </tr>\n",
       "    <tr>\n",
       "      <th>2</th>\n",
       "      <td>2020-01-26</td>\n",
       "      <td>0.0</td>\n",
       "      <td>01-26</td>\n",
       "      <td>1.0</td>\n",
       "      <td>1</td>\n",
       "      <td>6</td>\n",
       "    </tr>\n",
       "    <tr>\n",
       "      <th>3</th>\n",
       "      <td>2020-01-27</td>\n",
       "      <td>0.0</td>\n",
       "      <td>01-27</td>\n",
       "      <td>1.0</td>\n",
       "      <td>1</td>\n",
       "      <td>0</td>\n",
       "    </tr>\n",
       "    <tr>\n",
       "      <th>4</th>\n",
       "      <td>2020-01-28</td>\n",
       "      <td>0.0</td>\n",
       "      <td>01-28</td>\n",
       "      <td>1.0</td>\n",
       "      <td>1</td>\n",
       "      <td>1</td>\n",
       "    </tr>\n",
       "    <tr>\n",
       "      <th>...</th>\n",
       "      <td>...</td>\n",
       "      <td>...</td>\n",
       "      <td>...</td>\n",
       "      <td>...</td>\n",
       "      <td>...</td>\n",
       "      <td>...</td>\n",
       "    </tr>\n",
       "    <tr>\n",
       "      <th>305</th>\n",
       "      <td>2020-11-24</td>\n",
       "      <td>142.0</td>\n",
       "      <td>11-24</td>\n",
       "      <td>7900.0</td>\n",
       "      <td>11</td>\n",
       "      <td>1</td>\n",
       "    </tr>\n",
       "    <tr>\n",
       "      <th>306</th>\n",
       "      <td>2020-11-25</td>\n",
       "      <td>212.0</td>\n",
       "      <td>11-25</td>\n",
       "      <td>8112.0</td>\n",
       "      <td>11</td>\n",
       "      <td>2</td>\n",
       "    </tr>\n",
       "    <tr>\n",
       "      <th>307</th>\n",
       "      <td>2020-11-26</td>\n",
       "      <td>204.0</td>\n",
       "      <td>11-26</td>\n",
       "      <td>8316.0</td>\n",
       "      <td>11</td>\n",
       "      <td>3</td>\n",
       "    </tr>\n",
       "    <tr>\n",
       "      <th>308</th>\n",
       "      <td>2020-11-27</td>\n",
       "      <td>178.0</td>\n",
       "      <td>11-27</td>\n",
       "      <td>8494.0</td>\n",
       "      <td>11</td>\n",
       "      <td>4</td>\n",
       "    </tr>\n",
       "    <tr>\n",
       "      <th>309</th>\n",
       "      <td>2020-11-28</td>\n",
       "      <td>158.0</td>\n",
       "      <td>11-28</td>\n",
       "      <td>8652.0</td>\n",
       "      <td>11</td>\n",
       "      <td>5</td>\n",
       "    </tr>\n",
       "  </tbody>\n",
       "</table>\n",
       "<p>310 rows × 6 columns</p>\n",
       "</div>"
      ],
      "text/plain": [
       "          확진일자    확진수     일자    누적확진   월  요일\n",
       "0   2020-01-24    1.0  01-24     1.0   1   4\n",
       "1   2020-01-25    0.0  01-25     1.0   1   5\n",
       "2   2020-01-26    0.0  01-26     1.0   1   6\n",
       "3   2020-01-27    0.0  01-27     1.0   1   0\n",
       "4   2020-01-28    0.0  01-28     1.0   1   1\n",
       "..         ...    ...    ...     ...  ..  ..\n",
       "305 2020-11-24  142.0  11-24  7900.0  11   1\n",
       "306 2020-11-25  212.0  11-25  8112.0  11   2\n",
       "307 2020-11-26  204.0  11-26  8316.0  11   3\n",
       "308 2020-11-27  178.0  11-27  8494.0  11   4\n",
       "309 2020-11-28  158.0  11-28  8652.0  11   5\n",
       "\n",
       "[310 rows x 6 columns]"
      ]
     },
     "execution_count": 144,
     "metadata": {},
     "output_type": "execute_result"
    }
   ],
   "source": [
    "# cum_day\n",
    "# all_day\n",
    "df_all_day = all_day.reset_index() #인덱스지정한것 풀기\n",
    "df_all_day[\"월\"] = df_all_day[\"확진일자\"].dt.month\n",
    "df_all_day[\"요일\"] = df_all_day[\"확진일자\"].dt.dayofweek\n",
    "df_all_day"
   ]
  },
  {
   "cell_type": "code",
   "execution_count": 146,
   "metadata": {
    "scrolled": true
   },
   "outputs": [
    {
     "data": {
      "text/plain": [
       "월\n",
       "1        7.0\n",
       "2       80.0\n",
       "3      391.0\n",
       "4      156.0\n",
       "5      228.0\n",
       "6      460.0\n",
       "7      281.0\n",
       "8     2417.0\n",
       "9     1304.0\n",
       "10     733.0\n",
       "11    2595.0\n",
       "Name: 확진수, dtype: float64"
      ]
     },
     "execution_count": 146,
     "metadata": {},
     "output_type": "execute_result"
    }
   ],
   "source": [
    "#groupby뒤 () 는 함수에대한 () , []는 인덱싱에대한 []\n",
    "#여러값을 줄경우는 () 안에 리스트[]를 사용\n",
    "\n",
    "df_all_day.groupby(\"월\")[\"확진수\"].sum()"
   ]
  },
  {
   "cell_type": "code",
   "execution_count": 147,
   "metadata": {},
   "outputs": [
    {
     "data": {
      "text/plain": [
       "월   요일\n",
       "1   0       0.0\n",
       "    1       0.0\n",
       "    2       0.0\n",
       "    3       3.0\n",
       "    4       4.0\n",
       "          ...  \n",
       "11  2     422.0\n",
       "    3     450.0\n",
       "    4     440.0\n",
       "    5     418.0\n",
       "    6     263.0\n",
       "Name: 확진수, Length: 77, dtype: float64"
      ]
     },
     "execution_count": 147,
     "metadata": {},
     "output_type": "execute_result"
    }
   ],
   "source": [
    "df_all_day.groupby([\"월\",\"요일\"])[\"확진수\"].sum()"
   ]
  },
  {
   "cell_type": "markdown",
   "metadata": {},
   "source": [
    "### 요일별 확진 수 "
   ]
  },
  {
   "cell_type": "code",
   "execution_count": 151,
   "metadata": {},
   "outputs": [
    {
     "data": {
      "text/plain": [
       "요일\n",
       "0    1124.0\n",
       "1    1217.0\n",
       "2    1301.0\n",
       "3    1368.0\n",
       "4    1327.0\n",
       "5    1390.0\n",
       "6     925.0\n",
       "Name: 확진수, dtype: float64"
      ]
     },
     "execution_count": 151,
     "metadata": {},
     "output_type": "execute_result"
    }
   ],
   "source": [
    "df_all_day.groupby(\"요일\")[\"확진수\"].sum()"
   ]
  },
  {
   "cell_type": "code",
   "execution_count": 154,
   "metadata": {},
   "outputs": [
    {
     "data": {
      "text/plain": [
       "월   요일\n",
       "1   0       0.0\n",
       "    1       0.0\n",
       "    2       0.0\n",
       "    3       3.0\n",
       "    4       4.0\n",
       "          ...  \n",
       "11  2     422.0\n",
       "    3     450.0\n",
       "    4     440.0\n",
       "    5     418.0\n",
       "    6     263.0\n",
       "Name: 확진수, Length: 77, dtype: float64"
      ]
     },
     "execution_count": 154,
     "metadata": {},
     "output_type": "execute_result"
    }
   ],
   "source": [
    "df_all_day.groupby([\"월\",\"요일\"])[\"확진수\"].sum()"
   ]
  },
  {
   "cell_type": "code",
   "execution_count": 158,
   "metadata": {},
   "outputs": [
    {
     "data": {
      "text/html": [
       "<div>\n",
       "<style scoped>\n",
       "    .dataframe tbody tr th:only-of-type {\n",
       "        vertical-align: middle;\n",
       "    }\n",
       "\n",
       "    .dataframe tbody tr th {\n",
       "        vertical-align: top;\n",
       "    }\n",
       "\n",
       "    .dataframe thead th {\n",
       "        text-align: right;\n",
       "    }\n",
       "</style>\n",
       "<table border=\"1\" class=\"dataframe\">\n",
       "  <thead>\n",
       "    <tr style=\"text-align: right;\">\n",
       "      <th>요일</th>\n",
       "      <th>0</th>\n",
       "      <th>1</th>\n",
       "      <th>2</th>\n",
       "      <th>3</th>\n",
       "      <th>4</th>\n",
       "      <th>5</th>\n",
       "      <th>6</th>\n",
       "    </tr>\n",
       "    <tr>\n",
       "      <th>월</th>\n",
       "      <th></th>\n",
       "      <th></th>\n",
       "      <th></th>\n",
       "      <th></th>\n",
       "      <th></th>\n",
       "      <th></th>\n",
       "      <th></th>\n",
       "    </tr>\n",
       "  </thead>\n",
       "  <tbody>\n",
       "    <tr>\n",
       "      <th>1</th>\n",
       "      <td>0.0</td>\n",
       "      <td>0.0</td>\n",
       "      <td>0.0</td>\n",
       "      <td>3.0</td>\n",
       "      <td>4.0</td>\n",
       "      <td>0.0</td>\n",
       "      <td>0.0</td>\n",
       "    </tr>\n",
       "    <tr>\n",
       "      <th>2</th>\n",
       "      <td>4.0</td>\n",
       "      <td>16.0</td>\n",
       "      <td>14.0</td>\n",
       "      <td>19.0</td>\n",
       "      <td>11.0</td>\n",
       "      <td>9.0</td>\n",
       "      <td>7.0</td>\n",
       "    </tr>\n",
       "    <tr>\n",
       "      <th>3</th>\n",
       "      <td>69.0</td>\n",
       "      <td>89.0</td>\n",
       "      <td>46.0</td>\n",
       "      <td>44.0</td>\n",
       "      <td>48.0</td>\n",
       "      <td>45.0</td>\n",
       "      <td>50.0</td>\n",
       "    </tr>\n",
       "    <tr>\n",
       "      <th>4</th>\n",
       "      <td>16.0</td>\n",
       "      <td>17.0</td>\n",
       "      <td>28.0</td>\n",
       "      <td>27.0</td>\n",
       "      <td>26.0</td>\n",
       "      <td>22.0</td>\n",
       "      <td>20.0</td>\n",
       "    </tr>\n",
       "    <tr>\n",
       "      <th>5</th>\n",
       "      <td>27.0</td>\n",
       "      <td>36.0</td>\n",
       "      <td>34.0</td>\n",
       "      <td>34.0</td>\n",
       "      <td>32.0</td>\n",
       "      <td>36.0</td>\n",
       "      <td>29.0</td>\n",
       "    </tr>\n",
       "    <tr>\n",
       "      <th>6</th>\n",
       "      <td>55.0</td>\n",
       "      <td>67.0</td>\n",
       "      <td>66.0</td>\n",
       "      <td>75.0</td>\n",
       "      <td>90.0</td>\n",
       "      <td>70.0</td>\n",
       "      <td>37.0</td>\n",
       "    </tr>\n",
       "    <tr>\n",
       "      <th>7</th>\n",
       "      <td>37.0</td>\n",
       "      <td>42.0</td>\n",
       "      <td>42.0</td>\n",
       "      <td>58.0</td>\n",
       "      <td>34.0</td>\n",
       "      <td>40.0</td>\n",
       "      <td>28.0</td>\n",
       "    </tr>\n",
       "    <tr>\n",
       "      <th>8</th>\n",
       "      <td>387.0</td>\n",
       "      <td>289.0</td>\n",
       "      <td>327.0</td>\n",
       "      <td>328.0</td>\n",
       "      <td>336.0</td>\n",
       "      <td>473.0</td>\n",
       "      <td>277.0</td>\n",
       "    </tr>\n",
       "    <tr>\n",
       "      <th>9</th>\n",
       "      <td>177.0</td>\n",
       "      <td>242.0</td>\n",
       "      <td>228.0</td>\n",
       "      <td>207.0</td>\n",
       "      <td>169.0</td>\n",
       "      <td>155.0</td>\n",
       "      <td>126.0</td>\n",
       "    </tr>\n",
       "    <tr>\n",
       "      <th>10</th>\n",
       "      <td>72.0</td>\n",
       "      <td>97.0</td>\n",
       "      <td>94.0</td>\n",
       "      <td>123.0</td>\n",
       "      <td>137.0</td>\n",
       "      <td>122.0</td>\n",
       "      <td>88.0</td>\n",
       "    </tr>\n",
       "    <tr>\n",
       "      <th>11</th>\n",
       "      <td>280.0</td>\n",
       "      <td>322.0</td>\n",
       "      <td>422.0</td>\n",
       "      <td>450.0</td>\n",
       "      <td>440.0</td>\n",
       "      <td>418.0</td>\n",
       "      <td>263.0</td>\n",
       "    </tr>\n",
       "  </tbody>\n",
       "</table>\n",
       "</div>"
      ],
      "text/plain": [
       "요일      0      1      2      3      4      5      6\n",
       "월                                                  \n",
       "1     0.0    0.0    0.0    3.0    4.0    0.0    0.0\n",
       "2     4.0   16.0   14.0   19.0   11.0    9.0    7.0\n",
       "3    69.0   89.0   46.0   44.0   48.0   45.0   50.0\n",
       "4    16.0   17.0   28.0   27.0   26.0   22.0   20.0\n",
       "5    27.0   36.0   34.0   34.0   32.0   36.0   29.0\n",
       "6    55.0   67.0   66.0   75.0   90.0   70.0   37.0\n",
       "7    37.0   42.0   42.0   58.0   34.0   40.0   28.0\n",
       "8   387.0  289.0  327.0  328.0  336.0  473.0  277.0\n",
       "9   177.0  242.0  228.0  207.0  169.0  155.0  126.0\n",
       "10   72.0   97.0   94.0  123.0  137.0  122.0   88.0\n",
       "11  280.0  322.0  422.0  450.0  440.0  418.0  263.0"
      ]
     },
     "execution_count": 158,
     "metadata": {},
     "output_type": "execute_result"
    }
   ],
   "source": [
    "# 월별, 요일별 확진수를 groupby로 구하기\n",
    "# all_day_week\n",
    "#unstack()하면 마지막인덱스(요일)을 칼럼으로 만들어줌\n",
    "\n",
    "all_day_week = df_all_day.groupby([\"월\",\"요일\"])[\"확진수\"].sum().unstack()\n",
    "all_day_week"
   ]
  },
  {
   "cell_type": "code",
   "execution_count": 156,
   "metadata": {},
   "outputs": [
    {
     "data": {
      "text/plain": [
       "['월', '화', '수', '목', '금', '토', '일']"
      ]
     },
     "execution_count": 156,
     "metadata": {},
     "output_type": "execute_result"
    }
   ],
   "source": [
    "# 숫자로 표현된 요일을 문자로 바꿔주기 위해 split 을 통해 문자를 리스트로 변경합니다.\n",
    "dayofweek = \"월 화 수 목 금 토 일\"\n",
    "dayofweek = dayofweek.split()\n",
    "dayofweek"
   ]
  },
  {
   "cell_type": "code",
   "execution_count": 160,
   "metadata": {},
   "outputs": [
    {
     "data": {
      "text/html": [
       "<div>\n",
       "<style scoped>\n",
       "    .dataframe tbody tr th:only-of-type {\n",
       "        vertical-align: middle;\n",
       "    }\n",
       "\n",
       "    .dataframe tbody tr th {\n",
       "        vertical-align: top;\n",
       "    }\n",
       "\n",
       "    .dataframe thead th {\n",
       "        text-align: right;\n",
       "    }\n",
       "</style>\n",
       "<table border=\"1\" class=\"dataframe\">\n",
       "  <thead>\n",
       "    <tr style=\"text-align: right;\">\n",
       "      <th></th>\n",
       "      <th>월</th>\n",
       "      <th>화</th>\n",
       "      <th>수</th>\n",
       "      <th>목</th>\n",
       "      <th>금</th>\n",
       "      <th>토</th>\n",
       "      <th>일</th>\n",
       "    </tr>\n",
       "    <tr>\n",
       "      <th>월</th>\n",
       "      <th></th>\n",
       "      <th></th>\n",
       "      <th></th>\n",
       "      <th></th>\n",
       "      <th></th>\n",
       "      <th></th>\n",
       "      <th></th>\n",
       "    </tr>\n",
       "  </thead>\n",
       "  <tbody>\n",
       "    <tr>\n",
       "      <th>1</th>\n",
       "      <td>0.0</td>\n",
       "      <td>0.0</td>\n",
       "      <td>0.0</td>\n",
       "      <td>3.0</td>\n",
       "      <td>4.0</td>\n",
       "      <td>0.0</td>\n",
       "      <td>0.0</td>\n",
       "    </tr>\n",
       "    <tr>\n",
       "      <th>2</th>\n",
       "      <td>4.0</td>\n",
       "      <td>16.0</td>\n",
       "      <td>14.0</td>\n",
       "      <td>19.0</td>\n",
       "      <td>11.0</td>\n",
       "      <td>9.0</td>\n",
       "      <td>7.0</td>\n",
       "    </tr>\n",
       "    <tr>\n",
       "      <th>3</th>\n",
       "      <td>69.0</td>\n",
       "      <td>89.0</td>\n",
       "      <td>46.0</td>\n",
       "      <td>44.0</td>\n",
       "      <td>48.0</td>\n",
       "      <td>45.0</td>\n",
       "      <td>50.0</td>\n",
       "    </tr>\n",
       "    <tr>\n",
       "      <th>4</th>\n",
       "      <td>16.0</td>\n",
       "      <td>17.0</td>\n",
       "      <td>28.0</td>\n",
       "      <td>27.0</td>\n",
       "      <td>26.0</td>\n",
       "      <td>22.0</td>\n",
       "      <td>20.0</td>\n",
       "    </tr>\n",
       "    <tr>\n",
       "      <th>5</th>\n",
       "      <td>27.0</td>\n",
       "      <td>36.0</td>\n",
       "      <td>34.0</td>\n",
       "      <td>34.0</td>\n",
       "      <td>32.0</td>\n",
       "      <td>36.0</td>\n",
       "      <td>29.0</td>\n",
       "    </tr>\n",
       "    <tr>\n",
       "      <th>6</th>\n",
       "      <td>55.0</td>\n",
       "      <td>67.0</td>\n",
       "      <td>66.0</td>\n",
       "      <td>75.0</td>\n",
       "      <td>90.0</td>\n",
       "      <td>70.0</td>\n",
       "      <td>37.0</td>\n",
       "    </tr>\n",
       "    <tr>\n",
       "      <th>7</th>\n",
       "      <td>37.0</td>\n",
       "      <td>42.0</td>\n",
       "      <td>42.0</td>\n",
       "      <td>58.0</td>\n",
       "      <td>34.0</td>\n",
       "      <td>40.0</td>\n",
       "      <td>28.0</td>\n",
       "    </tr>\n",
       "    <tr>\n",
       "      <th>8</th>\n",
       "      <td>387.0</td>\n",
       "      <td>289.0</td>\n",
       "      <td>327.0</td>\n",
       "      <td>328.0</td>\n",
       "      <td>336.0</td>\n",
       "      <td>473.0</td>\n",
       "      <td>277.0</td>\n",
       "    </tr>\n",
       "    <tr>\n",
       "      <th>9</th>\n",
       "      <td>177.0</td>\n",
       "      <td>242.0</td>\n",
       "      <td>228.0</td>\n",
       "      <td>207.0</td>\n",
       "      <td>169.0</td>\n",
       "      <td>155.0</td>\n",
       "      <td>126.0</td>\n",
       "    </tr>\n",
       "    <tr>\n",
       "      <th>10</th>\n",
       "      <td>72.0</td>\n",
       "      <td>97.0</td>\n",
       "      <td>94.0</td>\n",
       "      <td>123.0</td>\n",
       "      <td>137.0</td>\n",
       "      <td>122.0</td>\n",
       "      <td>88.0</td>\n",
       "    </tr>\n",
       "    <tr>\n",
       "      <th>11</th>\n",
       "      <td>280.0</td>\n",
       "      <td>322.0</td>\n",
       "      <td>422.0</td>\n",
       "      <td>450.0</td>\n",
       "      <td>440.0</td>\n",
       "      <td>418.0</td>\n",
       "      <td>263.0</td>\n",
       "    </tr>\n",
       "  </tbody>\n",
       "</table>\n",
       "</div>"
      ],
      "text/plain": [
       "        월      화      수      목      금      토      일\n",
       "월                                                  \n",
       "1     0.0    0.0    0.0    3.0    4.0    0.0    0.0\n",
       "2     4.0   16.0   14.0   19.0   11.0    9.0    7.0\n",
       "3    69.0   89.0   46.0   44.0   48.0   45.0   50.0\n",
       "4    16.0   17.0   28.0   27.0   26.0   22.0   20.0\n",
       "5    27.0   36.0   34.0   34.0   32.0   36.0   29.0\n",
       "6    55.0   67.0   66.0   75.0   90.0   70.0   37.0\n",
       "7    37.0   42.0   42.0   58.0   34.0   40.0   28.0\n",
       "8   387.0  289.0  327.0  328.0  336.0  473.0  277.0\n",
       "9   177.0  242.0  228.0  207.0  169.0  155.0  126.0\n",
       "10   72.0   97.0   94.0  123.0  137.0  122.0   88.0\n",
       "11  280.0  322.0  422.0  450.0  440.0  418.0  263.0"
      ]
     },
     "execution_count": 160,
     "metadata": {},
     "output_type": "execute_result"
    }
   ],
   "source": [
    "# 컬럼의 이름을 한글요일명으로 변경해 줍니다.\n",
    "all_day_week.columns = dayofweek\n",
    "all_day_week"
   ]
  },
  {
   "cell_type": "code",
   "execution_count": 162,
   "metadata": {
    "scrolled": true
   },
   "outputs": [
    {
     "data": {
      "text/html": [
       "<style  type=\"text/css\" >\n",
       "    #T_e4f9bf14_67ab_11eb_8fa8_782b462923adrow0_col0 {\n",
       "            background-color:  #f7fcf5;\n",
       "            color:  #000000;\n",
       "        }    #T_e4f9bf14_67ab_11eb_8fa8_782b462923adrow0_col1 {\n",
       "            background-color:  #f7fcf5;\n",
       "            color:  #000000;\n",
       "        }    #T_e4f9bf14_67ab_11eb_8fa8_782b462923adrow0_col2 {\n",
       "            background-color:  #f7fcf5;\n",
       "            color:  #000000;\n",
       "        }    #T_e4f9bf14_67ab_11eb_8fa8_782b462923adrow0_col3 {\n",
       "            background-color:  #f7fcf5;\n",
       "            color:  #000000;\n",
       "        }    #T_e4f9bf14_67ab_11eb_8fa8_782b462923adrow0_col4 {\n",
       "            background-color:  #f7fcf5;\n",
       "            color:  #000000;\n",
       "        }    #T_e4f9bf14_67ab_11eb_8fa8_782b462923adrow0_col5 {\n",
       "            background-color:  #f7fcf5;\n",
       "            color:  #000000;\n",
       "        }    #T_e4f9bf14_67ab_11eb_8fa8_782b462923adrow0_col6 {\n",
       "            background-color:  #f7fcf5;\n",
       "            color:  #000000;\n",
       "        }    #T_e4f9bf14_67ab_11eb_8fa8_782b462923adrow1_col0 {\n",
       "            background-color:  #f6fcf4;\n",
       "            color:  #000000;\n",
       "        }    #T_e4f9bf14_67ab_11eb_8fa8_782b462923adrow1_col1 {\n",
       "            background-color:  #f0f9ed;\n",
       "            color:  #000000;\n",
       "        }    #T_e4f9bf14_67ab_11eb_8fa8_782b462923adrow1_col2 {\n",
       "            background-color:  #f2faf0;\n",
       "            color:  #000000;\n",
       "        }    #T_e4f9bf14_67ab_11eb_8fa8_782b462923adrow1_col3 {\n",
       "            background-color:  #f2faef;\n",
       "            color:  #000000;\n",
       "        }    #T_e4f9bf14_67ab_11eb_8fa8_782b462923adrow1_col4 {\n",
       "            background-color:  #f5fbf2;\n",
       "            color:  #000000;\n",
       "        }    #T_e4f9bf14_67ab_11eb_8fa8_782b462923adrow1_col5 {\n",
       "            background-color:  #f5fbf2;\n",
       "            color:  #000000;\n",
       "        }    #T_e4f9bf14_67ab_11eb_8fa8_782b462923adrow1_col6 {\n",
       "            background-color:  #f4fbf1;\n",
       "            color:  #000000;\n",
       "        }    #T_e4f9bf14_67ab_11eb_8fa8_782b462923adrow2_col0 {\n",
       "            background-color:  #d9f0d3;\n",
       "            color:  #000000;\n",
       "        }    #T_e4f9bf14_67ab_11eb_8fa8_782b462923adrow2_col1 {\n",
       "            background-color:  #c0e6b9;\n",
       "            color:  #000000;\n",
       "        }    #T_e4f9bf14_67ab_11eb_8fa8_782b462923adrow2_col2 {\n",
       "            background-color:  #e8f6e3;\n",
       "            color:  #000000;\n",
       "        }    #T_e4f9bf14_67ab_11eb_8fa8_782b462923adrow2_col3 {\n",
       "            background-color:  #eaf7e6;\n",
       "            color:  #000000;\n",
       "        }    #T_e4f9bf14_67ab_11eb_8fa8_782b462923adrow2_col4 {\n",
       "            background-color:  #e9f7e5;\n",
       "            color:  #000000;\n",
       "        }    #T_e4f9bf14_67ab_11eb_8fa8_782b462923adrow2_col5 {\n",
       "            background-color:  #e9f7e5;\n",
       "            color:  #000000;\n",
       "        }    #T_e4f9bf14_67ab_11eb_8fa8_782b462923adrow2_col6 {\n",
       "            background-color:  #d8f0d2;\n",
       "            color:  #000000;\n",
       "        }    #T_e4f9bf14_67ab_11eb_8fa8_782b462923adrow3_col0 {\n",
       "            background-color:  #f1faee;\n",
       "            color:  #000000;\n",
       "        }    #T_e4f9bf14_67ab_11eb_8fa8_782b462923adrow3_col1 {\n",
       "            background-color:  #f0f9ec;\n",
       "            color:  #000000;\n",
       "        }    #T_e4f9bf14_67ab_11eb_8fa8_782b462923adrow3_col2 {\n",
       "            background-color:  #eef8ea;\n",
       "            color:  #000000;\n",
       "        }    #T_e4f9bf14_67ab_11eb_8fa8_782b462923adrow3_col3 {\n",
       "            background-color:  #f0f9ec;\n",
       "            color:  #000000;\n",
       "        }    #T_e4f9bf14_67ab_11eb_8fa8_782b462923adrow3_col4 {\n",
       "            background-color:  #f0f9ed;\n",
       "            color:  #000000;\n",
       "        }    #T_e4f9bf14_67ab_11eb_8fa8_782b462923adrow3_col5 {\n",
       "            background-color:  #f1faee;\n",
       "            color:  #000000;\n",
       "        }    #T_e4f9bf14_67ab_11eb_8fa8_782b462923adrow3_col6 {\n",
       "            background-color:  #edf8e9;\n",
       "            color:  #000000;\n",
       "        }    #T_e4f9bf14_67ab_11eb_8fa8_782b462923adrow4_col0 {\n",
       "            background-color:  #edf8ea;\n",
       "            color:  #000000;\n",
       "        }    #T_e4f9bf14_67ab_11eb_8fa8_782b462923adrow4_col1 {\n",
       "            background-color:  #e7f6e3;\n",
       "            color:  #000000;\n",
       "        }    #T_e4f9bf14_67ab_11eb_8fa8_782b462923adrow4_col2 {\n",
       "            background-color:  #ecf8e8;\n",
       "            color:  #000000;\n",
       "        }    #T_e4f9bf14_67ab_11eb_8fa8_782b462923adrow4_col3 {\n",
       "            background-color:  #edf8ea;\n",
       "            color:  #000000;\n",
       "        }    #T_e4f9bf14_67ab_11eb_8fa8_782b462923adrow4_col4 {\n",
       "            background-color:  #eef8ea;\n",
       "            color:  #000000;\n",
       "        }    #T_e4f9bf14_67ab_11eb_8fa8_782b462923adrow4_col5 {\n",
       "            background-color:  #ecf8e8;\n",
       "            color:  #000000;\n",
       "        }    #T_e4f9bf14_67ab_11eb_8fa8_782b462923adrow4_col6 {\n",
       "            background-color:  #e8f6e4;\n",
       "            color:  #000000;\n",
       "        }    #T_e4f9bf14_67ab_11eb_8fa8_782b462923adrow5_col0 {\n",
       "            background-color:  #e1f3dc;\n",
       "            color:  #000000;\n",
       "        }    #T_e4f9bf14_67ab_11eb_8fa8_782b462923adrow5_col1 {\n",
       "            background-color:  #d1edcb;\n",
       "            color:  #000000;\n",
       "        }    #T_e4f9bf14_67ab_11eb_8fa8_782b462923adrow5_col2 {\n",
       "            background-color:  #ddf2d8;\n",
       "            color:  #000000;\n",
       "        }    #T_e4f9bf14_67ab_11eb_8fa8_782b462923adrow5_col3 {\n",
       "            background-color:  #dcf2d7;\n",
       "            color:  #000000;\n",
       "        }    #T_e4f9bf14_67ab_11eb_8fa8_782b462923adrow5_col4 {\n",
       "            background-color:  #d4eece;\n",
       "            color:  #000000;\n",
       "        }    #T_e4f9bf14_67ab_11eb_8fa8_782b462923adrow5_col5 {\n",
       "            background-color:  #e0f3db;\n",
       "            color:  #000000;\n",
       "        }    #T_e4f9bf14_67ab_11eb_8fa8_782b462923adrow5_col6 {\n",
       "            background-color:  #e3f4de;\n",
       "            color:  #000000;\n",
       "        }    #T_e4f9bf14_67ab_11eb_8fa8_782b462923adrow6_col0 {\n",
       "            background-color:  #e9f7e5;\n",
       "            color:  #000000;\n",
       "        }    #T_e4f9bf14_67ab_11eb_8fa8_782b462923adrow6_col1 {\n",
       "            background-color:  #e4f5df;\n",
       "            color:  #000000;\n",
       "        }    #T_e4f9bf14_67ab_11eb_8fa8_782b462923adrow6_col2 {\n",
       "            background-color:  #e9f7e5;\n",
       "            color:  #000000;\n",
       "        }    #T_e4f9bf14_67ab_11eb_8fa8_782b462923adrow6_col3 {\n",
       "            background-color:  #e5f5e1;\n",
       "            color:  #000000;\n",
       "        }    #T_e4f9bf14_67ab_11eb_8fa8_782b462923adrow6_col4 {\n",
       "            background-color:  #edf8ea;\n",
       "            color:  #000000;\n",
       "        }    #T_e4f9bf14_67ab_11eb_8fa8_782b462923adrow6_col5 {\n",
       "            background-color:  #ebf7e7;\n",
       "            color:  #000000;\n",
       "        }    #T_e4f9bf14_67ab_11eb_8fa8_782b462923adrow6_col6 {\n",
       "            background-color:  #e9f7e5;\n",
       "            color:  #000000;\n",
       "        }    #T_e4f9bf14_67ab_11eb_8fa8_782b462923adrow7_col0 {\n",
       "            background-color:  #00441b;\n",
       "            color:  #f1f1f1;\n",
       "        }    #T_e4f9bf14_67ab_11eb_8fa8_782b462923adrow7_col1 {\n",
       "            background-color:  #006529;\n",
       "            color:  #f1f1f1;\n",
       "        }    #T_e4f9bf14_67ab_11eb_8fa8_782b462923adrow7_col2 {\n",
       "            background-color:  #1c8540;\n",
       "            color:  #000000;\n",
       "        }    #T_e4f9bf14_67ab_11eb_8fa8_782b462923adrow7_col3 {\n",
       "            background-color:  #289049;\n",
       "            color:  #000000;\n",
       "        }    #T_e4f9bf14_67ab_11eb_8fa8_782b462923adrow7_col4 {\n",
       "            background-color:  #208843;\n",
       "            color:  #000000;\n",
       "        }    #T_e4f9bf14_67ab_11eb_8fa8_782b462923adrow7_col5 {\n",
       "            background-color:  #00441b;\n",
       "            color:  #f1f1f1;\n",
       "        }    #T_e4f9bf14_67ab_11eb_8fa8_782b462923adrow7_col6 {\n",
       "            background-color:  #00441b;\n",
       "            color:  #f1f1f1;\n",
       "        }    #T_e4f9bf14_67ab_11eb_8fa8_782b462923adrow8_col0 {\n",
       "            background-color:  #83cb82;\n",
       "            color:  #000000;\n",
       "        }    #T_e4f9bf14_67ab_11eb_8fa8_782b462923adrow8_col1 {\n",
       "            background-color:  #228a44;\n",
       "            color:  #000000;\n",
       "        }    #T_e4f9bf14_67ab_11eb_8fa8_782b462923adrow8_col2 {\n",
       "            background-color:  #63bc6e;\n",
       "            color:  #000000;\n",
       "        }    #T_e4f9bf14_67ab_11eb_8fa8_782b462923adrow8_col3 {\n",
       "            background-color:  #84cc83;\n",
       "            color:  #000000;\n",
       "        }    #T_e4f9bf14_67ab_11eb_8fa8_782b462923adrow8_col4 {\n",
       "            background-color:  #a0d99b;\n",
       "            color:  #000000;\n",
       "        }    #T_e4f9bf14_67ab_11eb_8fa8_782b462923adrow8_col5 {\n",
       "            background-color:  #b0dfaa;\n",
       "            color:  #000000;\n",
       "        }    #T_e4f9bf14_67ab_11eb_8fa8_782b462923adrow8_col6 {\n",
       "            background-color:  #84cc83;\n",
       "            color:  #000000;\n",
       "        }    #T_e4f9bf14_67ab_11eb_8fa8_782b462923adrow9_col0 {\n",
       "            background-color:  #d7efd1;\n",
       "            color:  #000000;\n",
       "        }    #T_e4f9bf14_67ab_11eb_8fa8_782b462923adrow9_col1 {\n",
       "            background-color:  #b7e2b1;\n",
       "            color:  #000000;\n",
       "        }    #T_e4f9bf14_67ab_11eb_8fa8_782b462923adrow9_col2 {\n",
       "            background-color:  #cdecc7;\n",
       "            color:  #000000;\n",
       "        }    #T_e4f9bf14_67ab_11eb_8fa8_782b462923adrow9_col3 {\n",
       "            background-color:  #c2e7bb;\n",
       "            color:  #000000;\n",
       "        }    #T_e4f9bf14_67ab_11eb_8fa8_782b462923adrow9_col4 {\n",
       "            background-color:  #b6e2af;\n",
       "            color:  #000000;\n",
       "        }    #T_e4f9bf14_67ab_11eb_8fa8_782b462923adrow9_col5 {\n",
       "            background-color:  #c4e8bd;\n",
       "            color:  #000000;\n",
       "        }    #T_e4f9bf14_67ab_11eb_8fa8_782b462923adrow9_col6 {\n",
       "            background-color:  #b2e0ac;\n",
       "            color:  #000000;\n",
       "        }    #T_e4f9bf14_67ab_11eb_8fa8_782b462923adrow10_col0 {\n",
       "            background-color:  #29914a;\n",
       "            color:  #000000;\n",
       "        }    #T_e4f9bf14_67ab_11eb_8fa8_782b462923adrow10_col1 {\n",
       "            background-color:  #00441b;\n",
       "            color:  #f1f1f1;\n",
       "        }    #T_e4f9bf14_67ab_11eb_8fa8_782b462923adrow10_col2 {\n",
       "            background-color:  #00441b;\n",
       "            color:  #f1f1f1;\n",
       "        }    #T_e4f9bf14_67ab_11eb_8fa8_782b462923adrow10_col3 {\n",
       "            background-color:  #00441b;\n",
       "            color:  #f1f1f1;\n",
       "        }    #T_e4f9bf14_67ab_11eb_8fa8_782b462923adrow10_col4 {\n",
       "            background-color:  #00441b;\n",
       "            color:  #f1f1f1;\n",
       "        }    #T_e4f9bf14_67ab_11eb_8fa8_782b462923adrow10_col5 {\n",
       "            background-color:  #00692a;\n",
       "            color:  #f1f1f1;\n",
       "        }    #T_e4f9bf14_67ab_11eb_8fa8_782b462923adrow10_col6 {\n",
       "            background-color:  #005321;\n",
       "            color:  #f1f1f1;\n",
       "        }</style><table id=\"T_e4f9bf14_67ab_11eb_8fa8_782b462923ad\" ><thead>    <tr>        <th class=\"blank level0\" ></th>        <th class=\"col_heading level0 col0\" >월</th>        <th class=\"col_heading level0 col1\" >화</th>        <th class=\"col_heading level0 col2\" >수</th>        <th class=\"col_heading level0 col3\" >목</th>        <th class=\"col_heading level0 col4\" >금</th>        <th class=\"col_heading level0 col5\" >토</th>        <th class=\"col_heading level0 col6\" >일</th>    </tr>    <tr>        <th class=\"index_name level0\" >월</th>        <th class=\"blank\" ></th>        <th class=\"blank\" ></th>        <th class=\"blank\" ></th>        <th class=\"blank\" ></th>        <th class=\"blank\" ></th>        <th class=\"blank\" ></th>        <th class=\"blank\" ></th>    </tr></thead><tbody>\n",
       "                <tr>\n",
       "                        <th id=\"T_e4f9bf14_67ab_11eb_8fa8_782b462923adlevel0_row0\" class=\"row_heading level0 row0\" >1</th>\n",
       "                        <td id=\"T_e4f9bf14_67ab_11eb_8fa8_782b462923adrow0_col0\" class=\"data row0 col0\" >0</td>\n",
       "                        <td id=\"T_e4f9bf14_67ab_11eb_8fa8_782b462923adrow0_col1\" class=\"data row0 col1\" >0</td>\n",
       "                        <td id=\"T_e4f9bf14_67ab_11eb_8fa8_782b462923adrow0_col2\" class=\"data row0 col2\" >0</td>\n",
       "                        <td id=\"T_e4f9bf14_67ab_11eb_8fa8_782b462923adrow0_col3\" class=\"data row0 col3\" >3</td>\n",
       "                        <td id=\"T_e4f9bf14_67ab_11eb_8fa8_782b462923adrow0_col4\" class=\"data row0 col4\" >4</td>\n",
       "                        <td id=\"T_e4f9bf14_67ab_11eb_8fa8_782b462923adrow0_col5\" class=\"data row0 col5\" >0</td>\n",
       "                        <td id=\"T_e4f9bf14_67ab_11eb_8fa8_782b462923adrow0_col6\" class=\"data row0 col6\" >0</td>\n",
       "            </tr>\n",
       "            <tr>\n",
       "                        <th id=\"T_e4f9bf14_67ab_11eb_8fa8_782b462923adlevel0_row1\" class=\"row_heading level0 row1\" >2</th>\n",
       "                        <td id=\"T_e4f9bf14_67ab_11eb_8fa8_782b462923adrow1_col0\" class=\"data row1 col0\" >4</td>\n",
       "                        <td id=\"T_e4f9bf14_67ab_11eb_8fa8_782b462923adrow1_col1\" class=\"data row1 col1\" >16</td>\n",
       "                        <td id=\"T_e4f9bf14_67ab_11eb_8fa8_782b462923adrow1_col2\" class=\"data row1 col2\" >14</td>\n",
       "                        <td id=\"T_e4f9bf14_67ab_11eb_8fa8_782b462923adrow1_col3\" class=\"data row1 col3\" >19</td>\n",
       "                        <td id=\"T_e4f9bf14_67ab_11eb_8fa8_782b462923adrow1_col4\" class=\"data row1 col4\" >11</td>\n",
       "                        <td id=\"T_e4f9bf14_67ab_11eb_8fa8_782b462923adrow1_col5\" class=\"data row1 col5\" >9</td>\n",
       "                        <td id=\"T_e4f9bf14_67ab_11eb_8fa8_782b462923adrow1_col6\" class=\"data row1 col6\" >7</td>\n",
       "            </tr>\n",
       "            <tr>\n",
       "                        <th id=\"T_e4f9bf14_67ab_11eb_8fa8_782b462923adlevel0_row2\" class=\"row_heading level0 row2\" >3</th>\n",
       "                        <td id=\"T_e4f9bf14_67ab_11eb_8fa8_782b462923adrow2_col0\" class=\"data row2 col0\" >69</td>\n",
       "                        <td id=\"T_e4f9bf14_67ab_11eb_8fa8_782b462923adrow2_col1\" class=\"data row2 col1\" >89</td>\n",
       "                        <td id=\"T_e4f9bf14_67ab_11eb_8fa8_782b462923adrow2_col2\" class=\"data row2 col2\" >46</td>\n",
       "                        <td id=\"T_e4f9bf14_67ab_11eb_8fa8_782b462923adrow2_col3\" class=\"data row2 col3\" >44</td>\n",
       "                        <td id=\"T_e4f9bf14_67ab_11eb_8fa8_782b462923adrow2_col4\" class=\"data row2 col4\" >48</td>\n",
       "                        <td id=\"T_e4f9bf14_67ab_11eb_8fa8_782b462923adrow2_col5\" class=\"data row2 col5\" >45</td>\n",
       "                        <td id=\"T_e4f9bf14_67ab_11eb_8fa8_782b462923adrow2_col6\" class=\"data row2 col6\" >50</td>\n",
       "            </tr>\n",
       "            <tr>\n",
       "                        <th id=\"T_e4f9bf14_67ab_11eb_8fa8_782b462923adlevel0_row3\" class=\"row_heading level0 row3\" >4</th>\n",
       "                        <td id=\"T_e4f9bf14_67ab_11eb_8fa8_782b462923adrow3_col0\" class=\"data row3 col0\" >16</td>\n",
       "                        <td id=\"T_e4f9bf14_67ab_11eb_8fa8_782b462923adrow3_col1\" class=\"data row3 col1\" >17</td>\n",
       "                        <td id=\"T_e4f9bf14_67ab_11eb_8fa8_782b462923adrow3_col2\" class=\"data row3 col2\" >28</td>\n",
       "                        <td id=\"T_e4f9bf14_67ab_11eb_8fa8_782b462923adrow3_col3\" class=\"data row3 col3\" >27</td>\n",
       "                        <td id=\"T_e4f9bf14_67ab_11eb_8fa8_782b462923adrow3_col4\" class=\"data row3 col4\" >26</td>\n",
       "                        <td id=\"T_e4f9bf14_67ab_11eb_8fa8_782b462923adrow3_col5\" class=\"data row3 col5\" >22</td>\n",
       "                        <td id=\"T_e4f9bf14_67ab_11eb_8fa8_782b462923adrow3_col6\" class=\"data row3 col6\" >20</td>\n",
       "            </tr>\n",
       "            <tr>\n",
       "                        <th id=\"T_e4f9bf14_67ab_11eb_8fa8_782b462923adlevel0_row4\" class=\"row_heading level0 row4\" >5</th>\n",
       "                        <td id=\"T_e4f9bf14_67ab_11eb_8fa8_782b462923adrow4_col0\" class=\"data row4 col0\" >27</td>\n",
       "                        <td id=\"T_e4f9bf14_67ab_11eb_8fa8_782b462923adrow4_col1\" class=\"data row4 col1\" >36</td>\n",
       "                        <td id=\"T_e4f9bf14_67ab_11eb_8fa8_782b462923adrow4_col2\" class=\"data row4 col2\" >34</td>\n",
       "                        <td id=\"T_e4f9bf14_67ab_11eb_8fa8_782b462923adrow4_col3\" class=\"data row4 col3\" >34</td>\n",
       "                        <td id=\"T_e4f9bf14_67ab_11eb_8fa8_782b462923adrow4_col4\" class=\"data row4 col4\" >32</td>\n",
       "                        <td id=\"T_e4f9bf14_67ab_11eb_8fa8_782b462923adrow4_col5\" class=\"data row4 col5\" >36</td>\n",
       "                        <td id=\"T_e4f9bf14_67ab_11eb_8fa8_782b462923adrow4_col6\" class=\"data row4 col6\" >29</td>\n",
       "            </tr>\n",
       "            <tr>\n",
       "                        <th id=\"T_e4f9bf14_67ab_11eb_8fa8_782b462923adlevel0_row5\" class=\"row_heading level0 row5\" >6</th>\n",
       "                        <td id=\"T_e4f9bf14_67ab_11eb_8fa8_782b462923adrow5_col0\" class=\"data row5 col0\" >55</td>\n",
       "                        <td id=\"T_e4f9bf14_67ab_11eb_8fa8_782b462923adrow5_col1\" class=\"data row5 col1\" >67</td>\n",
       "                        <td id=\"T_e4f9bf14_67ab_11eb_8fa8_782b462923adrow5_col2\" class=\"data row5 col2\" >66</td>\n",
       "                        <td id=\"T_e4f9bf14_67ab_11eb_8fa8_782b462923adrow5_col3\" class=\"data row5 col3\" >75</td>\n",
       "                        <td id=\"T_e4f9bf14_67ab_11eb_8fa8_782b462923adrow5_col4\" class=\"data row5 col4\" >90</td>\n",
       "                        <td id=\"T_e4f9bf14_67ab_11eb_8fa8_782b462923adrow5_col5\" class=\"data row5 col5\" >70</td>\n",
       "                        <td id=\"T_e4f9bf14_67ab_11eb_8fa8_782b462923adrow5_col6\" class=\"data row5 col6\" >37</td>\n",
       "            </tr>\n",
       "            <tr>\n",
       "                        <th id=\"T_e4f9bf14_67ab_11eb_8fa8_782b462923adlevel0_row6\" class=\"row_heading level0 row6\" >7</th>\n",
       "                        <td id=\"T_e4f9bf14_67ab_11eb_8fa8_782b462923adrow6_col0\" class=\"data row6 col0\" >37</td>\n",
       "                        <td id=\"T_e4f9bf14_67ab_11eb_8fa8_782b462923adrow6_col1\" class=\"data row6 col1\" >42</td>\n",
       "                        <td id=\"T_e4f9bf14_67ab_11eb_8fa8_782b462923adrow6_col2\" class=\"data row6 col2\" >42</td>\n",
       "                        <td id=\"T_e4f9bf14_67ab_11eb_8fa8_782b462923adrow6_col3\" class=\"data row6 col3\" >58</td>\n",
       "                        <td id=\"T_e4f9bf14_67ab_11eb_8fa8_782b462923adrow6_col4\" class=\"data row6 col4\" >34</td>\n",
       "                        <td id=\"T_e4f9bf14_67ab_11eb_8fa8_782b462923adrow6_col5\" class=\"data row6 col5\" >40</td>\n",
       "                        <td id=\"T_e4f9bf14_67ab_11eb_8fa8_782b462923adrow6_col6\" class=\"data row6 col6\" >28</td>\n",
       "            </tr>\n",
       "            <tr>\n",
       "                        <th id=\"T_e4f9bf14_67ab_11eb_8fa8_782b462923adlevel0_row7\" class=\"row_heading level0 row7\" >8</th>\n",
       "                        <td id=\"T_e4f9bf14_67ab_11eb_8fa8_782b462923adrow7_col0\" class=\"data row7 col0\" >387</td>\n",
       "                        <td id=\"T_e4f9bf14_67ab_11eb_8fa8_782b462923adrow7_col1\" class=\"data row7 col1\" >289</td>\n",
       "                        <td id=\"T_e4f9bf14_67ab_11eb_8fa8_782b462923adrow7_col2\" class=\"data row7 col2\" >327</td>\n",
       "                        <td id=\"T_e4f9bf14_67ab_11eb_8fa8_782b462923adrow7_col3\" class=\"data row7 col3\" >328</td>\n",
       "                        <td id=\"T_e4f9bf14_67ab_11eb_8fa8_782b462923adrow7_col4\" class=\"data row7 col4\" >336</td>\n",
       "                        <td id=\"T_e4f9bf14_67ab_11eb_8fa8_782b462923adrow7_col5\" class=\"data row7 col5\" >473</td>\n",
       "                        <td id=\"T_e4f9bf14_67ab_11eb_8fa8_782b462923adrow7_col6\" class=\"data row7 col6\" >277</td>\n",
       "            </tr>\n",
       "            <tr>\n",
       "                        <th id=\"T_e4f9bf14_67ab_11eb_8fa8_782b462923adlevel0_row8\" class=\"row_heading level0 row8\" >9</th>\n",
       "                        <td id=\"T_e4f9bf14_67ab_11eb_8fa8_782b462923adrow8_col0\" class=\"data row8 col0\" >177</td>\n",
       "                        <td id=\"T_e4f9bf14_67ab_11eb_8fa8_782b462923adrow8_col1\" class=\"data row8 col1\" >242</td>\n",
       "                        <td id=\"T_e4f9bf14_67ab_11eb_8fa8_782b462923adrow8_col2\" class=\"data row8 col2\" >228</td>\n",
       "                        <td id=\"T_e4f9bf14_67ab_11eb_8fa8_782b462923adrow8_col3\" class=\"data row8 col3\" >207</td>\n",
       "                        <td id=\"T_e4f9bf14_67ab_11eb_8fa8_782b462923adrow8_col4\" class=\"data row8 col4\" >169</td>\n",
       "                        <td id=\"T_e4f9bf14_67ab_11eb_8fa8_782b462923adrow8_col5\" class=\"data row8 col5\" >155</td>\n",
       "                        <td id=\"T_e4f9bf14_67ab_11eb_8fa8_782b462923adrow8_col6\" class=\"data row8 col6\" >126</td>\n",
       "            </tr>\n",
       "            <tr>\n",
       "                        <th id=\"T_e4f9bf14_67ab_11eb_8fa8_782b462923adlevel0_row9\" class=\"row_heading level0 row9\" >10</th>\n",
       "                        <td id=\"T_e4f9bf14_67ab_11eb_8fa8_782b462923adrow9_col0\" class=\"data row9 col0\" >72</td>\n",
       "                        <td id=\"T_e4f9bf14_67ab_11eb_8fa8_782b462923adrow9_col1\" class=\"data row9 col1\" >97</td>\n",
       "                        <td id=\"T_e4f9bf14_67ab_11eb_8fa8_782b462923adrow9_col2\" class=\"data row9 col2\" >94</td>\n",
       "                        <td id=\"T_e4f9bf14_67ab_11eb_8fa8_782b462923adrow9_col3\" class=\"data row9 col3\" >123</td>\n",
       "                        <td id=\"T_e4f9bf14_67ab_11eb_8fa8_782b462923adrow9_col4\" class=\"data row9 col4\" >137</td>\n",
       "                        <td id=\"T_e4f9bf14_67ab_11eb_8fa8_782b462923adrow9_col5\" class=\"data row9 col5\" >122</td>\n",
       "                        <td id=\"T_e4f9bf14_67ab_11eb_8fa8_782b462923adrow9_col6\" class=\"data row9 col6\" >88</td>\n",
       "            </tr>\n",
       "            <tr>\n",
       "                        <th id=\"T_e4f9bf14_67ab_11eb_8fa8_782b462923adlevel0_row10\" class=\"row_heading level0 row10\" >11</th>\n",
       "                        <td id=\"T_e4f9bf14_67ab_11eb_8fa8_782b462923adrow10_col0\" class=\"data row10 col0\" >280</td>\n",
       "                        <td id=\"T_e4f9bf14_67ab_11eb_8fa8_782b462923adrow10_col1\" class=\"data row10 col1\" >322</td>\n",
       "                        <td id=\"T_e4f9bf14_67ab_11eb_8fa8_782b462923adrow10_col2\" class=\"data row10 col2\" >422</td>\n",
       "                        <td id=\"T_e4f9bf14_67ab_11eb_8fa8_782b462923adrow10_col3\" class=\"data row10 col3\" >450</td>\n",
       "                        <td id=\"T_e4f9bf14_67ab_11eb_8fa8_782b462923adrow10_col4\" class=\"data row10 col4\" >440</td>\n",
       "                        <td id=\"T_e4f9bf14_67ab_11eb_8fa8_782b462923adrow10_col5\" class=\"data row10 col5\" >418</td>\n",
       "                        <td id=\"T_e4f9bf14_67ab_11eb_8fa8_782b462923adrow10_col6\" class=\"data row10 col6\" >263</td>\n",
       "            </tr>\n",
       "    </tbody></table>"
      ],
      "text/plain": [
       "<pandas.io.formats.style.Styler at 0x14eb5c3f850>"
      ]
     },
     "execution_count": 162,
     "metadata": {},
     "output_type": "execute_result"
    }
   ],
   "source": [
    "# style.background_gradient 로 색상을 표현합니다.\n",
    "all_day_week.astype(int).style.background_gradient(cmap=\"Greens\")"
   ]
  },
  {
   "cell_type": "code",
   "execution_count": 163,
   "metadata": {},
   "outputs": [
    {
     "data": {
      "text/html": [
       "<style  type=\"text/css\" >\n",
       "    #T_659ae946_67ac_11eb_ad64_782b462923adrow0_col0 {\n",
       "            background-color:  #f7fcf5;\n",
       "            color:  #000000;\n",
       "        }    #T_659ae946_67ac_11eb_ad64_782b462923adrow0_col1 {\n",
       "            background-color:  #f7fcf5;\n",
       "            color:  #000000;\n",
       "        }    #T_659ae946_67ac_11eb_ad64_782b462923adrow0_col2 {\n",
       "            background-color:  #5db96b;\n",
       "            color:  #000000;\n",
       "        }    #T_659ae946_67ac_11eb_ad64_782b462923adrow0_col3 {\n",
       "            background-color:  #f7fcf5;\n",
       "            color:  #000000;\n",
       "        }    #T_659ae946_67ac_11eb_ad64_782b462923adrow0_col4 {\n",
       "            background-color:  #f7fcf5;\n",
       "            color:  #000000;\n",
       "        }    #T_659ae946_67ac_11eb_ad64_782b462923adrow0_col5 {\n",
       "            background-color:  #acdea6;\n",
       "            color:  #000000;\n",
       "        }    #T_659ae946_67ac_11eb_ad64_782b462923adrow0_col6 {\n",
       "            background-color:  #b8e3b2;\n",
       "            color:  #000000;\n",
       "        }    #T_659ae946_67ac_11eb_ad64_782b462923adrow0_col7 {\n",
       "            background-color:  #5bb86a;\n",
       "            color:  #000000;\n",
       "        }    #T_659ae946_67ac_11eb_ad64_782b462923adrow0_col8 {\n",
       "            background-color:  #8ace88;\n",
       "            color:  #000000;\n",
       "        }    #T_659ae946_67ac_11eb_ad64_782b462923adrow0_col9 {\n",
       "            background-color:  #f7fcf5;\n",
       "            color:  #000000;\n",
       "        }    #T_659ae946_67ac_11eb_ad64_782b462923adrow0_col10 {\n",
       "            background-color:  #eaf7e6;\n",
       "            color:  #000000;\n",
       "        }    #T_659ae946_67ac_11eb_ad64_782b462923adrow1_col0 {\n",
       "            background-color:  #f7fcf5;\n",
       "            color:  #000000;\n",
       "        }    #T_659ae946_67ac_11eb_ad64_782b462923adrow1_col1 {\n",
       "            background-color:  #157f3b;\n",
       "            color:  #f1f1f1;\n",
       "        }    #T_659ae946_67ac_11eb_ad64_782b462923adrow1_col2 {\n",
       "            background-color:  #00441b;\n",
       "            color:  #f1f1f1;\n",
       "        }    #T_659ae946_67ac_11eb_ad64_782b462923adrow1_col3 {\n",
       "            background-color:  #ebf7e7;\n",
       "            color:  #000000;\n",
       "        }    #T_659ae946_67ac_11eb_ad64_782b462923adrow1_col4 {\n",
       "            background-color:  #00441b;\n",
       "            color:  #f1f1f1;\n",
       "        }    #T_659ae946_67ac_11eb_ad64_782b462923adrow1_col5 {\n",
       "            background-color:  #5ab769;\n",
       "            color:  #000000;\n",
       "        }    #T_659ae946_67ac_11eb_ad64_782b462923adrow1_col6 {\n",
       "            background-color:  #80ca80;\n",
       "            color:  #000000;\n",
       "        }    #T_659ae946_67ac_11eb_ad64_782b462923adrow1_col7 {\n",
       "            background-color:  #eff9eb;\n",
       "            color:  #000000;\n",
       "        }    #T_659ae946_67ac_11eb_ad64_782b462923adrow1_col8 {\n",
       "            background-color:  #00441b;\n",
       "            color:  #f1f1f1;\n",
       "        }    #T_659ae946_67ac_11eb_ad64_782b462923adrow1_col9 {\n",
       "            background-color:  #9ed798;\n",
       "            color:  #000000;\n",
       "        }    #T_659ae946_67ac_11eb_ad64_782b462923adrow1_col10 {\n",
       "            background-color:  #b4e1ad;\n",
       "            color:  #000000;\n",
       "        }    #T_659ae946_67ac_11eb_ad64_782b462923adrow2_col0 {\n",
       "            background-color:  #f7fcf5;\n",
       "            color:  #000000;\n",
       "        }    #T_659ae946_67ac_11eb_ad64_782b462923adrow2_col1 {\n",
       "            background-color:  #37a055;\n",
       "            color:  #000000;\n",
       "        }    #T_659ae946_67ac_11eb_ad64_782b462923adrow2_col2 {\n",
       "            background-color:  #f1faee;\n",
       "            color:  #000000;\n",
       "        }    #T_659ae946_67ac_11eb_ad64_782b462923adrow2_col3 {\n",
       "            background-color:  #00441b;\n",
       "            color:  #f1f1f1;\n",
       "        }    #T_659ae946_67ac_11eb_ad64_782b462923adrow2_col4 {\n",
       "            background-color:  #1a843f;\n",
       "            color:  #000000;\n",
       "        }    #T_659ae946_67ac_11eb_ad64_782b462923adrow2_col5 {\n",
       "            background-color:  #60ba6c;\n",
       "            color:  #000000;\n",
       "        }    #T_659ae946_67ac_11eb_ad64_782b462923adrow2_col6 {\n",
       "            background-color:  #80ca80;\n",
       "            color:  #000000;\n",
       "        }    #T_659ae946_67ac_11eb_ad64_782b462923adrow2_col7 {\n",
       "            background-color:  #c6e8bf;\n",
       "            color:  #000000;\n",
       "        }    #T_659ae946_67ac_11eb_ad64_782b462923adrow2_col8 {\n",
       "            background-color:  #006b2b;\n",
       "            color:  #f1f1f1;\n",
       "        }    #T_659ae946_67ac_11eb_ad64_782b462923adrow2_col9 {\n",
       "            background-color:  #acdea6;\n",
       "            color:  #000000;\n",
       "        }    #T_659ae946_67ac_11eb_ad64_782b462923adrow2_col10 {\n",
       "            background-color:  #077331;\n",
       "            color:  #f1f1f1;\n",
       "        }    #T_659ae946_67ac_11eb_ad64_782b462923adrow3_col0 {\n",
       "            background-color:  #228a44;\n",
       "            color:  #000000;\n",
       "        }    #T_659ae946_67ac_11eb_ad64_782b462923adrow3_col1 {\n",
       "            background-color:  #00441b;\n",
       "            color:  #f1f1f1;\n",
       "        }    #T_659ae946_67ac_11eb_ad64_782b462923adrow3_col2 {\n",
       "            background-color:  #f7fcf5;\n",
       "            color:  #000000;\n",
       "        }    #T_659ae946_67ac_11eb_ad64_782b462923adrow3_col3 {\n",
       "            background-color:  #005f26;\n",
       "            color:  #f1f1f1;\n",
       "        }    #T_659ae946_67ac_11eb_ad64_782b462923adrow3_col4 {\n",
       "            background-color:  #1a843f;\n",
       "            color:  #000000;\n",
       "        }    #T_659ae946_67ac_11eb_ad64_782b462923adrow3_col5 {\n",
       "            background-color:  #2b934b;\n",
       "            color:  #000000;\n",
       "        }    #T_659ae946_67ac_11eb_ad64_782b462923adrow3_col6 {\n",
       "            background-color:  #00441b;\n",
       "            color:  #f1f1f1;\n",
       "        }    #T_659ae946_67ac_11eb_ad64_782b462923adrow3_col7 {\n",
       "            background-color:  #c4e8bd;\n",
       "            color:  #000000;\n",
       "        }    #T_659ae946_67ac_11eb_ad64_782b462923adrow3_col8 {\n",
       "            background-color:  #2f984f;\n",
       "            color:  #000000;\n",
       "        }    #T_659ae946_67ac_11eb_ad64_782b462923adrow3_col9 {\n",
       "            background-color:  #19833e;\n",
       "            color:  #f1f1f1;\n",
       "        }    #T_659ae946_67ac_11eb_ad64_782b462923adrow3_col10 {\n",
       "            background-color:  #00441b;\n",
       "            color:  #f1f1f1;\n",
       "        }    #T_659ae946_67ac_11eb_ad64_782b462923adrow4_col0 {\n",
       "            background-color:  #00441b;\n",
       "            color:  #f1f1f1;\n",
       "        }    #T_659ae946_67ac_11eb_ad64_782b462923adrow4_col1 {\n",
       "            background-color:  #80ca80;\n",
       "            color:  #000000;\n",
       "        }    #T_659ae946_67ac_11eb_ad64_782b462923adrow4_col2 {\n",
       "            background-color:  #ebf7e7;\n",
       "            color:  #000000;\n",
       "        }    #T_659ae946_67ac_11eb_ad64_782b462923adrow4_col3 {\n",
       "            background-color:  #0b7734;\n",
       "            color:  #f1f1f1;\n",
       "        }    #T_659ae946_67ac_11eb_ad64_782b462923adrow4_col4 {\n",
       "            background-color:  #5db96b;\n",
       "            color:  #000000;\n",
       "        }    #T_659ae946_67ac_11eb_ad64_782b462923adrow4_col5 {\n",
       "            background-color:  #00441b;\n",
       "            color:  #f1f1f1;\n",
       "        }    #T_659ae946_67ac_11eb_ad64_782b462923adrow4_col6 {\n",
       "            background-color:  #d3eecd;\n",
       "            color:  #000000;\n",
       "        }    #T_659ae946_67ac_11eb_ad64_782b462923adrow4_col7 {\n",
       "            background-color:  #b7e2b1;\n",
       "            color:  #000000;\n",
       "        }    #T_659ae946_67ac_11eb_ad64_782b462923adrow4_col8 {\n",
       "            background-color:  #a3da9d;\n",
       "            color:  #000000;\n",
       "        }    #T_659ae946_67ac_11eb_ad64_782b462923adrow4_col9 {\n",
       "            background-color:  #00441b;\n",
       "            color:  #f1f1f1;\n",
       "        }    #T_659ae946_67ac_11eb_ad64_782b462923adrow4_col10 {\n",
       "            background-color:  #005522;\n",
       "            color:  #f1f1f1;\n",
       "        }    #T_659ae946_67ac_11eb_ad64_782b462923adrow5_col0 {\n",
       "            background-color:  #f7fcf5;\n",
       "            color:  #000000;\n",
       "        }    #T_659ae946_67ac_11eb_ad64_782b462923adrow5_col1 {\n",
       "            background-color:  #aedea7;\n",
       "            color:  #000000;\n",
       "        }    #T_659ae946_67ac_11eb_ad64_782b462923adrow5_col2 {\n",
       "            background-color:  #f4fbf2;\n",
       "            color:  #000000;\n",
       "        }    #T_659ae946_67ac_11eb_ad64_782b462923adrow5_col3 {\n",
       "            background-color:  #73c476;\n",
       "            color:  #000000;\n",
       "        }    #T_659ae946_67ac_11eb_ad64_782b462923adrow5_col4 {\n",
       "            background-color:  #00441b;\n",
       "            color:  #f1f1f1;\n",
       "        }    #T_659ae946_67ac_11eb_ad64_782b462923adrow5_col5 {\n",
       "            background-color:  #42ab5d;\n",
       "            color:  #000000;\n",
       "        }    #T_659ae946_67ac_11eb_ad64_782b462923adrow5_col6 {\n",
       "            background-color:  #98d594;\n",
       "            color:  #000000;\n",
       "        }    #T_659ae946_67ac_11eb_ad64_782b462923adrow5_col7 {\n",
       "            background-color:  #00441b;\n",
       "            color:  #f1f1f1;\n",
       "        }    #T_659ae946_67ac_11eb_ad64_782b462923adrow5_col8 {\n",
       "            background-color:  #c7e9c0;\n",
       "            color:  #000000;\n",
       "        }    #T_659ae946_67ac_11eb_ad64_782b462923adrow5_col9 {\n",
       "            background-color:  #1e8741;\n",
       "            color:  #000000;\n",
       "        }    #T_659ae946_67ac_11eb_ad64_782b462923adrow5_col10 {\n",
       "            background-color:  #0c7735;\n",
       "            color:  #f1f1f1;\n",
       "        }    #T_659ae946_67ac_11eb_ad64_782b462923adrow6_col0 {\n",
       "            background-color:  #f7fcf5;\n",
       "            color:  #000000;\n",
       "        }    #T_659ae946_67ac_11eb_ad64_782b462923adrow6_col1 {\n",
       "            background-color:  #d3eecd;\n",
       "            color:  #000000;\n",
       "        }    #T_659ae946_67ac_11eb_ad64_782b462923adrow6_col2 {\n",
       "            background-color:  #e3f4de;\n",
       "            color:  #000000;\n",
       "        }    #T_659ae946_67ac_11eb_ad64_782b462923adrow6_col3 {\n",
       "            background-color:  #aedea7;\n",
       "            color:  #000000;\n",
       "        }    #T_659ae946_67ac_11eb_ad64_782b462923adrow6_col4 {\n",
       "            background-color:  #ceecc8;\n",
       "            color:  #000000;\n",
       "        }    #T_659ae946_67ac_11eb_ad64_782b462923adrow6_col5 {\n",
       "            background-color:  #f7fcf5;\n",
       "            color:  #000000;\n",
       "        }    #T_659ae946_67ac_11eb_ad64_782b462923adrow6_col6 {\n",
       "            background-color:  #f7fcf5;\n",
       "            color:  #000000;\n",
       "        }    #T_659ae946_67ac_11eb_ad64_782b462923adrow6_col7 {\n",
       "            background-color:  #f7fcf5;\n",
       "            color:  #000000;\n",
       "        }    #T_659ae946_67ac_11eb_ad64_782b462923adrow6_col8 {\n",
       "            background-color:  #f7fcf5;\n",
       "            color:  #000000;\n",
       "        }    #T_659ae946_67ac_11eb_ad64_782b462923adrow6_col9 {\n",
       "            background-color:  #c8e9c1;\n",
       "            color:  #000000;\n",
       "        }    #T_659ae946_67ac_11eb_ad64_782b462923adrow6_col10 {\n",
       "            background-color:  #f7fcf5;\n",
       "            color:  #000000;\n",
       "        }</style><table id=\"T_659ae946_67ac_11eb_ad64_782b462923ad\" ><thead>    <tr>        <th class=\"index_name level0\" >월</th>        <th class=\"col_heading level0 col0\" >1</th>        <th class=\"col_heading level0 col1\" >2</th>        <th class=\"col_heading level0 col2\" >3</th>        <th class=\"col_heading level0 col3\" >4</th>        <th class=\"col_heading level0 col4\" >5</th>        <th class=\"col_heading level0 col5\" >6</th>        <th class=\"col_heading level0 col6\" >7</th>        <th class=\"col_heading level0 col7\" >8</th>        <th class=\"col_heading level0 col8\" >9</th>        <th class=\"col_heading level0 col9\" >10</th>        <th class=\"col_heading level0 col10\" >11</th>    </tr></thead><tbody>\n",
       "                <tr>\n",
       "                        <th id=\"T_659ae946_67ac_11eb_ad64_782b462923adlevel0_row0\" class=\"row_heading level0 row0\" >월</th>\n",
       "                        <td id=\"T_659ae946_67ac_11eb_ad64_782b462923adrow0_col0\" class=\"data row0 col0\" >0</td>\n",
       "                        <td id=\"T_659ae946_67ac_11eb_ad64_782b462923adrow0_col1\" class=\"data row0 col1\" >4</td>\n",
       "                        <td id=\"T_659ae946_67ac_11eb_ad64_782b462923adrow0_col2\" class=\"data row0 col2\" >69</td>\n",
       "                        <td id=\"T_659ae946_67ac_11eb_ad64_782b462923adrow0_col3\" class=\"data row0 col3\" >16</td>\n",
       "                        <td id=\"T_659ae946_67ac_11eb_ad64_782b462923adrow0_col4\" class=\"data row0 col4\" >27</td>\n",
       "                        <td id=\"T_659ae946_67ac_11eb_ad64_782b462923adrow0_col5\" class=\"data row0 col5\" >55</td>\n",
       "                        <td id=\"T_659ae946_67ac_11eb_ad64_782b462923adrow0_col6\" class=\"data row0 col6\" >37</td>\n",
       "                        <td id=\"T_659ae946_67ac_11eb_ad64_782b462923adrow0_col7\" class=\"data row0 col7\" >387</td>\n",
       "                        <td id=\"T_659ae946_67ac_11eb_ad64_782b462923adrow0_col8\" class=\"data row0 col8\" >177</td>\n",
       "                        <td id=\"T_659ae946_67ac_11eb_ad64_782b462923adrow0_col9\" class=\"data row0 col9\" >72</td>\n",
       "                        <td id=\"T_659ae946_67ac_11eb_ad64_782b462923adrow0_col10\" class=\"data row0 col10\" >280</td>\n",
       "            </tr>\n",
       "            <tr>\n",
       "                        <th id=\"T_659ae946_67ac_11eb_ad64_782b462923adlevel0_row1\" class=\"row_heading level0 row1\" >화</th>\n",
       "                        <td id=\"T_659ae946_67ac_11eb_ad64_782b462923adrow1_col0\" class=\"data row1 col0\" >0</td>\n",
       "                        <td id=\"T_659ae946_67ac_11eb_ad64_782b462923adrow1_col1\" class=\"data row1 col1\" >16</td>\n",
       "                        <td id=\"T_659ae946_67ac_11eb_ad64_782b462923adrow1_col2\" class=\"data row1 col2\" >89</td>\n",
       "                        <td id=\"T_659ae946_67ac_11eb_ad64_782b462923adrow1_col3\" class=\"data row1 col3\" >17</td>\n",
       "                        <td id=\"T_659ae946_67ac_11eb_ad64_782b462923adrow1_col4\" class=\"data row1 col4\" >36</td>\n",
       "                        <td id=\"T_659ae946_67ac_11eb_ad64_782b462923adrow1_col5\" class=\"data row1 col5\" >67</td>\n",
       "                        <td id=\"T_659ae946_67ac_11eb_ad64_782b462923adrow1_col6\" class=\"data row1 col6\" >42</td>\n",
       "                        <td id=\"T_659ae946_67ac_11eb_ad64_782b462923adrow1_col7\" class=\"data row1 col7\" >289</td>\n",
       "                        <td id=\"T_659ae946_67ac_11eb_ad64_782b462923adrow1_col8\" class=\"data row1 col8\" >242</td>\n",
       "                        <td id=\"T_659ae946_67ac_11eb_ad64_782b462923adrow1_col9\" class=\"data row1 col9\" >97</td>\n",
       "                        <td id=\"T_659ae946_67ac_11eb_ad64_782b462923adrow1_col10\" class=\"data row1 col10\" >322</td>\n",
       "            </tr>\n",
       "            <tr>\n",
       "                        <th id=\"T_659ae946_67ac_11eb_ad64_782b462923adlevel0_row2\" class=\"row_heading level0 row2\" >수</th>\n",
       "                        <td id=\"T_659ae946_67ac_11eb_ad64_782b462923adrow2_col0\" class=\"data row2 col0\" >0</td>\n",
       "                        <td id=\"T_659ae946_67ac_11eb_ad64_782b462923adrow2_col1\" class=\"data row2 col1\" >14</td>\n",
       "                        <td id=\"T_659ae946_67ac_11eb_ad64_782b462923adrow2_col2\" class=\"data row2 col2\" >46</td>\n",
       "                        <td id=\"T_659ae946_67ac_11eb_ad64_782b462923adrow2_col3\" class=\"data row2 col3\" >28</td>\n",
       "                        <td id=\"T_659ae946_67ac_11eb_ad64_782b462923adrow2_col4\" class=\"data row2 col4\" >34</td>\n",
       "                        <td id=\"T_659ae946_67ac_11eb_ad64_782b462923adrow2_col5\" class=\"data row2 col5\" >66</td>\n",
       "                        <td id=\"T_659ae946_67ac_11eb_ad64_782b462923adrow2_col6\" class=\"data row2 col6\" >42</td>\n",
       "                        <td id=\"T_659ae946_67ac_11eb_ad64_782b462923adrow2_col7\" class=\"data row2 col7\" >327</td>\n",
       "                        <td id=\"T_659ae946_67ac_11eb_ad64_782b462923adrow2_col8\" class=\"data row2 col8\" >228</td>\n",
       "                        <td id=\"T_659ae946_67ac_11eb_ad64_782b462923adrow2_col9\" class=\"data row2 col9\" >94</td>\n",
       "                        <td id=\"T_659ae946_67ac_11eb_ad64_782b462923adrow2_col10\" class=\"data row2 col10\" >422</td>\n",
       "            </tr>\n",
       "            <tr>\n",
       "                        <th id=\"T_659ae946_67ac_11eb_ad64_782b462923adlevel0_row3\" class=\"row_heading level0 row3\" >목</th>\n",
       "                        <td id=\"T_659ae946_67ac_11eb_ad64_782b462923adrow3_col0\" class=\"data row3 col0\" >3</td>\n",
       "                        <td id=\"T_659ae946_67ac_11eb_ad64_782b462923adrow3_col1\" class=\"data row3 col1\" >19</td>\n",
       "                        <td id=\"T_659ae946_67ac_11eb_ad64_782b462923adrow3_col2\" class=\"data row3 col2\" >44</td>\n",
       "                        <td id=\"T_659ae946_67ac_11eb_ad64_782b462923adrow3_col3\" class=\"data row3 col3\" >27</td>\n",
       "                        <td id=\"T_659ae946_67ac_11eb_ad64_782b462923adrow3_col4\" class=\"data row3 col4\" >34</td>\n",
       "                        <td id=\"T_659ae946_67ac_11eb_ad64_782b462923adrow3_col5\" class=\"data row3 col5\" >75</td>\n",
       "                        <td id=\"T_659ae946_67ac_11eb_ad64_782b462923adrow3_col6\" class=\"data row3 col6\" >58</td>\n",
       "                        <td id=\"T_659ae946_67ac_11eb_ad64_782b462923adrow3_col7\" class=\"data row3 col7\" >328</td>\n",
       "                        <td id=\"T_659ae946_67ac_11eb_ad64_782b462923adrow3_col8\" class=\"data row3 col8\" >207</td>\n",
       "                        <td id=\"T_659ae946_67ac_11eb_ad64_782b462923adrow3_col9\" class=\"data row3 col9\" >123</td>\n",
       "                        <td id=\"T_659ae946_67ac_11eb_ad64_782b462923adrow3_col10\" class=\"data row3 col10\" >450</td>\n",
       "            </tr>\n",
       "            <tr>\n",
       "                        <th id=\"T_659ae946_67ac_11eb_ad64_782b462923adlevel0_row4\" class=\"row_heading level0 row4\" >금</th>\n",
       "                        <td id=\"T_659ae946_67ac_11eb_ad64_782b462923adrow4_col0\" class=\"data row4 col0\" >4</td>\n",
       "                        <td id=\"T_659ae946_67ac_11eb_ad64_782b462923adrow4_col1\" class=\"data row4 col1\" >11</td>\n",
       "                        <td id=\"T_659ae946_67ac_11eb_ad64_782b462923adrow4_col2\" class=\"data row4 col2\" >48</td>\n",
       "                        <td id=\"T_659ae946_67ac_11eb_ad64_782b462923adrow4_col3\" class=\"data row4 col3\" >26</td>\n",
       "                        <td id=\"T_659ae946_67ac_11eb_ad64_782b462923adrow4_col4\" class=\"data row4 col4\" >32</td>\n",
       "                        <td id=\"T_659ae946_67ac_11eb_ad64_782b462923adrow4_col5\" class=\"data row4 col5\" >90</td>\n",
       "                        <td id=\"T_659ae946_67ac_11eb_ad64_782b462923adrow4_col6\" class=\"data row4 col6\" >34</td>\n",
       "                        <td id=\"T_659ae946_67ac_11eb_ad64_782b462923adrow4_col7\" class=\"data row4 col7\" >336</td>\n",
       "                        <td id=\"T_659ae946_67ac_11eb_ad64_782b462923adrow4_col8\" class=\"data row4 col8\" >169</td>\n",
       "                        <td id=\"T_659ae946_67ac_11eb_ad64_782b462923adrow4_col9\" class=\"data row4 col9\" >137</td>\n",
       "                        <td id=\"T_659ae946_67ac_11eb_ad64_782b462923adrow4_col10\" class=\"data row4 col10\" >440</td>\n",
       "            </tr>\n",
       "            <tr>\n",
       "                        <th id=\"T_659ae946_67ac_11eb_ad64_782b462923adlevel0_row5\" class=\"row_heading level0 row5\" >토</th>\n",
       "                        <td id=\"T_659ae946_67ac_11eb_ad64_782b462923adrow5_col0\" class=\"data row5 col0\" >0</td>\n",
       "                        <td id=\"T_659ae946_67ac_11eb_ad64_782b462923adrow5_col1\" class=\"data row5 col1\" >9</td>\n",
       "                        <td id=\"T_659ae946_67ac_11eb_ad64_782b462923adrow5_col2\" class=\"data row5 col2\" >45</td>\n",
       "                        <td id=\"T_659ae946_67ac_11eb_ad64_782b462923adrow5_col3\" class=\"data row5 col3\" >22</td>\n",
       "                        <td id=\"T_659ae946_67ac_11eb_ad64_782b462923adrow5_col4\" class=\"data row5 col4\" >36</td>\n",
       "                        <td id=\"T_659ae946_67ac_11eb_ad64_782b462923adrow5_col5\" class=\"data row5 col5\" >70</td>\n",
       "                        <td id=\"T_659ae946_67ac_11eb_ad64_782b462923adrow5_col6\" class=\"data row5 col6\" >40</td>\n",
       "                        <td id=\"T_659ae946_67ac_11eb_ad64_782b462923adrow5_col7\" class=\"data row5 col7\" >473</td>\n",
       "                        <td id=\"T_659ae946_67ac_11eb_ad64_782b462923adrow5_col8\" class=\"data row5 col8\" >155</td>\n",
       "                        <td id=\"T_659ae946_67ac_11eb_ad64_782b462923adrow5_col9\" class=\"data row5 col9\" >122</td>\n",
       "                        <td id=\"T_659ae946_67ac_11eb_ad64_782b462923adrow5_col10\" class=\"data row5 col10\" >418</td>\n",
       "            </tr>\n",
       "            <tr>\n",
       "                        <th id=\"T_659ae946_67ac_11eb_ad64_782b462923adlevel0_row6\" class=\"row_heading level0 row6\" >일</th>\n",
       "                        <td id=\"T_659ae946_67ac_11eb_ad64_782b462923adrow6_col0\" class=\"data row6 col0\" >0</td>\n",
       "                        <td id=\"T_659ae946_67ac_11eb_ad64_782b462923adrow6_col1\" class=\"data row6 col1\" >7</td>\n",
       "                        <td id=\"T_659ae946_67ac_11eb_ad64_782b462923adrow6_col2\" class=\"data row6 col2\" >50</td>\n",
       "                        <td id=\"T_659ae946_67ac_11eb_ad64_782b462923adrow6_col3\" class=\"data row6 col3\" >20</td>\n",
       "                        <td id=\"T_659ae946_67ac_11eb_ad64_782b462923adrow6_col4\" class=\"data row6 col4\" >29</td>\n",
       "                        <td id=\"T_659ae946_67ac_11eb_ad64_782b462923adrow6_col5\" class=\"data row6 col5\" >37</td>\n",
       "                        <td id=\"T_659ae946_67ac_11eb_ad64_782b462923adrow6_col6\" class=\"data row6 col6\" >28</td>\n",
       "                        <td id=\"T_659ae946_67ac_11eb_ad64_782b462923adrow6_col7\" class=\"data row6 col7\" >277</td>\n",
       "                        <td id=\"T_659ae946_67ac_11eb_ad64_782b462923adrow6_col8\" class=\"data row6 col8\" >126</td>\n",
       "                        <td id=\"T_659ae946_67ac_11eb_ad64_782b462923adrow6_col9\" class=\"data row6 col9\" >88</td>\n",
       "                        <td id=\"T_659ae946_67ac_11eb_ad64_782b462923adrow6_col10\" class=\"data row6 col10\" >263</td>\n",
       "            </tr>\n",
       "    </tbody></table>"
      ],
      "text/plain": [
       "<pandas.io.formats.style.Styler at 0x14eb5c3faf0>"
      ]
     },
     "execution_count": 163,
     "metadata": {},
     "output_type": "execute_result"
    }
   ],
   "source": [
    "# 행과 열을 바꿈  \"\"T\"\"\n",
    "all_day_week.astype(int).T.style.background_gradient(cmap=\"Greens\")"
   ]
  },
  {
   "cell_type": "markdown",
   "metadata": {},
   "source": [
    "## 거주지별 확진자"
   ]
  },
  {
   "cell_type": "code",
   "execution_count": 175,
   "metadata": {
    "collapsed": true
   },
   "outputs": [
    {
     "data": {
      "text/plain": [
       "송파구     599\n",
       "강서구     573\n",
       "관악구     532\n",
       "강남구     494\n",
       "타시도     477\n",
       "노원구     458\n",
       "성북구     453\n",
       "서초구     450\n",
       "동작구     382\n",
       "은평구     351\n",
       "도봉구     308\n",
       "동대문구    308\n",
       "양천구     295\n",
       "영등포구    289\n",
       "중랑구     283\n",
       "마포구     282\n",
       "강동구     270\n",
       "구로구     269\n",
       "서대문구    251\n",
       "성동구     220\n",
       "용산구     219\n",
       "강북구     188\n",
       "광진구     178\n",
       "기타      172\n",
       "종로구     125\n",
       "금천구     117\n",
       "중구      107\n",
       "경기도       1\n",
       "종랑구       1\n",
       "Name: 거주지, dtype: int64"
      ]
     },
     "execution_count": 175,
     "metadata": {},
     "output_type": "execute_result"
    }
   ],
   "source": [
    "# 거주지(구별) 확진자의 빈도수를 구하고 시각화 합니다.\n",
    "# gu_count\n",
    "gu_count = df[\"거주지\"].value_counts()\n",
    "gu_count"
   ]
  },
  {
   "cell_type": "code",
   "execution_count": 177,
   "metadata": {},
   "outputs": [
    {
     "data": {
      "text/plain": [
       "<matplotlib.axes._subplots.AxesSubplot at 0x14eb7a3d7c0>"
      ]
     },
     "execution_count": 177,
     "metadata": {},
     "output_type": "execute_result"
    },
    {
     "data": {
      "image/png": "[encoded data removed]",
      "text/plain": [
       "<Figure size 1080x288 with 1 Axes>"
      ]
     },
     "metadata": {
      "image/png": {
       "height": 264,
       "width": 898
      },
      "needs_background": "light"
     },
     "output_type": "display_data"
    }
   ],
   "source": [
    "# 구별 확진자의 수를 시각화 합니다.\n",
    "# bar뒤에 h 붙혀주면 그래프를 눕워서 보여줌\n",
    "#grid는 그래프안에 선 그어줌\n",
    "gu_count.sort_values().plot.barh(title=\"구별 확진자 수\", figsize=(15,4), grid=True)"
   ]
  },
  {
   "cell_type": "code",
   "execution_count": 178,
   "metadata": {},
   "outputs": [
    {
     "data": {
      "text/plain": [
       "Index(['송파구', '강서구', '관악구', '강남구', '타시도', '노원구', '성북구', '서초구', '동작구', '은평구',\n",
       "       '도봉구', '동대문구', '양천구', '영등포구', '중랑구', '마포구', '강동구', '구로구', '서대문구', '성동구',\n",
       "       '용산구', '강북구', '광진구', '기타', '종로구', '금천구', '중구', '경기도', '종랑구'],\n",
       "      dtype='object')"
      ]
     },
     "execution_count": 178,
     "metadata": {},
     "output_type": "execute_result"
    }
   ],
   "source": [
    "# 서울에서 확진판정을 받은 데이터이기 때문에 거주지가 서울이 아닐 수도 있습니다.\n",
    "# 거주지 별로 서울시에 해당되는 데이터만 따로 가져옵니다.\n",
    "gu_count.index"
   ]
  },
  {
   "cell_type": "code",
   "execution_count": 183,
   "metadata": {},
   "outputs": [
    {
     "data": {
      "text/plain": [
       "['송파구',\n",
       " '강서구',\n",
       " '관악구',\n",
       " '강남구',\n",
       " '노원구',\n",
       " '성북구',\n",
       " '서초구',\n",
       " '동작구',\n",
       " '은평구',\n",
       " '도봉구',\n",
       " '동대문구',\n",
       " '양천구',\n",
       " '영등포구',\n",
       " '중랑구',\n",
       " '마포구',\n",
       " '강동구',\n",
       " '구로구',\n",
       " '서대문구',\n",
       " '성동구',\n",
       " '용산구',\n",
       " '강북구',\n",
       " '광진구',\n",
       " '종로구',\n",
       " '금천구',\n",
       " '중구',\n",
       " '종랑구']"
      ]
     },
     "execution_count": 183,
     "metadata": {},
     "output_type": "execute_result"
    }
   ],
   "source": [
    "gu = gu_count.index.tolist()\n",
    "gu.remove(\"경기도\")\n",
    "gu.remove(\"타시도\")\n",
    "gu.remove(\"기타\")\n",
    "\n",
    "gu"
   ]
  },
  {
   "cell_type": "code",
   "execution_count": 184,
   "metadata": {},
   "outputs": [
    {
     "data": {
      "text/plain": [
       "{'경기도', '기타', '타시도'}"
      ]
     },
     "execution_count": 184,
     "metadata": {},
     "output_type": "execute_result"
    }
   ],
   "source": [
    "# 거주지가 서울이 아닌 지역을 따로 추출합니다.\n",
    "\n",
    "set(gu_count.index) - set(gu)"
   ]
  },
  {
   "cell_type": "code",
   "execution_count": 186,
   "metadata": {
    "collapsed": true
   },
   "outputs": [
    {
     "data": {
      "text/html": [
       "<div>\n",
       "<style scoped>\n",
       "    .dataframe tbody tr th:only-of-type {\n",
       "        vertical-align: middle;\n",
       "    }\n",
       "\n",
       "    .dataframe tbody tr th {\n",
       "        vertical-align: top;\n",
       "    }\n",
       "\n",
       "    .dataframe thead th {\n",
       "        text-align: right;\n",
       "    }\n",
       "</style>\n",
       "<table border=\"1\" class=\"dataframe\">\n",
       "  <thead>\n",
       "    <tr style=\"text-align: right;\">\n",
       "      <th></th>\n",
       "      <th>구</th>\n",
       "      <th>거주지</th>\n",
       "    </tr>\n",
       "  </thead>\n",
       "  <tbody>\n",
       "    <tr>\n",
       "      <th>0</th>\n",
       "      <td>송파구</td>\n",
       "      <td>599</td>\n",
       "    </tr>\n",
       "    <tr>\n",
       "      <th>1</th>\n",
       "      <td>강서구</td>\n",
       "      <td>573</td>\n",
       "    </tr>\n",
       "    <tr>\n",
       "      <th>2</th>\n",
       "      <td>관악구</td>\n",
       "      <td>532</td>\n",
       "    </tr>\n",
       "    <tr>\n",
       "      <th>3</th>\n",
       "      <td>강남구</td>\n",
       "      <td>494</td>\n",
       "    </tr>\n",
       "    <tr>\n",
       "      <th>4</th>\n",
       "      <td>타시도</td>\n",
       "      <td>477</td>\n",
       "    </tr>\n",
       "    <tr>\n",
       "      <th>5</th>\n",
       "      <td>노원구</td>\n",
       "      <td>458</td>\n",
       "    </tr>\n",
       "    <tr>\n",
       "      <th>6</th>\n",
       "      <td>성북구</td>\n",
       "      <td>453</td>\n",
       "    </tr>\n",
       "    <tr>\n",
       "      <th>7</th>\n",
       "      <td>서초구</td>\n",
       "      <td>450</td>\n",
       "    </tr>\n",
       "    <tr>\n",
       "      <th>8</th>\n",
       "      <td>동작구</td>\n",
       "      <td>382</td>\n",
       "    </tr>\n",
       "    <tr>\n",
       "      <th>9</th>\n",
       "      <td>은평구</td>\n",
       "      <td>351</td>\n",
       "    </tr>\n",
       "    <tr>\n",
       "      <th>10</th>\n",
       "      <td>도봉구</td>\n",
       "      <td>308</td>\n",
       "    </tr>\n",
       "    <tr>\n",
       "      <th>11</th>\n",
       "      <td>동대문구</td>\n",
       "      <td>308</td>\n",
       "    </tr>\n",
       "    <tr>\n",
       "      <th>12</th>\n",
       "      <td>양천구</td>\n",
       "      <td>295</td>\n",
       "    </tr>\n",
       "    <tr>\n",
       "      <th>13</th>\n",
       "      <td>영등포구</td>\n",
       "      <td>289</td>\n",
       "    </tr>\n",
       "    <tr>\n",
       "      <th>14</th>\n",
       "      <td>중랑구</td>\n",
       "      <td>283</td>\n",
       "    </tr>\n",
       "    <tr>\n",
       "      <th>15</th>\n",
       "      <td>마포구</td>\n",
       "      <td>282</td>\n",
       "    </tr>\n",
       "    <tr>\n",
       "      <th>16</th>\n",
       "      <td>강동구</td>\n",
       "      <td>270</td>\n",
       "    </tr>\n",
       "    <tr>\n",
       "      <th>17</th>\n",
       "      <td>구로구</td>\n",
       "      <td>269</td>\n",
       "    </tr>\n",
       "    <tr>\n",
       "      <th>18</th>\n",
       "      <td>서대문구</td>\n",
       "      <td>251</td>\n",
       "    </tr>\n",
       "    <tr>\n",
       "      <th>19</th>\n",
       "      <td>성동구</td>\n",
       "      <td>220</td>\n",
       "    </tr>\n",
       "    <tr>\n",
       "      <th>20</th>\n",
       "      <td>용산구</td>\n",
       "      <td>219</td>\n",
       "    </tr>\n",
       "    <tr>\n",
       "      <th>21</th>\n",
       "      <td>강북구</td>\n",
       "      <td>188</td>\n",
       "    </tr>\n",
       "    <tr>\n",
       "      <th>22</th>\n",
       "      <td>광진구</td>\n",
       "      <td>178</td>\n",
       "    </tr>\n",
       "    <tr>\n",
       "      <th>23</th>\n",
       "      <td>기타</td>\n",
       "      <td>172</td>\n",
       "    </tr>\n",
       "    <tr>\n",
       "      <th>24</th>\n",
       "      <td>종로구</td>\n",
       "      <td>125</td>\n",
       "    </tr>\n",
       "    <tr>\n",
       "      <th>25</th>\n",
       "      <td>금천구</td>\n",
       "      <td>117</td>\n",
       "    </tr>\n",
       "    <tr>\n",
       "      <th>26</th>\n",
       "      <td>중구</td>\n",
       "      <td>107</td>\n",
       "    </tr>\n",
       "    <tr>\n",
       "      <th>27</th>\n",
       "      <td>경기도</td>\n",
       "      <td>1</td>\n",
       "    </tr>\n",
       "    <tr>\n",
       "      <th>28</th>\n",
       "      <td>종랑구</td>\n",
       "      <td>1</td>\n",
       "    </tr>\n",
       "  </tbody>\n",
       "</table>\n",
       "</div>"
      ],
      "text/plain": [
       "       구  거주지\n",
       "0    송파구  599\n",
       "1    강서구  573\n",
       "2    관악구  532\n",
       "3    강남구  494\n",
       "4    타시도  477\n",
       "5    노원구  458\n",
       "6    성북구  453\n",
       "7    서초구  450\n",
       "8    동작구  382\n",
       "9    은평구  351\n",
       "10   도봉구  308\n",
       "11  동대문구  308\n",
       "12   양천구  295\n",
       "13  영등포구  289\n",
       "14   중랑구  283\n",
       "15   마포구  282\n",
       "16   강동구  270\n",
       "17   구로구  269\n",
       "18  서대문구  251\n",
       "19   성동구  220\n",
       "20   용산구  219\n",
       "21   강북구  188\n",
       "22   광진구  178\n",
       "23    기타  172\n",
       "24   종로구  125\n",
       "25   금천구  117\n",
       "26    중구  107\n",
       "27   경기도    1\n",
       "28   종랑구    1"
      ]
     },
     "execution_count": 186,
     "metadata": {},
     "output_type": "execute_result"
    }
   ],
   "source": [
    "# 구를 전처리 하기 쉽게 컬럼으로 변환하기 위해 reset_index 로 변환합니다.\n",
    "\n",
    "df_gu = gu_count.reset_index()\n",
    "df_gu.columns = [\"구\",\"거주지\"]\n",
    "df_gu"
   ]
  },
  {
   "cell_type": "code",
   "execution_count": 187,
   "metadata": {},
   "outputs": [
    {
     "data": {
      "text/html": [
       "<div>\n",
       "<style scoped>\n",
       "    .dataframe tbody tr th:only-of-type {\n",
       "        vertical-align: middle;\n",
       "    }\n",
       "\n",
       "    .dataframe tbody tr th {\n",
       "        vertical-align: top;\n",
       "    }\n",
       "\n",
       "    .dataframe thead th {\n",
       "        text-align: right;\n",
       "    }\n",
       "</style>\n",
       "<table border=\"1\" class=\"dataframe\">\n",
       "  <thead>\n",
       "    <tr style=\"text-align: right;\">\n",
       "      <th></th>\n",
       "      <th>구</th>\n",
       "      <th>거주지</th>\n",
       "    </tr>\n",
       "  </thead>\n",
       "  <tbody>\n",
       "    <tr>\n",
       "      <th>4</th>\n",
       "      <td>타시도</td>\n",
       "      <td>477</td>\n",
       "    </tr>\n",
       "    <tr>\n",
       "      <th>23</th>\n",
       "      <td>기타</td>\n",
       "      <td>172</td>\n",
       "    </tr>\n",
       "    <tr>\n",
       "      <th>27</th>\n",
       "      <td>경기도</td>\n",
       "      <td>1</td>\n",
       "    </tr>\n",
       "  </tbody>\n",
       "</table>\n",
       "</div>"
      ],
      "text/plain": [
       "      구  거주지\n",
       "4   타시도  477\n",
       "23   기타  172\n",
       "27  경기도    1"
      ]
     },
     "execution_count": 187,
     "metadata": {},
     "output_type": "execute_result"
    }
   ],
   "source": [
    "#isin : ([찾고자하는 리스트값])\n",
    "#  ~ = not 을 의미\n",
    "\n",
    "df_gu[~df_gu[\"구\"].isin(gu)]"
   ]
  },
  {
   "cell_type": "code",
   "execution_count": 194,
   "metadata": {
    "collapsed": true
   },
   "outputs": [
    {
     "data": {
      "text/html": [
       "<div>\n",
       "<style scoped>\n",
       "    .dataframe tbody tr th:only-of-type {\n",
       "        vertical-align: middle;\n",
       "    }\n",
       "\n",
       "    .dataframe tbody tr th {\n",
       "        vertical-align: top;\n",
       "    }\n",
       "\n",
       "    .dataframe thead th {\n",
       "        text-align: right;\n",
       "    }\n",
       "</style>\n",
       "<table border=\"1\" class=\"dataframe\">\n",
       "  <thead>\n",
       "    <tr style=\"text-align: right;\">\n",
       "      <th></th>\n",
       "      <th>구</th>\n",
       "      <th>거주지</th>\n",
       "    </tr>\n",
       "  </thead>\n",
       "  <tbody>\n",
       "    <tr>\n",
       "      <th>0</th>\n",
       "      <td>송파구</td>\n",
       "      <td>599</td>\n",
       "    </tr>\n",
       "    <tr>\n",
       "      <th>1</th>\n",
       "      <td>강서구</td>\n",
       "      <td>573</td>\n",
       "    </tr>\n",
       "    <tr>\n",
       "      <th>2</th>\n",
       "      <td>관악구</td>\n",
       "      <td>532</td>\n",
       "    </tr>\n",
       "    <tr>\n",
       "      <th>3</th>\n",
       "      <td>강남구</td>\n",
       "      <td>494</td>\n",
       "    </tr>\n",
       "    <tr>\n",
       "      <th>4</th>\n",
       "      <td>타시도</td>\n",
       "      <td>477</td>\n",
       "    </tr>\n",
       "    <tr>\n",
       "      <th>5</th>\n",
       "      <td>노원구</td>\n",
       "      <td>458</td>\n",
       "    </tr>\n",
       "    <tr>\n",
       "      <th>6</th>\n",
       "      <td>성북구</td>\n",
       "      <td>453</td>\n",
       "    </tr>\n",
       "    <tr>\n",
       "      <th>7</th>\n",
       "      <td>서초구</td>\n",
       "      <td>450</td>\n",
       "    </tr>\n",
       "    <tr>\n",
       "      <th>8</th>\n",
       "      <td>동작구</td>\n",
       "      <td>382</td>\n",
       "    </tr>\n",
       "    <tr>\n",
       "      <th>9</th>\n",
       "      <td>은평구</td>\n",
       "      <td>351</td>\n",
       "    </tr>\n",
       "    <tr>\n",
       "      <th>10</th>\n",
       "      <td>도봉구</td>\n",
       "      <td>308</td>\n",
       "    </tr>\n",
       "    <tr>\n",
       "      <th>11</th>\n",
       "      <td>동대문구</td>\n",
       "      <td>308</td>\n",
       "    </tr>\n",
       "    <tr>\n",
       "      <th>12</th>\n",
       "      <td>양천구</td>\n",
       "      <td>295</td>\n",
       "    </tr>\n",
       "    <tr>\n",
       "      <th>13</th>\n",
       "      <td>영등포구</td>\n",
       "      <td>289</td>\n",
       "    </tr>\n",
       "    <tr>\n",
       "      <th>14</th>\n",
       "      <td>중랑구</td>\n",
       "      <td>283</td>\n",
       "    </tr>\n",
       "    <tr>\n",
       "      <th>15</th>\n",
       "      <td>마포구</td>\n",
       "      <td>282</td>\n",
       "    </tr>\n",
       "    <tr>\n",
       "      <th>16</th>\n",
       "      <td>강동구</td>\n",
       "      <td>270</td>\n",
       "    </tr>\n",
       "    <tr>\n",
       "      <th>17</th>\n",
       "      <td>구로구</td>\n",
       "      <td>269</td>\n",
       "    </tr>\n",
       "    <tr>\n",
       "      <th>18</th>\n",
       "      <td>서대문구</td>\n",
       "      <td>251</td>\n",
       "    </tr>\n",
       "    <tr>\n",
       "      <th>19</th>\n",
       "      <td>성동구</td>\n",
       "      <td>220</td>\n",
       "    </tr>\n",
       "    <tr>\n",
       "      <th>20</th>\n",
       "      <td>용산구</td>\n",
       "      <td>219</td>\n",
       "    </tr>\n",
       "    <tr>\n",
       "      <th>21</th>\n",
       "      <td>강북구</td>\n",
       "      <td>188</td>\n",
       "    </tr>\n",
       "    <tr>\n",
       "      <th>22</th>\n",
       "      <td>광진구</td>\n",
       "      <td>178</td>\n",
       "    </tr>\n",
       "    <tr>\n",
       "      <th>23</th>\n",
       "      <td>타시도</td>\n",
       "      <td>172</td>\n",
       "    </tr>\n",
       "    <tr>\n",
       "      <th>24</th>\n",
       "      <td>종로구</td>\n",
       "      <td>125</td>\n",
       "    </tr>\n",
       "    <tr>\n",
       "      <th>25</th>\n",
       "      <td>금천구</td>\n",
       "      <td>117</td>\n",
       "    </tr>\n",
       "    <tr>\n",
       "      <th>26</th>\n",
       "      <td>중구</td>\n",
       "      <td>107</td>\n",
       "    </tr>\n",
       "    <tr>\n",
       "      <th>27</th>\n",
       "      <td>타시도</td>\n",
       "      <td>1</td>\n",
       "    </tr>\n",
       "    <tr>\n",
       "      <th>28</th>\n",
       "      <td>중랑구</td>\n",
       "      <td>1</td>\n",
       "    </tr>\n",
       "  </tbody>\n",
       "</table>\n",
       "</div>"
      ],
      "text/plain": [
       "       구  거주지\n",
       "0    송파구  599\n",
       "1    강서구  573\n",
       "2    관악구  532\n",
       "3    강남구  494\n",
       "4    타시도  477\n",
       "5    노원구  458\n",
       "6    성북구  453\n",
       "7    서초구  450\n",
       "8    동작구  382\n",
       "9    은평구  351\n",
       "10   도봉구  308\n",
       "11  동대문구  308\n",
       "12   양천구  295\n",
       "13  영등포구  289\n",
       "14   중랑구  283\n",
       "15   마포구  282\n",
       "16   강동구  270\n",
       "17   구로구  269\n",
       "18  서대문구  251\n",
       "19   성동구  220\n",
       "20   용산구  219\n",
       "21   강북구  188\n",
       "22   광진구  178\n",
       "23   타시도  172\n",
       "24   종로구  125\n",
       "25   금천구  117\n",
       "26    중구  107\n",
       "27   타시도    1\n",
       "28   중랑구    1"
      ]
     },
     "execution_count": 194,
     "metadata": {},
     "output_type": "execute_result"
    }
   ],
   "source": [
    "# 서울에서 확진 받은 사람 중 서울 vs 타지역을 비교해 보기 위해\n",
    "# \"지역\"이라는 새로운 컬럼을 만들어 서울지역이 아니라면 \"타지역\" 이라는 값을 넣어줍니다. \n",
    "# .loc[행인덱스]\n",
    "# .loc[행, 열]\n",
    "# .loc[조건, 열]\n",
    "# df.loc[~df[\"거주지\"].isin(gu)]\n",
    "# df.loc[df[\"지역\"].isnull(), \"지역\"] = \"타지역\"\n",
    "df_gu.loc[df_gu[\"구\"] == \"종랑구\",\"구\"] = \"중랑구\"\n",
    "df_gu.loc[df_gu[\"구\"] == \"타시도\",\"구\"] = \"타시도\"\n",
    "df_gu.loc[df_gu[\"구\"] == \"경기도\",\"구\"] = \"타시도\"\n",
    "df_gu.loc[df_gu[\"구\"] == \"기타\",\"구\"] = \"타시도\"\n",
    "df_gu\n"
   ]
  },
  {
   "cell_type": "code",
   "execution_count": 202,
   "metadata": {
    "scrolled": true
   },
   "outputs": [],
   "source": [
    "# 위의 방법으로 할수도 있고 아래의 방법으로 만들수도 있습니다.\n",
    "# 함수 혹은 익명함수를 사용하는 방법으로 \"타지역\" 값을 만들 수도 있습니다.\n",
    "# df[\"지역\"]\n",
    "df[\"지역\"] = df[\"거주지\"]\n",
    "df.loc[df[\"지역\"] == \"종랑구\",\"지역\"] = \"중랑구\"\n",
    "df.loc[df[\"지역\"] == \"타시도\",\"지역\"] = \"타시도\"\n",
    "df.loc[df[\"지역\"] == \"경기도\",\"지역\"] = \"타시도\"\n",
    "df_gu.loc[df[\"지역\"] == \"기타\",\"지역\"] = \"타시도\""
   ]
  },
  {
   "cell_type": "code",
   "execution_count": 203,
   "metadata": {
    "scrolled": false
   },
   "outputs": [
    {
     "data": {
      "text/plain": [
       "<matplotlib.axes._subplots.AxesSubplot at 0x14eb87a8d60>"
      ]
     },
     "execution_count": 203,
     "metadata": {},
     "output_type": "execute_result"
    },
    {
     "data": {
      "image/png": "[encoded data removed]",
      "text/plain": [
       "<Figure size 720x432 with 1 Axes>"
      ]
     },
     "metadata": {
      "image/png": {
       "height": 373,
       "width": 619
      },
      "needs_background": "light"
     },
     "output_type": "display_data"
    }
   ],
   "source": [
    "# \"지역\" 컬럼으로 확진자 빈도수를 구합니다.\n",
    "# gu_etc_count\n",
    "df[\"지역\"].value_counts().sort_values().plot.barh(figsize=(10,6),title=\"구별 확진자 수\")"
   ]
  },
  {
   "cell_type": "code",
   "execution_count": null,
   "metadata": {},
   "outputs": [],
   "source": [
    "# 위에서 구한 빈도수를 막대그래프로 그립니다.\n"
   ]
  },
  {
   "cell_type": "markdown",
   "metadata": {},
   "source": [
    "## 접촉력"
   ]
  },
  {
   "cell_type": "code",
   "execution_count": 217,
   "metadata": {},
   "outputs": [
    {
     "data": {
      "text/plain": [
       "기타 확진자 접촉              1490\n",
       "감염경로 조사중                867\n",
       "성북구 사랑제일교회 관련           641\n",
       "확인 중                    586\n",
       "해외 접촉 추정                404\n",
       "                       ... \n",
       "#935 접촉자                  1\n",
       "#7280 접촉(추정)              1\n",
       "#8646 접촉                  1\n",
       "#83 접촉                    1\n",
       "고양시 반석교회 관련 (케네디상가)       1\n",
       "Name: 접촉력, Length: 410, dtype: int64"
      ]
     },
     "execution_count": 217,
     "metadata": {},
     "output_type": "execute_result"
    }
   ],
   "source": [
    "# 접촉력 빈도수를 구합니다.\n",
    "df[\"접촉력\"].value_counts()"
   ]
  },
  {
   "cell_type": "code",
   "execution_count": 218,
   "metadata": {},
   "outputs": [
    {
     "data": {
      "text/plain": [
       "array(['기타 확진자 접촉', '감염경로 조사중', '동작구 임용단기학원 관련', '동대문구 체육시설 관련',\n",
       "       '강서구 댄스교습관련 시설', '타시도 확진자 접촉', '해외 유입', '서초구 건설회사 관련', '소규모 지인모임',\n",
       "       '서초구 사우나Ⅱ 관련', '강서구 댄스교습관련 시설 ', '동작구 임용단기고시 관련', '어플소모임 관련',\n",
       "       '마포구 홍대새교회 관련', '강서구 댄스교습관련 시설(서울대효병원)', '강서구 가족 관련',\n",
       "       '동창 운동 모임 관련', '노원구 가족관련', '강남구 연기학원 관련', '중랑구 실내 체육시설 Ⅱ 관련',\n",
       "       '노원구청 관련', '수도권산악회(11월) 관련 ', '중구 제조업공장 관련', '연세대 학생 관련',\n",
       "       '서대문구 요양시설 관련', '송파구 사우나 관련', '마포구 소재 노인복지시설 관련', '강남구 음식점Ⅱ 관련',\n",
       "       '삼성서울병원 관련', '강서구 경로당 관련', '서초구 사우나 관련', '강서구 소재 병원관련(11월)',\n",
       "       '지인-가족전파', '중구 소재 보람상조회사 관련', '어름 소모임 관련', '어플 소모임 관련',\n",
       "       '중랑구 체육시설 Ⅱ 관련', '용산구 국군복지단 관련', '중구 소재 상조회사 관련', '성동구 소재 PC방 관련',\n",
       "       '동작구 모조카페 관련', '마포구 홍대세교회관련', '수도권 지인모임(11월) 관련', '중구 교회 관련',\n",
       "       '중랑구 실내체육시설 관련', '마포구 홍대세교회 관련', '동대문구 고등학교(마포구 홍대 새교회관련)',\n",
       "       '감염경로 조사 중', '노원구 의료기관 관련', '강남구 헬스장 관련', '성북구 가족 관련',\n",
       "       '송파구 잠언의료기(강남구CJ텔레닉스)', '수도권산악회(11월) 관련', '동작구 교회 기도처 관련',\n",
       "       '동작구 모조카페', '성동구 금호노인요양원 관련', '동대문구 에이스희망케어센터 관련', '서울대병원 발생 관련',\n",
       "       '도봉구 의류업작업장 관련', '동대문구 고등학교 관련', '성동구 체육시설 관련', '중랑구 체육시설 관련',\n",
       "       '서초구 소재 교회/교육원 관련', '서울시청(11월) 관련', '동대문구 고등학교(마포구 홍대새교회 관련)',\n",
       "       '서초구 어린이집 관련', '동작구 가족관련(11월)', '도봉구 청련사 관련', '송파구 지인강원여행모임',\n",
       "       '성동구 시장관련', '영등포구 증권회사 관련', '용산구 국군복지단', '노원구 가족 관련',\n",
       "       '서초구 소재 교회,교육원관련', '수도권 미술대학원/아이스하키', '송파구 지인강원여행모임 관련',\n",
       "       '강서구 지인모임관련(11월)', '영등포구 직장관련', '도봉구 소재 종교시설', '도봉구 의류업 작업장 관련',\n",
       "       '송파구 잠언의료기[강남구CJ텔레닉스]', '송파구 소재 병원관련', '강동구 소재 건설현장 관련',\n",
       "       '강서구 사우나 관련', '강남구 콜센터 관련', '생일파티모임관련', '타시도 확진자 접촉[충남아산전기공사업체관련]',\n",
       "       '서울음악 교습 관련', '강서구 보험회사 관련', '노원구 재가요양서비스 관련', '성동구 시장 관련',\n",
       "       '송파구 시장 관련', '강남구 역삼역 관련', '강남구 럭키사우나 관련', '기타 확진자 접촉[강남구제약회사관련]',\n",
       "       '영등포구 가족관련[송파구소재건설현장)', '관악구 삼모스포렉스Ⅱ', '용인시 동문골프 모임',\n",
       "       '용산구 소재 의류업체', '서초구 빌딩 관련', '강서구 직장 관련', '송파구 잠언의료기(CJ텔레닉스)',\n",
       "       '종로구 녹음실 관련', '송파구 소재 교회관련', '동대문구 한국산업인력공단', '언론인 관련', '제주도 지인모임',\n",
       "       '구로구 가족관련', '구로구 가족관련[부천무용학원관련]', '영등포구 가족 관련(송파구소재 건설현장]',\n",
       "       '기타확진자 접촉', '은평구 방문교사 관련', '기타 확진자 접촉[경기도SRC재활병원]', '강남서초 지인모임',\n",
       "       '도봉구 가족 관련', '수도권 지인모임 Ⅱ', '중구 소재 콜센터', '수도권 지인모임 관련Ⅱ',\n",
       "       '영등포구 가족관련', '서대문구 소재 장례식장', '부천무용학원관련[구로구 가족관련]',\n",
       "       '강남구 CJ텔레닉스[잠언의료기]', '수도권 지인모임관련', '도봉구 예마루데이케어센터', '도봉구 다나병원',\n",
       "       '강남구 CJ텔레닉스', '송파구 잠언의료기', '강남구 CJ텔레닉스 관련', '강동구 행복데이케어센터',\n",
       "       '중랑구 이마트 상봉점', '해외 접촉 추정', '영등포구 방문판매업체 관련', '강남구 해냄세무회계',\n",
       "       '동작구 가족관련', '관악구 식당관련', '영등포구 소모임', '송파구 서민국수', '중구 소재 빌딩 관련',\n",
       "       '마포구 서울디자인 고등학교', '타시도 확진자 접촉[강원강릉시지인모임]', '강남승광빌딩 관련',\n",
       "       '관악구 사랑나무 어린이집', '관악구 큰믿음유신감리교회', '동대문구 성경모임(발산대우주어린이집)',\n",
       "       '강북구 북서울 꿈의교회', '강남구 소재 대우디오빌플러스', '영등포구 LG트윈타워', '부산시 방문주사 관련',\n",
       "       '서초구 소재 카페 관련', '관악구 지인모임', '동작구 부동산회사', '관악구 휘트니스 관련', '강남구 삼성화재',\n",
       "       '양천구 양천경찰서', '서초구 LG 유플러스', '고양시부부관련', '관악구 가족 관련', '관악구 식당 관련',\n",
       "       '고양시부부관련(마포구어린이집&서초구우체국)', '관악구가족 관련(가가호호데이케어센터)', '관악구 삼모스포렉스',\n",
       "       '신도림 역사 관련', '강남구 디와이디벨로먼트', '동대문구 성경모임', '송파구 우리교회', '중랑구 서울의료원',\n",
       "       '종로구 서울대병원', '성동구 덕수고 야구부', '프로그래머 지인모임', '강남구 신도벤처타워',\n",
       "       '강남구 K보건산업', '건축설명회', '종로구청 관련', '강남구 통신판매업', '도봉구 소재 아파트 관련',\n",
       "       '영등포 소재 증권회사', '서대문구 세브란스병원', '영등포구 소재 마트 관련', '강남구 소재 금융회사',\n",
       "       '동작구 요양시설 관련', '9월 송파구 지인모임', '은평구 수색성당', '서울지방국세청 관련', '수도권 지인모임',\n",
       "       '서대문구 지인모임', '영등포 지인모임', '관악구 에바다 관련', '광진구 혜민병원', '8.15서울도심집회',\n",
       "       '도봉구 건설현장', '도봉구 운동시설', '송파구 쿠팡 관련', '노원구 빛가온교회 관련', '서초구 장애인교육시설',\n",
       "       '강동구 BF모바일 관련', '영등포구 일련정종 서울포교소', '동작구 진흥글로벌', '구로구 아파트 관련',\n",
       "       'KT가좌지사 관련', '성북구 사랑제일교회 관련', '노원구 기도모임', '관악구 가족모임',\n",
       "       '영등포구 국회출입기자관련', '은평구 헤어콕 관련', '송파구 소재병원', '극단 산 관련', '영등포구 권능교회',\n",
       "       '강동구 소재 병원', '다래경매 관련', '성북구 체대입시 관련', '성북구 요양시설', '중구소재 은행 관련',\n",
       "       '중랑구 소재 체육시설', '동작구 소재 서울신학교', '동작구 닥터큐 관련', '용인시 우리제일교회 관련',\n",
       "       '노원구 손해보험 관련', '구로구 보성운수', '강서구 서울대효요양병원', '강북구 일가족', '강서구 보안회사',\n",
       "       '롯데리아 종사자 모임', '강남구 소재 아파트', '제주 게스트하우스 관련', '확인 중', '성북구 벧엘장로교회',\n",
       "       '관악구 김혜근의원', '동대문구 sk탁구클럽', '동작구 스터디카페', '군인권센터', '여의도 순복음교회 관련',\n",
       "       '중구 보험회사(현대해상)', '강서구 병원관련', '종로구 혜화경찰서 관련', '양천구 되새김교회 관련',\n",
       "       '현대커머셜', '영등포 IFC몰 오케스트로', '고양시 반석교회(케네디상가) 관련', '롯데 자산개발 관련',\n",
       "       '골드트레인', '한양대병원', '강동구 어린이집', '은평구 성경공부모임', '관악구 요양병원',\n",
       "       '고대 안암병원 관련', '마포구 푸본생명콜센터', '성동구 가족관련', '용인시 우리제일교회', '골드트레인 관련',\n",
       "       '양천구 되새김 교회', '고양시 반석교회(케네디상가)', '중구 통일상가', '고양시 반석교회 관련 (케네디상가)',\n",
       "       '강남구 판매업소(골드트레인)', '양천구 되새김교회', '양천구 확진자 접촉', '영등포구 확진자 접촉',\n",
       "       '강남구 확진자 접촉', '강남구 판매업소', '광진구 확진자 접촉', '고양시 반석교회 관련(케네디상가)',\n",
       "       '구로구 확진자 접촉', '종로구 확진자 접촉', '성북구 확진자 접촉', '서초구 확진자 접촉',\n",
       "       '마포구 확진자 접촉', '#14483 접촉', '#14488 접촉', '도봉구 가족관련', '강남구 커피전문점',\n",
       "       '선교회 소모임', '도봉구 확진자 접촉', '송파구 교회관련', '강서구 확진자 접촉', '송파구 확진자 접촉',\n",
       "       '종로구 지인모임 신명투자', '강서구 요양시설관련', '강남구 사무실 K빌딩', '송파구 지인모임',\n",
       "       '관악구 확진자 접촉', '중구 확진자 접촉', '강북구 확진자 접촉', '관악구 사무실 관련',\n",
       "       '은평구 확진자 접촉', '강남구 사무실 관련', '강남역삼동 금융회사', '확인중', '강서구 요양시설 관련',\n",
       "       '성동구 확진자 접촉', '강남구 이동통신 종사자', '강남구 역삼동 모임', '용산구 확진자 접촉',\n",
       "       '왕성교회 관련', '중랑구 일가족 관련', '관악구 일가족 관련', '대전 꿈꾸는 교회', '리치웨이 관련',\n",
       "       '동작구 확진자 접촉', '금천구 확진자 접촉', '요양시설 관련', '강동구 확진자 접촉', '시청역 관련',\n",
       "       '대자연코리아', '의왕 물류센터 관련', '금천구 도정기 회사 관련', '양천구 운동시설 관련',\n",
       "       '대전 다단계 관련', '오렌지라이프 관련', '수도권 개척교회 관련', '타시도 확진자 접촉자',\n",
       "       '연아나뉴스클래스 관련', '한국대학생선교회 관련', '해외접촉 추정', 'kb 생명보험 관련', '부천시 쿠팡 관련',\n",
       "       '이태원 클럽 관련', '용인 형제 관련', '삼성화재 관련', '서초구 가족 관련', '안양군포 목회자 관련',\n",
       "       '서초구 가족관련', '영등포 학원 관련', '강남구 동인교회 관련', '원어성경연구회 관련', '#11196 접촉',\n",
       "       '#10054 접촉', '#9800 접촉', '#10044 접촉', '#9641 접촉', '구로구 교회 관련',\n",
       "       '#10407 접촉', '#10015 접촉', '#9364 접촉', '#10377 접촉', '#9287 접촉',\n",
       "       '#10142 접촉', '#9912 접촉', '#9765 접촉', '#10115 접촉', '타시도 확진자 접촉(추정)',\n",
       "       '#8063 접촉', '#10084 접촉', '#8601 접촉', '#8717 접촉', '#9946 접촉',\n",
       "       '콜센터직원 접촉', '#8271 접촉', '#8669 접촉', '#9734 접촉', '#9621 접촉',\n",
       "       '#9572 접촉', '#9525 접촉', '#7914 접촉', '#8791 접촉', '#9219 접촉',\n",
       "       '#8057 접촉', '#8079 접촉', '#8646 접촉', '#9020 접촉', '#8245 접촉',\n",
       "       '#8709 접촉 추정', '#8881 접촉 추정', '구로구 콜센터 관련', '#8486 접촉', '동대문구 관련',\n",
       "       '#8196 접촉', '#8138 접촉', '구로구 콜센터 접촉', '#8044 접촉', '해외 접촉',\n",
       "       '#7923 접촉', '신천지 추정', '#7573 접축 추정', '#6959 접촉(추정)',\n",
       "       '#7280 접촉(추정)', '#7500 접촉(추정)', '#6727 첩촉', '대구 거주', '#6832 접촉자',\n",
       "       '#6921접촉자', '#935 접촉자', '#6937 접촉자', '성동구 아파트 관련', '대구 방문',\n",
       "       '부동산 중개 법인 관련', '여의도 건설현장 관련', '대구 확진자 접촉', '명성교회 관련',\n",
       "       '#794 접촉(추정)', '#2621번 접촉', '#1247 접촉(추정)', '부동산 중개업 관련', '쇼핑몰 관련',\n",
       "       '은평구 병원 관련', '경찰병원관련', '서울재생병원 관련', '신천지대구교회 관련', '#794 접촉자',\n",
       "       '대구 방문(명성교회)', '#780 접촉(추정)', '#56 접촉', '#136 접촉', '대구 거주자',\n",
       "       '#6 접촉(추정)', '#30 접촉', '#29 접촉', '#83 접촉', '#6 접촉', '#5 접촉',\n",
       "       '#3 접촉'], dtype=object)"
      ]
     },
     "execution_count": 218,
     "metadata": {},
     "output_type": "execute_result"
    }
   ],
   "source": [
    "# 접촉력의 unique 값만 구합니다.\n",
    "df[\"접촉력\"].unique()"
   ]
  },
  {
   "cell_type": "code",
   "execution_count": 220,
   "metadata": {},
   "outputs": [
    {
     "data": {
      "text/html": [
       "<div>\n",
       "<style scoped>\n",
       "    .dataframe tbody tr th:only-of-type {\n",
       "        vertical-align: middle;\n",
       "    }\n",
       "\n",
       "    .dataframe tbody tr th {\n",
       "        vertical-align: top;\n",
       "    }\n",
       "\n",
       "    .dataframe thead th {\n",
       "        text-align: right;\n",
       "    }\n",
       "</style>\n",
       "<table border=\"1\" class=\"dataframe\">\n",
       "  <thead>\n",
       "    <tr style=\"text-align: right;\">\n",
       "      <th></th>\n",
       "      <th>연번</th>\n",
       "      <th>환자</th>\n",
       "      <th>확진일</th>\n",
       "      <th>거주지</th>\n",
       "      <th>여행력</th>\n",
       "      <th>접촉력</th>\n",
       "      <th>퇴원현황</th>\n",
       "      <th>확진일자</th>\n",
       "      <th>월</th>\n",
       "      <th>주</th>\n",
       "      <th>지역</th>\n",
       "    </tr>\n",
       "  </thead>\n",
       "  <tbody>\n",
       "    <tr>\n",
       "      <th>4694</th>\n",
       "      <td>3958</td>\n",
       "      <td>20163</td>\n",
       "      <td>8.31.</td>\n",
       "      <td>양천구</td>\n",
       "      <td>-</td>\n",
       "      <td>확인 중</td>\n",
       "      <td>퇴원</td>\n",
       "      <td>2020-08-31</td>\n",
       "      <td>8</td>\n",
       "      <td>36</td>\n",
       "      <td>양천구</td>\n",
       "    </tr>\n",
       "    <tr>\n",
       "      <th>4695</th>\n",
       "      <td>3957</td>\n",
       "      <td>20141</td>\n",
       "      <td>8.31.</td>\n",
       "      <td>은평구</td>\n",
       "      <td>-</td>\n",
       "      <td>확인 중</td>\n",
       "      <td>퇴원</td>\n",
       "      <td>2020-08-31</td>\n",
       "      <td>8</td>\n",
       "      <td>36</td>\n",
       "      <td>은평구</td>\n",
       "    </tr>\n",
       "    <tr>\n",
       "      <th>4696</th>\n",
       "      <td>3956</td>\n",
       "      <td>20159</td>\n",
       "      <td>8.31.</td>\n",
       "      <td>용산구</td>\n",
       "      <td>-</td>\n",
       "      <td>확인 중</td>\n",
       "      <td>퇴원</td>\n",
       "      <td>2020-08-31</td>\n",
       "      <td>8</td>\n",
       "      <td>36</td>\n",
       "      <td>용산구</td>\n",
       "    </tr>\n",
       "    <tr>\n",
       "      <th>4700</th>\n",
       "      <td>3952</td>\n",
       "      <td>20130</td>\n",
       "      <td>8.31.</td>\n",
       "      <td>도봉구</td>\n",
       "      <td>-</td>\n",
       "      <td>확인 중</td>\n",
       "      <td>퇴원</td>\n",
       "      <td>2020-08-31</td>\n",
       "      <td>8</td>\n",
       "      <td>36</td>\n",
       "      <td>도봉구</td>\n",
       "    </tr>\n",
       "    <tr>\n",
       "      <th>4706</th>\n",
       "      <td>3946</td>\n",
       "      <td>20039</td>\n",
       "      <td>8.31.</td>\n",
       "      <td>타시도</td>\n",
       "      <td>-</td>\n",
       "      <td>확인 중</td>\n",
       "      <td>퇴원</td>\n",
       "      <td>2020-08-31</td>\n",
       "      <td>8</td>\n",
       "      <td>36</td>\n",
       "      <td>타시도</td>\n",
       "    </tr>\n",
       "    <tr>\n",
       "      <th>...</th>\n",
       "      <td>...</td>\n",
       "      <td>...</td>\n",
       "      <td>...</td>\n",
       "      <td>...</td>\n",
       "      <td>...</td>\n",
       "      <td>...</td>\n",
       "      <td>...</td>\n",
       "      <td>...</td>\n",
       "      <td>...</td>\n",
       "      <td>...</td>\n",
       "      <td>...</td>\n",
       "    </tr>\n",
       "    <tr>\n",
       "      <th>8596</th>\n",
       "      <td>56</td>\n",
       "      <td>1768</td>\n",
       "      <td>2.25.</td>\n",
       "      <td>은평구</td>\n",
       "      <td>-</td>\n",
       "      <td>확인중</td>\n",
       "      <td>퇴원</td>\n",
       "      <td>2020-02-25</td>\n",
       "      <td>2</td>\n",
       "      <td>9</td>\n",
       "      <td>은평구</td>\n",
       "    </tr>\n",
       "    <tr>\n",
       "      <th>8610</th>\n",
       "      <td>42</td>\n",
       "      <td>1370</td>\n",
       "      <td>2.25.</td>\n",
       "      <td>송파구</td>\n",
       "      <td>-</td>\n",
       "      <td>확인중</td>\n",
       "      <td>퇴원</td>\n",
       "      <td>2020-02-25</td>\n",
       "      <td>2</td>\n",
       "      <td>9</td>\n",
       "      <td>송파구</td>\n",
       "    </tr>\n",
       "    <tr>\n",
       "      <th>8613</th>\n",
       "      <td>39</td>\n",
       "      <td>924</td>\n",
       "      <td>2.25.</td>\n",
       "      <td>금천구</td>\n",
       "      <td>-</td>\n",
       "      <td>확인중</td>\n",
       "      <td>퇴원</td>\n",
       "      <td>2020-02-25</td>\n",
       "      <td>2</td>\n",
       "      <td>9</td>\n",
       "      <td>금천구</td>\n",
       "    </tr>\n",
       "    <tr>\n",
       "      <th>8614</th>\n",
       "      <td>38</td>\n",
       "      <td>907</td>\n",
       "      <td>2.25.</td>\n",
       "      <td>타시도</td>\n",
       "      <td>-</td>\n",
       "      <td>확인중</td>\n",
       "      <td>퇴원</td>\n",
       "      <td>2020-02-25</td>\n",
       "      <td>2</td>\n",
       "      <td>9</td>\n",
       "      <td>타시도</td>\n",
       "    </tr>\n",
       "    <tr>\n",
       "      <th>8617</th>\n",
       "      <td>35</td>\n",
       "      <td>870</td>\n",
       "      <td>2.25.</td>\n",
       "      <td>은평구</td>\n",
       "      <td>-</td>\n",
       "      <td>확인중</td>\n",
       "      <td>퇴원</td>\n",
       "      <td>2020-02-25</td>\n",
       "      <td>2</td>\n",
       "      <td>9</td>\n",
       "      <td>은평구</td>\n",
       "    </tr>\n",
       "  </tbody>\n",
       "</table>\n",
       "<p>628 rows × 11 columns</p>\n",
       "</div>"
      ],
      "text/plain": [
       "        연번     환자    확진일  거주지 여행력   접촉력 퇴원현황       확진일자  월   주   지역\n",
       "4694  3958  20163  8.31.  양천구   -  확인 중   퇴원 2020-08-31  8  36  양천구\n",
       "4695  3957  20141  8.31.  은평구   -  확인 중   퇴원 2020-08-31  8  36  은평구\n",
       "4696  3956  20159  8.31.  용산구   -  확인 중   퇴원 2020-08-31  8  36  용산구\n",
       "4700  3952  20130  8.31.  도봉구   -  확인 중   퇴원 2020-08-31  8  36  도봉구\n",
       "4706  3946  20039  8.31.  타시도   -  확인 중   퇴원 2020-08-31  8  36  타시도\n",
       "...    ...    ...    ...  ...  ..   ...  ...        ... ..  ..  ...\n",
       "8596    56   1768  2.25.  은평구   -   확인중   퇴원 2020-02-25  2   9  은평구\n",
       "8610    42   1370  2.25.  송파구   -   확인중   퇴원 2020-02-25  2   9  송파구\n",
       "8613    39    924  2.25.  금천구   -   확인중   퇴원 2020-02-25  2   9  금천구\n",
       "8614    38    907  2.25.  타시도   -   확인중   퇴원 2020-02-25  2   9  타시도\n",
       "8617    35    870  2.25.  은평구   -   확인중   퇴원 2020-02-25  2   9  은평구\n",
       "\n",
       "[628 rows x 11 columns]"
      ]
     },
     "execution_count": 220,
     "metadata": {},
     "output_type": "execute_result"
    }
   ],
   "source": [
    "# \"확인\" 이 들어가는 접촉력만 찾습니다.\n",
    "df[df[\"접촉력\"].str.contains(\"확인\")]"
   ]
  },
  {
   "cell_type": "code",
   "execution_count": 225,
   "metadata": {},
   "outputs": [],
   "source": [
    "# '확인 중', '확인중' => \"확인 중\" 으로 변경합니다.\n",
    "# or => |\n",
    "# and => &\n",
    "\n",
    "df.loc[df[\"접촉력\"].str.contains(\"확인|조사\"),\"접촉력\"] = \"확인 중\""
   ]
  },
  {
   "cell_type": "code",
   "execution_count": 226,
   "metadata": {},
   "outputs": [
    {
     "data": {
      "text/plain": [
       "1       확인 중\n",
       "5       확인 중\n",
       "10      확인 중\n",
       "18      확인 중\n",
       "35      확인 중\n",
       "        ... \n",
       "8596    확인 중\n",
       "8610    확인 중\n",
       "8613    확인 중\n",
       "8614    확인 중\n",
       "8617    확인 중\n",
       "Name: 접촉력, Length: 1499, dtype: object"
      ]
     },
     "execution_count": 226,
     "metadata": {},
     "output_type": "execute_result"
    }
   ],
   "source": [
    "# \"확인\" 이 들어가는 접촉력만 찾습니다.\n",
    "\n",
    "df.loc[df[\"접촉력\"].str.contains(\"확인\"),\"접촉력\"]"
   ]
  },
  {
   "cell_type": "code",
   "execution_count": 230,
   "metadata": {},
   "outputs": [],
   "source": [
    "# 접촉력 빈도수를 시각화 합니다.\n",
    "\n",
    "# contact_count\n",
    "contact_count = df[\"접촉력\"].value_counts()"
   ]
  },
  {
   "cell_type": "code",
   "execution_count": 231,
   "metadata": {},
   "outputs": [
    {
     "data": {
      "text/plain": [
       "확인 중                 1499\n",
       "기타 확진자 접촉            1490\n",
       "성북구 사랑제일교회 관련         641\n",
       "해외 접촉 추정              404\n",
       "타시도 확진자 접촉            373\n",
       "강서구 댄스교습관련 시설         146\n",
       "이태원 클럽 관련             139\n",
       "8.15서울도심집회            126\n",
       "리치웨이 관련               119\n",
       "해외 유입                 111\n",
       "동대문구 에이스희망케어센터 관련      71\n",
       "도봉구 다나병원               68\n",
       "서초구 사우나 관련             67\n",
       "강남구 헬스장 관련             66\n",
       "구로구 콜센터 관련             60\n",
       "Name: 접촉력, dtype: int64"
      ]
     },
     "execution_count": 231,
     "metadata": {},
     "output_type": "execute_result"
    }
   ],
   "source": [
    "# 상위 15개만 구합니다.\n",
    "# top_contact\n",
    "contact_count = contact_count.head(15)\n",
    "contact_count"
   ]
  },
  {
   "cell_type": "code",
   "execution_count": null,
   "metadata": {},
   "outputs": [],
   "source": [
    "# 접촉력 빈도수가 높은 목록에 대한 index 값을 구해옵니다.\n"
   ]
  },
  {
   "cell_type": "code",
   "execution_count": null,
   "metadata": {},
   "outputs": [],
   "source": [
    "# 위에서 구한 top_contact 에 해당되는 데이터만 isin 으로 가져옵니다.\n",
    "# top_group\n"
   ]
  },
  {
   "cell_type": "code",
   "execution_count": null,
   "metadata": {},
   "outputs": [],
   "source": [
    "# 접촉력, 월별 빈도수를 groupby 로 구합니다.\n"
   ]
  },
  {
   "cell_type": "markdown",
   "metadata": {},
   "source": [
    "### 감염경로 불명"
   ]
  },
  {
   "cell_type": "code",
   "execution_count": null,
   "metadata": {},
   "outputs": [],
   "source": [
    "# \"접촉력\" 이 \"확인 중\"인 데이터만 구합니다.\n",
    "\n",
    "# df_unknown\n"
   ]
  },
  {
   "cell_type": "code",
   "execution_count": null,
   "metadata": {},
   "outputs": [],
   "source": [
    "# 감염경로 불명이 어느정도인지 봅니다.\n",
    "# unknown_weekly_case\n"
   ]
  },
  {
   "cell_type": "code",
   "execution_count": null,
   "metadata": {},
   "outputs": [],
   "source": [
    "# 전체 확진수를 value_counts 로 구하고 데이터프레임 형태로 만듭니다.\n",
    "# all_weekly_case\n"
   ]
  },
  {
   "cell_type": "code",
   "execution_count": null,
   "metadata": {},
   "outputs": [],
   "source": [
    "# 전체 확진수를 value_counts 로 구하고 데이터프레임 형태로 만듭니다.\n",
    "# unknown_weekly_case\n"
   ]
  },
  {
   "cell_type": "code",
   "execution_count": null,
   "metadata": {},
   "outputs": [],
   "source": [
    "# all_weekly_case 와 unknown_weekly_case 를 비교해 봅니다.\n",
    "\n",
    "# unknown_case\n"
   ]
  },
  {
   "cell_type": "code",
   "execution_count": null,
   "metadata": {},
   "outputs": [],
   "source": [
    "# 위에서 구한 결과를 시각화 합니다.\n"
   ]
  },
  {
   "cell_type": "code",
   "execution_count": null,
   "metadata": {},
   "outputs": [],
   "source": [
    "# 감염경로 \"확인 중\"의 주별 비율\n",
    "\n",
    "# unknown_case\n"
   ]
  },
  {
   "cell_type": "markdown",
   "metadata": {},
   "source": [
    "## 조치사항"
   ]
  },
  {
   "cell_type": "code",
   "execution_count": null,
   "metadata": {},
   "outputs": [],
   "source": [
    "df"
   ]
  },
  {
   "cell_type": "markdown",
   "metadata": {},
   "source": [
    "## 퇴원, 사망여부"
   ]
  },
  {
   "cell_type": "code",
   "execution_count": null,
   "metadata": {},
   "outputs": [],
   "source": [
    "# 조치사항 컬럼을 통해 퇴원과 사망 컬럼을 새로 만듭니다.\n",
    "# 또, 어느 병원에 조치되었는지도 병원 컬럼을 만들어서 담습니다.\n"
   ]
  },
  {
   "cell_type": "code",
   "execution_count": null,
   "metadata": {},
   "outputs": [],
   "source": [
    "# 데이터 수집 시점에서 퇴원하지 못한 환자수\n",
    "\n"
   ]
  },
  {
   "cell_type": "code",
   "execution_count": null,
   "metadata": {},
   "outputs": [],
   "source": [
    "# 퇴원여부 빈도수에 대한 비율을 구합니다.\n"
   ]
  },
  {
   "cell_type": "code",
   "execution_count": null,
   "metadata": {},
   "outputs": [],
   "source": [
    "# 사망여부에 따른 빈도수를 구합니다.\n"
   ]
  },
  {
   "cell_type": "code",
   "execution_count": null,
   "metadata": {},
   "outputs": [],
   "source": [
    "# 사망 여부에 따른 빈도수의 비율을 구합니다.\n"
   ]
  },
  {
   "cell_type": "markdown",
   "metadata": {},
   "source": [
    "## 여행력"
   ]
  },
  {
   "cell_type": "code",
   "execution_count": null,
   "metadata": {},
   "outputs": [],
   "source": [
    "# \"해외\" 라는 컬럼을 만들어 데이터를 전처리 합니다.\n",
    "# \"여행력\"에 \"-\" 문자가 들어가 있으면 결측치로 처리합니다.\n",
    "# df[\"해외\"]\n"
   ]
  },
  {
   "cell_type": "code",
   "execution_count": null,
   "metadata": {},
   "outputs": [],
   "source": [
    "# describe 로 요약을 합니다.\n",
    "# count : 빈도수\n",
    "# unique : 병원수\n",
    "# top : 가장 많은 빈도로 등장하는 텍스트\n",
    "# freq : 가장 많은 빈도의 횟수\n"
   ]
  },
  {
   "cell_type": "markdown",
   "metadata": {},
   "source": [
    "### 여행력이 있는 데이터만 가져와서 서브셋 만들기"
   ]
  },
  {
   "cell_type": "code",
   "execution_count": null,
   "metadata": {},
   "outputs": [],
   "source": [
    "# \"해외\" 컬럼의 값이 결측치가 아닌 데이터만 가져와서 \n",
    "# df_oversea 라는 새로운 데이터프레임에 담습니다.\n",
    "# df_oversea\n"
   ]
  },
  {
   "cell_type": "code",
   "execution_count": null,
   "metadata": {},
   "outputs": [],
   "source": [
    "# 중복되는 지역명이 있는지 확인합니다.\n"
   ]
  },
  {
   "cell_type": "markdown",
   "metadata": {},
   "source": [
    "### 텍스트 데이터 다루기\n",
    "[Working with text data — pandas documentation](https://pandas.pydata.org/pandas-docs/stable/user_guide/text.html#testing-for-strings-that-match-or-contain-a-pattern)"
   ]
  },
  {
   "cell_type": "code",
   "execution_count": null,
   "metadata": {},
   "outputs": [],
   "source": [
    "# 유럽 지역을 방문했다면 유럽이라고 바꿔주기 위해 국가명을 str.contains 로 검색하기 위한 형태로 만듭니다.\n",
    "europe = \"체코, 헝가리, 오스트리아, 이탈리아, 프랑스, 모로코, 독일, 스페인, 영국, 폴란드, 터키, 아일랜드\"\n",
    "europe\n"
   ]
  },
  {
   "cell_type": "code",
   "execution_count": null,
   "metadata": {},
   "outputs": [],
   "source": [
    "# 남미 지역에 해당되는 국가명을 str.contains 로 검색하기 위한 형태로 만듭니다.\n",
    "south_america = \"브라질, 아르헨티아, 칠레, 볼리비아, 멕시코, 페루\"\n",
    "south_america"
   ]
  },
  {
   "cell_type": "code",
   "execution_count": null,
   "metadata": {},
   "outputs": [],
   "source": [
    "# 중복되는 국가나 지역을 특정 텍스트로 변경해서 그룹화 해서 빈도수를 세어볼 예정입니다.\n",
    "# .str.contains 와 .loc 를 사용해서 전처리 합니다.\n",
    "df_oversea.loc[df_oversea[\"해외\"].str.contains(europe), \"해외\"] = \"유럽\"\n",
    "df_oversea.loc[df_oversea[\"해외\"].str.contains(south_america), \"해외\"] = \"남미\"\n",
    "df_oversea.loc[df_oversea[\"해외\"].str.contains(\"중국|우한\"), \"해외\"] = \"중국\"\n",
    "df_oversea.loc[df_oversea[\"해외\"].str.contains(\"아랍에미리트\"), \"해외\"] = \"UAE\"\n",
    "df_oversea.loc[df_oversea[\"해외\"].str.contains(\"필리핀\"), \"해외\"] = \"필리핀\"\n",
    "df_oversea.loc[df_oversea[\"해외\"].str.contains(\"미국\"), \"해외\"] = \"미국\"\n",
    "df_oversea[\"해외\"].value_counts()"
   ]
  },
  {
   "cell_type": "code",
   "execution_count": null,
   "metadata": {},
   "outputs": [],
   "source": [
    "# describe 로 요약을 합니다.\n",
    "# count : 빈도수\n",
    "# unique : 병원수\n",
    "# top : 가장 많은 빈도로 등장하는 텍스트\n",
    "# freq : 가장 많은 빈도의 횟수\n"
   ]
  },
  {
   "cell_type": "code",
   "execution_count": null,
   "metadata": {},
   "outputs": [],
   "source": [
    "# 확진일자, 해외 별 카운트 수를 구합니다.\n",
    "\n",
    "# day_oversea\n"
   ]
  },
  {
   "cell_type": "code",
   "execution_count": null,
   "metadata": {},
   "outputs": [],
   "source": [
    "# 위에서 구한 값을 바탕으로 지역별 누적 확진수를 구합니다.\n",
    "\n",
    "# day_oversea\n"
   ]
  },
  {
   "cell_type": "code",
   "execution_count": null,
   "metadata": {},
   "outputs": [],
   "source": [
    "# 위에서 구한 값을 reset_index() 를 통해 데이터프레임으로 변경하고 \"연번\" 컬럼을 \"확진자수\"로 변경합니다.\n",
    "\n",
    "# df_day_oversea\n"
   ]
  },
  {
   "cell_type": "code",
   "execution_count": null,
   "metadata": {},
   "outputs": [],
   "source": [
    "# \"해외\" 컬럼의 빈도수를 구합니다.\n"
   ]
  },
  {
   "cell_type": "code",
   "execution_count": null,
   "metadata": {},
   "outputs": [],
   "source": [
    "# 위에서 구한 빈도수를 시각화 합니다.\n"
   ]
  },
  {
   "cell_type": "code",
   "execution_count": null,
   "metadata": {},
   "outputs": [],
   "source": []
  },
  {
   "cell_type": "code",
   "execution_count": null,
   "metadata": {},
   "outputs": [],
   "source": [
    "# 확진일자, 해외 별 누적확진 수\n"
   ]
  },
  {
   "cell_type": "code",
   "execution_count": null,
   "metadata": {},
   "outputs": [],
   "source": []
  },
  {
   "cell_type": "code",
   "execution_count": null,
   "metadata": {},
   "outputs": [],
   "source": [
    "# 확진일자별 누적확진 수\n",
    "\n"
   ]
  },
  {
   "cell_type": "code",
   "execution_count": null,
   "metadata": {
    "scrolled": false
   },
   "outputs": [],
   "source": []
  },
  {
   "cell_type": "code",
   "execution_count": null,
   "metadata": {},
   "outputs": [],
   "source": [
    "# \"해외유입 구별 확진자\" 시각화 하기\n",
    "\n"
   ]
  },
  {
   "cell_type": "markdown",
   "metadata": {},
   "source": [
    "### 전체확진수와 해외유입 확진수 비교"
   ]
  },
  {
   "cell_type": "code",
   "execution_count": null,
   "metadata": {},
   "outputs": [],
   "source": [
    "# all_count_gu 변수에 전체 지역의 확진자수 구하기\n"
   ]
  },
  {
   "cell_type": "code",
   "execution_count": null,
   "metadata": {},
   "outputs": [],
   "source": [
    "# 데이터프레임으로 변환하고 컬럼명 변경하기\n"
   ]
  },
  {
   "cell_type": "code",
   "execution_count": null,
   "metadata": {},
   "outputs": [],
   "source": [
    "# 해외유입확진수 구하기\n"
   ]
  },
  {
   "cell_type": "markdown",
   "metadata": {},
   "source": [
    "### merge 를 통해 전체 확진수와 해외유입확진수 비교하기\n",
    "* 이미지 출처 및 Pandas 공식문서 보기 : [How to combine data from multiple tables? — pandas documentation](https://pandas.pydata.org/pandas-docs/stable/getting_started/intro_tutorials/08_combine_dataframes.html#join-tables-using-a-common-identifier)\n",
    "\n",
    "<img src=\"https://pandas.pydata.org/pandas-docs/stable/_images/08_merge_left.svg\">"
   ]
  },
  {
   "cell_type": "code",
   "execution_count": null,
   "metadata": {},
   "outputs": [],
   "source": [
    "# merge 로 합쳐서 전체확진수와 해외유입확진수 비교해 보기\n",
    "\n",
    "# df_all_oversea_case\n"
   ]
  },
  {
   "cell_type": "code",
   "execution_count": null,
   "metadata": {},
   "outputs": [],
   "source": [
    "# 시각화 하기\n"
   ]
  },
  {
   "cell_type": "code",
   "execution_count": null,
   "metadata": {},
   "outputs": [],
   "source": [
    "# df_all_oversea_case[\"해외유입비율\"] 구하기\n"
   ]
  },
  {
   "cell_type": "markdown",
   "metadata": {},
   "source": [
    "### 해외유입 확진자 중 퇴원 여부"
   ]
  },
  {
   "cell_type": "code",
   "execution_count": null,
   "metadata": {},
   "outputs": [],
   "source": [
    "# oversea_finish_count 해외유입 확진자 중 퇴원 여부 구하기\n"
   ]
  },
  {
   "cell_type": "markdown",
   "metadata": {},
   "source": [
    "### 월별 해외 확진자 수"
   ]
  },
  {
   "cell_type": "code",
   "execution_count": null,
   "metadata": {},
   "outputs": [],
   "source": []
  },
  {
   "cell_type": "code",
   "execution_count": null,
   "metadata": {},
   "outputs": [],
   "source": []
  },
  {
   "cell_type": "markdown",
   "metadata": {},
   "source": [
    "### 구와 월별 해외 확진자 수\n",
    "* groupby, crosstab, pivot_table 로 같은 결과의 테이블이 나오도록 구합니다.\n",
    "#### groupby 로 빈도수 구하기"
   ]
  },
  {
   "cell_type": "code",
   "execution_count": null,
   "metadata": {},
   "outputs": [],
   "source": []
  },
  {
   "cell_type": "markdown",
   "metadata": {},
   "source": [
    "#### crosstab 으로 빈도수 구하기"
   ]
  },
  {
   "cell_type": "code",
   "execution_count": null,
   "metadata": {},
   "outputs": [],
   "source": []
  },
  {
   "cell_type": "markdown",
   "metadata": {},
   "source": [
    "#### pivot_table 로 빈도수 구하기"
   ]
  },
  {
   "cell_type": "code",
   "execution_count": null,
   "metadata": {},
   "outputs": [],
   "source": [
    "pd.options.display.max_columns = 30"
   ]
  },
  {
   "cell_type": "code",
   "execution_count": null,
   "metadata": {},
   "outputs": [],
   "source": []
  },
  {
   "cell_type": "markdown",
   "metadata": {},
   "source": [
    "### 해외유입이 많은 지역(구)"
   ]
  },
  {
   "cell_type": "code",
   "execution_count": null,
   "metadata": {
    "scrolled": false
   },
   "outputs": [],
   "source": [
    "# 해외유입이 많은 상위 10개 지역을 구합니다.\n"
   ]
  },
  {
   "cell_type": "code",
   "execution_count": null,
   "metadata": {},
   "outputs": [],
   "source": [
    "# 시각화 하기\n"
   ]
  },
  {
   "cell_type": "markdown",
   "metadata": {},
   "source": [
    "* 범례 위치 조정하기 : [matplotlib.pyplot.legend — Matplotlib 3.1.2 documentation](https://matplotlib.org/3.1.1/api/_as_gen/matplotlib.pyplot.legend.html)"
   ]
  },
  {
   "cell_type": "markdown",
   "metadata": {},
   "source": [
    "### 구별 해외유입 국가 분석하기\n",
    "#### groupby 로 구하기"
   ]
  },
  {
   "cell_type": "code",
   "execution_count": null,
   "metadata": {},
   "outputs": [],
   "source": [
    "group_oversea_gu\n"
   ]
  },
  {
   "cell_type": "markdown",
   "metadata": {},
   "source": [
    "#### pivot table 로 구하기\n",
    "* groupby 로 구한 결과와 같은 결과가 나오게 구합니다."
   ]
  },
  {
   "cell_type": "code",
   "execution_count": null,
   "metadata": {},
   "outputs": [],
   "source": [
    "group_oversea_gu\n"
   ]
  },
  {
   "cell_type": "markdown",
   "metadata": {},
   "source": [
    "#### 일부 구만 따로 보기\n",
    "* 전체는 너무 많기 때문에 특정 구만 따로 봅니다."
   ]
  },
  {
   "cell_type": "code",
   "execution_count": null,
   "metadata": {},
   "outputs": [],
   "source": [
    "# 강남 3구의 입국자는 해외 어느 지역에서 입국했나?\n"
   ]
  },
  {
   "cell_type": "code",
   "execution_count": null,
   "metadata": {},
   "outputs": [],
   "source": [
    "# top_oversea_gu 에 따른 확진수 보기\n"
   ]
  },
  {
   "cell_type": "markdown",
   "metadata": {},
   "source": [
    "### 최근 데이터를 불러와 실습해 보기\n",
    "* 이 실습을 진행하고 계신 여러분들은 이 시점보다 미래에 있겠죠?\n",
    "* 같은 내용의 실습을 최근 데이터로 해보세요!"
   ]
  },
  {
   "cell_type": "code",
   "execution_count": null,
   "metadata": {},
   "outputs": [],
   "source": []
  },
  {
   "cell_type": "code",
   "execution_count": null,
   "metadata": {},
   "outputs": [],
   "source": []
  },
  {
   "cell_type": "code",
   "execution_count": null,
   "metadata": {},
   "outputs": [],
   "source": []
  },
  {
   "cell_type": "code",
   "execution_count": null,
   "metadata": {},
   "outputs": [],
   "source": []
  }
 ],
 "metadata": {
  "kernelspec": {
   "display_name": "Python 3",
   "language": "python",
   "name": "python3"
  },
  "language_info": {
   "codemirror_mode": {
    "name": "ipython",
    "version": 3
   },
   "file_extension": ".py",
   "mimetype": "text/x-python",
   "name": "python",
   "nbconvert_exporter": "python",
   "pygments_lexer": "ipython3",
   "version": "3.8.3"
  },
  "toc": {
   "base_numbering": 1,
   "nav_menu": {},
   "number_sections": true,
   "sideBar": true,
   "skip_h1_title": false,
   "title_cell": "Table of Contents",
   "title_sidebar": "Contents",
   "toc_cell": false,
   "toc_position": {
    "height": "calc(100% - 180px)",
    "left": "10px",
    "top": "150px",
    "width": "237.784px"
   },
   "toc_section_display": true,
   "toc_window_display": false
  },
  "varInspector": {
   "cols": {
    "lenName": 16,
    "lenType": 16,
    "lenVar": 40
   },
   "kernels_config": {
    "python": {
     "delete_cmd_postfix": "",
     "delete_cmd_prefix": "del ",
     "library": "var_list.py",
     "varRefreshCmd": "print(var_dic_list())"
    },
    "r": {
     "delete_cmd_postfix": ") ",
     "delete_cmd_prefix": "rm(",
     "library": "var_list.r",
     "varRefreshCmd": "cat(var_dic_list()) "
    }
   },
   "types_to_exclude": [
    "module",
    "function",
    "builtin_function_or_method",
    "instance",
    "_Feature"
   ],
   "window_display": false
  }
 },
 "nbformat": 4,
 "nbformat_minor": 4
}
